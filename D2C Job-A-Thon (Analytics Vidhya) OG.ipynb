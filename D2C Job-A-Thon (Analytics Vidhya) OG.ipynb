{
 "cells": [
  {
   "cell_type": "markdown",
   "id": "1b352d4d",
   "metadata": {},
   "source": [
    "# Importing Packages "
   ]
  },
  {
   "cell_type": "code",
   "execution_count": 2,
   "id": "f87463ac",
   "metadata": {},
   "outputs": [],
   "source": [
    "import pandas as pd\n",
    "import os\n",
    "import numpy as np\n",
    "import matplotlib.pyplot as plt\n",
    "import seaborn as sns\n",
    "import warnings"
   ]
  },
  {
   "cell_type": "code",
   "execution_count": 3,
   "id": "986736bb",
   "metadata": {},
   "outputs": [],
   "source": [
    "warnings.filterwarnings(\"ignore\")\n",
    "%matplotlib inline"
   ]
  },
  {
   "cell_type": "code",
   "execution_count": 4,
   "id": "0c2384d9",
   "metadata": {},
   "outputs": [],
   "source": [
    "os.chdir(\"C:/Users/Abhie/Desktop/Data Science (BI)/Pandas Python/Job-A-Thon\")"
   ]
  },
  {
   "cell_type": "markdown",
   "id": "0d505a6c",
   "metadata": {},
   "source": [
    "## Loading Train data"
   ]
  },
  {
   "cell_type": "code",
   "execution_count": 5,
   "id": "166bd222",
   "metadata": {},
   "outputs": [],
   "source": [
    "d2c_train= pd.read_csv(\"train_wn75k28.csv\")"
   ]
  },
  {
   "cell_type": "code",
   "execution_count": 7,
   "id": "46886d06",
   "metadata": {},
   "outputs": [
    {
     "data": {
      "text/plain": [
       "(39161, 19)"
      ]
     },
     "execution_count": 7,
     "metadata": {},
     "output_type": "execute_result"
    }
   ],
   "source": [
    "d2c_train.shape"
   ]
  },
  {
   "cell_type": "code",
   "execution_count": 8,
   "id": "e4020a69",
   "metadata": {},
   "outputs": [
    {
     "data": {
      "text/html": [
       "<div>\n",
       "<style scoped>\n",
       "    .dataframe tbody tr th:only-of-type {\n",
       "        vertical-align: middle;\n",
       "    }\n",
       "\n",
       "    .dataframe tbody tr th {\n",
       "        vertical-align: top;\n",
       "    }\n",
       "\n",
       "    .dataframe thead th {\n",
       "        text-align: right;\n",
       "    }\n",
       "</style>\n",
       "<table border=\"1\" class=\"dataframe\">\n",
       "  <thead>\n",
       "    <tr style=\"text-align: right;\">\n",
       "      <th></th>\n",
       "      <th>id</th>\n",
       "      <th>created_at</th>\n",
       "      <th>campaign_var_1</th>\n",
       "      <th>campaign_var_2</th>\n",
       "      <th>products_purchased</th>\n",
       "      <th>signup_date</th>\n",
       "      <th>user_activity_var_1</th>\n",
       "      <th>user_activity_var_2</th>\n",
       "      <th>user_activity_var_3</th>\n",
       "      <th>user_activity_var_4</th>\n",
       "      <th>user_activity_var_5</th>\n",
       "      <th>user_activity_var_6</th>\n",
       "      <th>user_activity_var_7</th>\n",
       "      <th>user_activity_var_8</th>\n",
       "      <th>user_activity_var_9</th>\n",
       "      <th>user_activity_var_10</th>\n",
       "      <th>user_activity_var_11</th>\n",
       "      <th>user_activity_var_12</th>\n",
       "      <th>buy</th>\n",
       "    </tr>\n",
       "  </thead>\n",
       "  <tbody>\n",
       "    <tr>\n",
       "      <th>0</th>\n",
       "      <td>1</td>\n",
       "      <td>2021-01-01</td>\n",
       "      <td>1</td>\n",
       "      <td>2</td>\n",
       "      <td>2.0</td>\n",
       "      <td>2020-09-24</td>\n",
       "      <td>0</td>\n",
       "      <td>0</td>\n",
       "      <td>0</td>\n",
       "      <td>0</td>\n",
       "      <td>0</td>\n",
       "      <td>0</td>\n",
       "      <td>1</td>\n",
       "      <td>1</td>\n",
       "      <td>0</td>\n",
       "      <td>0</td>\n",
       "      <td>0</td>\n",
       "      <td>0</td>\n",
       "      <td>0</td>\n",
       "    </tr>\n",
       "    <tr>\n",
       "      <th>1</th>\n",
       "      <td>2</td>\n",
       "      <td>2021-01-01</td>\n",
       "      <td>2</td>\n",
       "      <td>1</td>\n",
       "      <td>2.0</td>\n",
       "      <td>2020-09-19</td>\n",
       "      <td>1</td>\n",
       "      <td>0</td>\n",
       "      <td>1</td>\n",
       "      <td>0</td>\n",
       "      <td>0</td>\n",
       "      <td>0</td>\n",
       "      <td>1</td>\n",
       "      <td>0</td>\n",
       "      <td>0</td>\n",
       "      <td>0</td>\n",
       "      <td>0</td>\n",
       "      <td>0</td>\n",
       "      <td>0</td>\n",
       "    </tr>\n",
       "    <tr>\n",
       "      <th>2</th>\n",
       "      <td>3</td>\n",
       "      <td>2021-01-01</td>\n",
       "      <td>9</td>\n",
       "      <td>3</td>\n",
       "      <td>3.0</td>\n",
       "      <td>2021-08-11</td>\n",
       "      <td>1</td>\n",
       "      <td>0</td>\n",
       "      <td>0</td>\n",
       "      <td>0</td>\n",
       "      <td>0</td>\n",
       "      <td>0</td>\n",
       "      <td>0</td>\n",
       "      <td>0</td>\n",
       "      <td>0</td>\n",
       "      <td>0</td>\n",
       "      <td>0</td>\n",
       "      <td>0</td>\n",
       "      <td>0</td>\n",
       "    </tr>\n",
       "    <tr>\n",
       "      <th>3</th>\n",
       "      <td>4</td>\n",
       "      <td>2021-01-01</td>\n",
       "      <td>6</td>\n",
       "      <td>7</td>\n",
       "      <td>2.0</td>\n",
       "      <td>2017-10-04</td>\n",
       "      <td>0</td>\n",
       "      <td>0</td>\n",
       "      <td>0</td>\n",
       "      <td>0</td>\n",
       "      <td>0</td>\n",
       "      <td>0</td>\n",
       "      <td>0</td>\n",
       "      <td>0</td>\n",
       "      <td>0</td>\n",
       "      <td>0</td>\n",
       "      <td>0</td>\n",
       "      <td>0</td>\n",
       "      <td>0</td>\n",
       "    </tr>\n",
       "    <tr>\n",
       "      <th>4</th>\n",
       "      <td>5</td>\n",
       "      <td>2021-01-01</td>\n",
       "      <td>4</td>\n",
       "      <td>6</td>\n",
       "      <td>NaN</td>\n",
       "      <td>2020-06-08</td>\n",
       "      <td>0</td>\n",
       "      <td>0</td>\n",
       "      <td>0</td>\n",
       "      <td>0</td>\n",
       "      <td>0</td>\n",
       "      <td>0</td>\n",
       "      <td>1</td>\n",
       "      <td>0</td>\n",
       "      <td>0</td>\n",
       "      <td>0</td>\n",
       "      <td>1</td>\n",
       "      <td>0</td>\n",
       "      <td>0</td>\n",
       "    </tr>\n",
       "  </tbody>\n",
       "</table>\n",
       "</div>"
      ],
      "text/plain": [
       "   id  created_at  campaign_var_1  campaign_var_2  products_purchased  \\\n",
       "0   1  2021-01-01               1               2                 2.0   \n",
       "1   2  2021-01-01               2               1                 2.0   \n",
       "2   3  2021-01-01               9               3                 3.0   \n",
       "3   4  2021-01-01               6               7                 2.0   \n",
       "4   5  2021-01-01               4               6                 NaN   \n",
       "\n",
       "  signup_date  user_activity_var_1  user_activity_var_2  user_activity_var_3  \\\n",
       "0  2020-09-24                    0                    0                    0   \n",
       "1  2020-09-19                    1                    0                    1   \n",
       "2  2021-08-11                    1                    0                    0   \n",
       "3  2017-10-04                    0                    0                    0   \n",
       "4  2020-06-08                    0                    0                    0   \n",
       "\n",
       "   user_activity_var_4  user_activity_var_5  user_activity_var_6  \\\n",
       "0                    0                    0                    0   \n",
       "1                    0                    0                    0   \n",
       "2                    0                    0                    0   \n",
       "3                    0                    0                    0   \n",
       "4                    0                    0                    0   \n",
       "\n",
       "   user_activity_var_7  user_activity_var_8  user_activity_var_9  \\\n",
       "0                    1                    1                    0   \n",
       "1                    1                    0                    0   \n",
       "2                    0                    0                    0   \n",
       "3                    0                    0                    0   \n",
       "4                    1                    0                    0   \n",
       "\n",
       "   user_activity_var_10  user_activity_var_11  user_activity_var_12  buy  \n",
       "0                     0                     0                     0    0  \n",
       "1                     0                     0                     0    0  \n",
       "2                     0                     0                     0    0  \n",
       "3                     0                     0                     0    0  \n",
       "4                     0                     1                     0    0  "
      ]
     },
     "execution_count": 8,
     "metadata": {},
     "output_type": "execute_result"
    }
   ],
   "source": [
    "d2c_train.head()"
   ]
  },
  {
   "cell_type": "code",
   "execution_count": 9,
   "id": "d25f05b2",
   "metadata": {},
   "outputs": [
    {
     "name": "stdout",
     "output_type": "stream",
     "text": [
      "<class 'pandas.core.frame.DataFrame'>\n",
      "RangeIndex: 39161 entries, 0 to 39160\n",
      "Data columns (total 19 columns):\n",
      " #   Column                Non-Null Count  Dtype  \n",
      "---  ------                --------------  -----  \n",
      " 0   id                    39161 non-null  int64  \n",
      " 1   created_at            39161 non-null  object \n",
      " 2   campaign_var_1        39161 non-null  int64  \n",
      " 3   campaign_var_2        39161 non-null  int64  \n",
      " 4   products_purchased    18250 non-null  float64\n",
      " 5   signup_date           24048 non-null  object \n",
      " 6   user_activity_var_1   39161 non-null  int64  \n",
      " 7   user_activity_var_2   39161 non-null  int64  \n",
      " 8   user_activity_var_3   39161 non-null  int64  \n",
      " 9   user_activity_var_4   39161 non-null  int64  \n",
      " 10  user_activity_var_5   39161 non-null  int64  \n",
      " 11  user_activity_var_6   39161 non-null  int64  \n",
      " 12  user_activity_var_7   39161 non-null  int64  \n",
      " 13  user_activity_var_8   39161 non-null  int64  \n",
      " 14  user_activity_var_9   39161 non-null  int64  \n",
      " 15  user_activity_var_10  39161 non-null  int64  \n",
      " 16  user_activity_var_11  39161 non-null  int64  \n",
      " 17  user_activity_var_12  39161 non-null  int64  \n",
      " 18  buy                   39161 non-null  int64  \n",
      "dtypes: float64(1), int64(16), object(2)\n",
      "memory usage: 5.7+ MB\n"
     ]
    }
   ],
   "source": [
    "d2c_train.info()"
   ]
  },
  {
   "cell_type": "markdown",
   "id": "105e7d2c",
   "metadata": {},
   "source": [
    "## Loading Test Data"
   ]
  },
  {
   "cell_type": "code",
   "execution_count": 12,
   "id": "d702e046",
   "metadata": {},
   "outputs": [],
   "source": [
    "d2c_test= pd.read_csv(\"test_Wf7sxXF.csv\")"
   ]
  },
  {
   "cell_type": "code",
   "execution_count": 13,
   "id": "f52d41c4",
   "metadata": {},
   "outputs": [
    {
     "data": {
      "text/plain": [
       "(13184, 18)"
      ]
     },
     "execution_count": 13,
     "metadata": {},
     "output_type": "execute_result"
    }
   ],
   "source": [
    "d2c_test.shape"
   ]
  },
  {
   "cell_type": "code",
   "execution_count": 14,
   "id": "648497ae",
   "metadata": {},
   "outputs": [
    {
     "data": {
      "text/html": [
       "<div>\n",
       "<style scoped>\n",
       "    .dataframe tbody tr th:only-of-type {\n",
       "        vertical-align: middle;\n",
       "    }\n",
       "\n",
       "    .dataframe tbody tr th {\n",
       "        vertical-align: top;\n",
       "    }\n",
       "\n",
       "    .dataframe thead th {\n",
       "        text-align: right;\n",
       "    }\n",
       "</style>\n",
       "<table border=\"1\" class=\"dataframe\">\n",
       "  <thead>\n",
       "    <tr style=\"text-align: right;\">\n",
       "      <th></th>\n",
       "      <th>id</th>\n",
       "      <th>created_at</th>\n",
       "      <th>campaign_var_1</th>\n",
       "      <th>campaign_var_2</th>\n",
       "      <th>products_purchased</th>\n",
       "      <th>signup_date</th>\n",
       "      <th>user_activity_var_1</th>\n",
       "      <th>user_activity_var_2</th>\n",
       "      <th>user_activity_var_3</th>\n",
       "      <th>user_activity_var_4</th>\n",
       "      <th>user_activity_var_5</th>\n",
       "      <th>user_activity_var_6</th>\n",
       "      <th>user_activity_var_7</th>\n",
       "      <th>user_activity_var_8</th>\n",
       "      <th>user_activity_var_9</th>\n",
       "      <th>user_activity_var_10</th>\n",
       "      <th>user_activity_var_11</th>\n",
       "      <th>user_activity_var_12</th>\n",
       "    </tr>\n",
       "  </thead>\n",
       "  <tbody>\n",
       "    <tr>\n",
       "      <th>0</th>\n",
       "      <td>39162</td>\n",
       "      <td>2022-01-01</td>\n",
       "      <td>2</td>\n",
       "      <td>2</td>\n",
       "      <td>NaN</td>\n",
       "      <td>2021-08-17</td>\n",
       "      <td>1</td>\n",
       "      <td>1</td>\n",
       "      <td>0</td>\n",
       "      <td>0</td>\n",
       "      <td>0</td>\n",
       "      <td>1</td>\n",
       "      <td>0</td>\n",
       "      <td>0</td>\n",
       "      <td>0</td>\n",
       "      <td>0</td>\n",
       "      <td>1</td>\n",
       "      <td>0</td>\n",
       "    </tr>\n",
       "    <tr>\n",
       "      <th>1</th>\n",
       "      <td>39163</td>\n",
       "      <td>2022-01-01</td>\n",
       "      <td>4</td>\n",
       "      <td>7</td>\n",
       "      <td>3.0</td>\n",
       "      <td>2020-05-21</td>\n",
       "      <td>1</td>\n",
       "      <td>0</td>\n",
       "      <td>0</td>\n",
       "      <td>0</td>\n",
       "      <td>0</td>\n",
       "      <td>0</td>\n",
       "      <td>0</td>\n",
       "      <td>1</td>\n",
       "      <td>0</td>\n",
       "      <td>0</td>\n",
       "      <td>0</td>\n",
       "      <td>0</td>\n",
       "    </tr>\n",
       "    <tr>\n",
       "      <th>2</th>\n",
       "      <td>39164</td>\n",
       "      <td>2022-01-01</td>\n",
       "      <td>8</td>\n",
       "      <td>7</td>\n",
       "      <td>NaN</td>\n",
       "      <td>NaN</td>\n",
       "      <td>0</td>\n",
       "      <td>0</td>\n",
       "      <td>0</td>\n",
       "      <td>0</td>\n",
       "      <td>1</td>\n",
       "      <td>1</td>\n",
       "      <td>0</td>\n",
       "      <td>0</td>\n",
       "      <td>0</td>\n",
       "      <td>0</td>\n",
       "      <td>0</td>\n",
       "      <td>0</td>\n",
       "    </tr>\n",
       "    <tr>\n",
       "      <th>3</th>\n",
       "      <td>39165</td>\n",
       "      <td>2022-01-01</td>\n",
       "      <td>9</td>\n",
       "      <td>8</td>\n",
       "      <td>2.0</td>\n",
       "      <td>2020-06-22</td>\n",
       "      <td>0</td>\n",
       "      <td>0</td>\n",
       "      <td>0</td>\n",
       "      <td>0</td>\n",
       "      <td>1</td>\n",
       "      <td>1</td>\n",
       "      <td>1</td>\n",
       "      <td>0</td>\n",
       "      <td>0</td>\n",
       "      <td>0</td>\n",
       "      <td>2</td>\n",
       "      <td>0</td>\n",
       "    </tr>\n",
       "    <tr>\n",
       "      <th>4</th>\n",
       "      <td>39166</td>\n",
       "      <td>2022-01-01</td>\n",
       "      <td>4</td>\n",
       "      <td>5</td>\n",
       "      <td>2.0</td>\n",
       "      <td>2021-03-10</td>\n",
       "      <td>1</td>\n",
       "      <td>0</td>\n",
       "      <td>0</td>\n",
       "      <td>0</td>\n",
       "      <td>0</td>\n",
       "      <td>0</td>\n",
       "      <td>0</td>\n",
       "      <td>0</td>\n",
       "      <td>0</td>\n",
       "      <td>0</td>\n",
       "      <td>0</td>\n",
       "      <td>0</td>\n",
       "    </tr>\n",
       "  </tbody>\n",
       "</table>\n",
       "</div>"
      ],
      "text/plain": [
       "      id  created_at  campaign_var_1  campaign_var_2  products_purchased  \\\n",
       "0  39162  2022-01-01               2               2                 NaN   \n",
       "1  39163  2022-01-01               4               7                 3.0   \n",
       "2  39164  2022-01-01               8               7                 NaN   \n",
       "3  39165  2022-01-01               9               8                 2.0   \n",
       "4  39166  2022-01-01               4               5                 2.0   \n",
       "\n",
       "  signup_date  user_activity_var_1  user_activity_var_2  user_activity_var_3  \\\n",
       "0  2021-08-17                    1                    1                    0   \n",
       "1  2020-05-21                    1                    0                    0   \n",
       "2         NaN                    0                    0                    0   \n",
       "3  2020-06-22                    0                    0                    0   \n",
       "4  2021-03-10                    1                    0                    0   \n",
       "\n",
       "   user_activity_var_4  user_activity_var_5  user_activity_var_6  \\\n",
       "0                    0                    0                    1   \n",
       "1                    0                    0                    0   \n",
       "2                    0                    1                    1   \n",
       "3                    0                    1                    1   \n",
       "4                    0                    0                    0   \n",
       "\n",
       "   user_activity_var_7  user_activity_var_8  user_activity_var_9  \\\n",
       "0                    0                    0                    0   \n",
       "1                    0                    1                    0   \n",
       "2                    0                    0                    0   \n",
       "3                    1                    0                    0   \n",
       "4                    0                    0                    0   \n",
       "\n",
       "   user_activity_var_10  user_activity_var_11  user_activity_var_12  \n",
       "0                     0                     1                     0  \n",
       "1                     0                     0                     0  \n",
       "2                     0                     0                     0  \n",
       "3                     0                     2                     0  \n",
       "4                     0                     0                     0  "
      ]
     },
     "execution_count": 14,
     "metadata": {},
     "output_type": "execute_result"
    }
   ],
   "source": [
    "d2c_test.head()"
   ]
  },
  {
   "cell_type": "code",
   "execution_count": 15,
   "id": "5dc96230",
   "metadata": {},
   "outputs": [
    {
     "name": "stdout",
     "output_type": "stream",
     "text": [
      "<class 'pandas.core.frame.DataFrame'>\n",
      "RangeIndex: 13184 entries, 0 to 13183\n",
      "Data columns (total 18 columns):\n",
      " #   Column                Non-Null Count  Dtype  \n",
      "---  ------                --------------  -----  \n",
      " 0   id                    13184 non-null  int64  \n",
      " 1   created_at            13184 non-null  object \n",
      " 2   campaign_var_1        13184 non-null  int64  \n",
      " 3   campaign_var_2        13184 non-null  int64  \n",
      " 4   products_purchased    5048 non-null   float64\n",
      " 5   signup_date           6535 non-null   object \n",
      " 6   user_activity_var_1   13184 non-null  int64  \n",
      " 7   user_activity_var_2   13184 non-null  int64  \n",
      " 8   user_activity_var_3   13184 non-null  int64  \n",
      " 9   user_activity_var_4   13184 non-null  int64  \n",
      " 10  user_activity_var_5   13184 non-null  int64  \n",
      " 11  user_activity_var_6   13184 non-null  int64  \n",
      " 12  user_activity_var_7   13184 non-null  int64  \n",
      " 13  user_activity_var_8   13184 non-null  int64  \n",
      " 14  user_activity_var_9   13184 non-null  int64  \n",
      " 15  user_activity_var_10  13184 non-null  int64  \n",
      " 16  user_activity_var_11  13184 non-null  int64  \n",
      " 17  user_activity_var_12  13184 non-null  int64  \n",
      "dtypes: float64(1), int64(15), object(2)\n",
      "memory usage: 1.8+ MB\n"
     ]
    }
   ],
   "source": [
    "d2c_test.info()"
   ]
  },
  {
   "cell_type": "markdown",
   "id": "00b0bec9",
   "metadata": {},
   "source": [
    "# Appending Test and Train data"
   ]
  },
  {
   "cell_type": "code",
   "execution_count": 16,
   "id": "a9801920",
   "metadata": {},
   "outputs": [],
   "source": [
    "d2c=d2c_test.append(d2c_train)"
   ]
  },
  {
   "cell_type": "code",
   "execution_count": 17,
   "id": "0bf6a7a2",
   "metadata": {},
   "outputs": [
    {
     "data": {
      "text/plain": [
       "(52345, 19)"
      ]
     },
     "execution_count": 17,
     "metadata": {},
     "output_type": "execute_result"
    }
   ],
   "source": [
    "d2c.shape"
   ]
  },
  {
   "cell_type": "code",
   "execution_count": 18,
   "id": "ae634876",
   "metadata": {},
   "outputs": [
    {
     "data": {
      "text/html": [
       "<div>\n",
       "<style scoped>\n",
       "    .dataframe tbody tr th:only-of-type {\n",
       "        vertical-align: middle;\n",
       "    }\n",
       "\n",
       "    .dataframe tbody tr th {\n",
       "        vertical-align: top;\n",
       "    }\n",
       "\n",
       "    .dataframe thead th {\n",
       "        text-align: right;\n",
       "    }\n",
       "</style>\n",
       "<table border=\"1\" class=\"dataframe\">\n",
       "  <thead>\n",
       "    <tr style=\"text-align: right;\">\n",
       "      <th></th>\n",
       "      <th>id</th>\n",
       "      <th>created_at</th>\n",
       "      <th>campaign_var_1</th>\n",
       "      <th>campaign_var_2</th>\n",
       "      <th>products_purchased</th>\n",
       "      <th>signup_date</th>\n",
       "      <th>user_activity_var_1</th>\n",
       "      <th>user_activity_var_2</th>\n",
       "      <th>user_activity_var_3</th>\n",
       "      <th>user_activity_var_4</th>\n",
       "      <th>user_activity_var_5</th>\n",
       "      <th>user_activity_var_6</th>\n",
       "      <th>user_activity_var_7</th>\n",
       "      <th>user_activity_var_8</th>\n",
       "      <th>user_activity_var_9</th>\n",
       "      <th>user_activity_var_10</th>\n",
       "      <th>user_activity_var_11</th>\n",
       "      <th>user_activity_var_12</th>\n",
       "      <th>buy</th>\n",
       "    </tr>\n",
       "  </thead>\n",
       "  <tbody>\n",
       "    <tr>\n",
       "      <th>0</th>\n",
       "      <td>39162</td>\n",
       "      <td>2022-01-01</td>\n",
       "      <td>2</td>\n",
       "      <td>2</td>\n",
       "      <td>NaN</td>\n",
       "      <td>2021-08-17</td>\n",
       "      <td>1</td>\n",
       "      <td>1</td>\n",
       "      <td>0</td>\n",
       "      <td>0</td>\n",
       "      <td>0</td>\n",
       "      <td>1</td>\n",
       "      <td>0</td>\n",
       "      <td>0</td>\n",
       "      <td>0</td>\n",
       "      <td>0</td>\n",
       "      <td>1</td>\n",
       "      <td>0</td>\n",
       "      <td>NaN</td>\n",
       "    </tr>\n",
       "    <tr>\n",
       "      <th>1</th>\n",
       "      <td>39163</td>\n",
       "      <td>2022-01-01</td>\n",
       "      <td>4</td>\n",
       "      <td>7</td>\n",
       "      <td>3.0</td>\n",
       "      <td>2020-05-21</td>\n",
       "      <td>1</td>\n",
       "      <td>0</td>\n",
       "      <td>0</td>\n",
       "      <td>0</td>\n",
       "      <td>0</td>\n",
       "      <td>0</td>\n",
       "      <td>0</td>\n",
       "      <td>1</td>\n",
       "      <td>0</td>\n",
       "      <td>0</td>\n",
       "      <td>0</td>\n",
       "      <td>0</td>\n",
       "      <td>NaN</td>\n",
       "    </tr>\n",
       "    <tr>\n",
       "      <th>2</th>\n",
       "      <td>39164</td>\n",
       "      <td>2022-01-01</td>\n",
       "      <td>8</td>\n",
       "      <td>7</td>\n",
       "      <td>NaN</td>\n",
       "      <td>NaN</td>\n",
       "      <td>0</td>\n",
       "      <td>0</td>\n",
       "      <td>0</td>\n",
       "      <td>0</td>\n",
       "      <td>1</td>\n",
       "      <td>1</td>\n",
       "      <td>0</td>\n",
       "      <td>0</td>\n",
       "      <td>0</td>\n",
       "      <td>0</td>\n",
       "      <td>0</td>\n",
       "      <td>0</td>\n",
       "      <td>NaN</td>\n",
       "    </tr>\n",
       "    <tr>\n",
       "      <th>3</th>\n",
       "      <td>39165</td>\n",
       "      <td>2022-01-01</td>\n",
       "      <td>9</td>\n",
       "      <td>8</td>\n",
       "      <td>2.0</td>\n",
       "      <td>2020-06-22</td>\n",
       "      <td>0</td>\n",
       "      <td>0</td>\n",
       "      <td>0</td>\n",
       "      <td>0</td>\n",
       "      <td>1</td>\n",
       "      <td>1</td>\n",
       "      <td>1</td>\n",
       "      <td>0</td>\n",
       "      <td>0</td>\n",
       "      <td>0</td>\n",
       "      <td>2</td>\n",
       "      <td>0</td>\n",
       "      <td>NaN</td>\n",
       "    </tr>\n",
       "    <tr>\n",
       "      <th>4</th>\n",
       "      <td>39166</td>\n",
       "      <td>2022-01-01</td>\n",
       "      <td>4</td>\n",
       "      <td>5</td>\n",
       "      <td>2.0</td>\n",
       "      <td>2021-03-10</td>\n",
       "      <td>1</td>\n",
       "      <td>0</td>\n",
       "      <td>0</td>\n",
       "      <td>0</td>\n",
       "      <td>0</td>\n",
       "      <td>0</td>\n",
       "      <td>0</td>\n",
       "      <td>0</td>\n",
       "      <td>0</td>\n",
       "      <td>0</td>\n",
       "      <td>0</td>\n",
       "      <td>0</td>\n",
       "      <td>NaN</td>\n",
       "    </tr>\n",
       "  </tbody>\n",
       "</table>\n",
       "</div>"
      ],
      "text/plain": [
       "      id  created_at  campaign_var_1  campaign_var_2  products_purchased  \\\n",
       "0  39162  2022-01-01               2               2                 NaN   \n",
       "1  39163  2022-01-01               4               7                 3.0   \n",
       "2  39164  2022-01-01               8               7                 NaN   \n",
       "3  39165  2022-01-01               9               8                 2.0   \n",
       "4  39166  2022-01-01               4               5                 2.0   \n",
       "\n",
       "  signup_date  user_activity_var_1  user_activity_var_2  user_activity_var_3  \\\n",
       "0  2021-08-17                    1                    1                    0   \n",
       "1  2020-05-21                    1                    0                    0   \n",
       "2         NaN                    0                    0                    0   \n",
       "3  2020-06-22                    0                    0                    0   \n",
       "4  2021-03-10                    1                    0                    0   \n",
       "\n",
       "   user_activity_var_4  user_activity_var_5  user_activity_var_6  \\\n",
       "0                    0                    0                    1   \n",
       "1                    0                    0                    0   \n",
       "2                    0                    1                    1   \n",
       "3                    0                    1                    1   \n",
       "4                    0                    0                    0   \n",
       "\n",
       "   user_activity_var_7  user_activity_var_8  user_activity_var_9  \\\n",
       "0                    0                    0                    0   \n",
       "1                    0                    1                    0   \n",
       "2                    0                    0                    0   \n",
       "3                    1                    0                    0   \n",
       "4                    0                    0                    0   \n",
       "\n",
       "   user_activity_var_10  user_activity_var_11  user_activity_var_12  buy  \n",
       "0                     0                     1                     0  NaN  \n",
       "1                     0                     0                     0  NaN  \n",
       "2                     0                     0                     0  NaN  \n",
       "3                     0                     2                     0  NaN  \n",
       "4                     0                     0                     0  NaN  "
      ]
     },
     "execution_count": 18,
     "metadata": {},
     "output_type": "execute_result"
    }
   ],
   "source": [
    "d2c.head()"
   ]
  },
  {
   "cell_type": "code",
   "execution_count": 19,
   "id": "87f7b17e",
   "metadata": {},
   "outputs": [
    {
     "name": "stdout",
     "output_type": "stream",
     "text": [
      "<class 'pandas.core.frame.DataFrame'>\n",
      "Int64Index: 52345 entries, 0 to 39160\n",
      "Data columns (total 19 columns):\n",
      " #   Column                Non-Null Count  Dtype  \n",
      "---  ------                --------------  -----  \n",
      " 0   id                    52345 non-null  int64  \n",
      " 1   created_at            52345 non-null  object \n",
      " 2   campaign_var_1        52345 non-null  int64  \n",
      " 3   campaign_var_2        52345 non-null  int64  \n",
      " 4   products_purchased    23298 non-null  float64\n",
      " 5   signup_date           30583 non-null  object \n",
      " 6   user_activity_var_1   52345 non-null  int64  \n",
      " 7   user_activity_var_2   52345 non-null  int64  \n",
      " 8   user_activity_var_3   52345 non-null  int64  \n",
      " 9   user_activity_var_4   52345 non-null  int64  \n",
      " 10  user_activity_var_5   52345 non-null  int64  \n",
      " 11  user_activity_var_6   52345 non-null  int64  \n",
      " 12  user_activity_var_7   52345 non-null  int64  \n",
      " 13  user_activity_var_8   52345 non-null  int64  \n",
      " 14  user_activity_var_9   52345 non-null  int64  \n",
      " 15  user_activity_var_10  52345 non-null  int64  \n",
      " 16  user_activity_var_11  52345 non-null  int64  \n",
      " 17  user_activity_var_12  52345 non-null  int64  \n",
      " 18  buy                   39161 non-null  float64\n",
      "dtypes: float64(2), int64(15), object(2)\n",
      "memory usage: 8.0+ MB\n"
     ]
    }
   ],
   "source": [
    "d2c.info()"
   ]
  },
  {
   "cell_type": "markdown",
   "id": "2f74e2b2",
   "metadata": {},
   "source": [
    "## Null values in data"
   ]
  },
  {
   "cell_type": "code",
   "execution_count": 16,
   "id": "22906fad",
   "metadata": {},
   "outputs": [
    {
     "data": {
      "text/plain": [
       "id                          0\n",
       "created_at                  0\n",
       "campaign_var_1              0\n",
       "campaign_var_2              0\n",
       "products_purchased      29047\n",
       "signup_date             21762\n",
       "user_activity_var_1         0\n",
       "user_activity_var_2         0\n",
       "user_activity_var_3         0\n",
       "user_activity_var_4         0\n",
       "user_activity_var_5         0\n",
       "user_activity_var_6         0\n",
       "user_activity_var_7         0\n",
       "user_activity_var_8         0\n",
       "user_activity_var_9         0\n",
       "user_activity_var_10        0\n",
       "user_activity_var_11        0\n",
       "user_activity_var_12        0\n",
       "buy                     13184\n",
       "dtype: int64"
      ]
     },
     "execution_count": 16,
     "metadata": {},
     "output_type": "execute_result"
    }
   ],
   "source": [
    "d2c.isnull().sum()"
   ]
  },
  {
   "cell_type": "markdown",
   "id": "85cf10b5",
   "metadata": {},
   "source": [
    "## Unique values in each variables"
   ]
  },
  {
   "cell_type": "code",
   "execution_count": 17,
   "id": "44703946",
   "metadata": {},
   "outputs": [
    {
     "data": {
      "text/plain": [
       "id                      52345\n",
       "created_at                454\n",
       "campaign_var_1             16\n",
       "campaign_var_2             15\n",
       "products_purchased          5\n",
       "signup_date              1820\n",
       "user_activity_var_1         4\n",
       "user_activity_var_2         2\n",
       "user_activity_var_3         2\n",
       "user_activity_var_4         2\n",
       "user_activity_var_5         3\n",
       "user_activity_var_6         4\n",
       "user_activity_var_7         3\n",
       "user_activity_var_8         3\n",
       "user_activity_var_9         3\n",
       "user_activity_var_10        2\n",
       "user_activity_var_11        5\n",
       "user_activity_var_12        2\n",
       "buy                         3\n",
       "dtype: int64"
      ]
     },
     "execution_count": 17,
     "metadata": {},
     "output_type": "execute_result"
    }
   ],
   "source": [
    "d2c.apply(lambda x: len(x.unique()))"
   ]
  },
  {
   "cell_type": "markdown",
   "id": "9ef63742",
   "metadata": {},
   "source": [
    "## 5 point Summary of the data"
   ]
  },
  {
   "cell_type": "code",
   "execution_count": 20,
   "id": "8146adef",
   "metadata": {},
   "outputs": [
    {
     "data": {
      "text/html": [
       "<div>\n",
       "<style scoped>\n",
       "    .dataframe tbody tr th:only-of-type {\n",
       "        vertical-align: middle;\n",
       "    }\n",
       "\n",
       "    .dataframe tbody tr th {\n",
       "        vertical-align: top;\n",
       "    }\n",
       "\n",
       "    .dataframe thead th {\n",
       "        text-align: right;\n",
       "    }\n",
       "</style>\n",
       "<table border=\"1\" class=\"dataframe\">\n",
       "  <thead>\n",
       "    <tr style=\"text-align: right;\">\n",
       "      <th></th>\n",
       "      <th>id</th>\n",
       "      <th>campaign_var_1</th>\n",
       "      <th>campaign_var_2</th>\n",
       "      <th>products_purchased</th>\n",
       "      <th>user_activity_var_1</th>\n",
       "      <th>user_activity_var_2</th>\n",
       "      <th>user_activity_var_3</th>\n",
       "      <th>user_activity_var_4</th>\n",
       "      <th>user_activity_var_5</th>\n",
       "      <th>user_activity_var_6</th>\n",
       "      <th>user_activity_var_7</th>\n",
       "      <th>user_activity_var_8</th>\n",
       "      <th>user_activity_var_9</th>\n",
       "      <th>user_activity_var_10</th>\n",
       "      <th>user_activity_var_11</th>\n",
       "      <th>user_activity_var_12</th>\n",
       "      <th>buy</th>\n",
       "    </tr>\n",
       "  </thead>\n",
       "  <tbody>\n",
       "    <tr>\n",
       "      <th>count</th>\n",
       "      <td>52345.000000</td>\n",
       "      <td>52345.000000</td>\n",
       "      <td>52345.000000</td>\n",
       "      <td>23298.000000</td>\n",
       "      <td>52345.000000</td>\n",
       "      <td>52345.000000</td>\n",
       "      <td>52345.000000</td>\n",
       "      <td>52345.000000</td>\n",
       "      <td>52345.000000</td>\n",
       "      <td>52345.000000</td>\n",
       "      <td>52345.000000</td>\n",
       "      <td>52345.000000</td>\n",
       "      <td>52345.000000</td>\n",
       "      <td>52345.000000</td>\n",
       "      <td>52345.000000</td>\n",
       "      <td>52345.000000</td>\n",
       "      <td>39161.000000</td>\n",
       "    </tr>\n",
       "    <tr>\n",
       "      <th>mean</th>\n",
       "      <td>26173.000000</td>\n",
       "      <td>6.826211</td>\n",
       "      <td>6.828198</td>\n",
       "      <td>2.144347</td>\n",
       "      <td>0.396714</td>\n",
       "      <td>0.006094</td>\n",
       "      <td>0.102952</td>\n",
       "      <td>0.010373</td>\n",
       "      <td>0.151896</td>\n",
       "      <td>0.506295</td>\n",
       "      <td>0.291107</td>\n",
       "      <td>0.166434</td>\n",
       "      <td>0.010679</td>\n",
       "      <td>0.000344</td>\n",
       "      <td>0.227624</td>\n",
       "      <td>0.000478</td>\n",
       "      <td>0.051020</td>\n",
       "    </tr>\n",
       "    <tr>\n",
       "      <th>std</th>\n",
       "      <td>15110.844257</td>\n",
       "      <td>3.543873</td>\n",
       "      <td>2.711333</td>\n",
       "      <td>0.780816</td>\n",
       "      <td>0.508333</td>\n",
       "      <td>0.077828</td>\n",
       "      <td>0.303899</td>\n",
       "      <td>0.101322</td>\n",
       "      <td>0.359933</td>\n",
       "      <td>0.560053</td>\n",
       "      <td>0.457671</td>\n",
       "      <td>0.372679</td>\n",
       "      <td>0.102973</td>\n",
       "      <td>0.018541</td>\n",
       "      <td>0.439849</td>\n",
       "      <td>0.021849</td>\n",
       "      <td>0.220042</td>\n",
       "    </tr>\n",
       "    <tr>\n",
       "      <th>min</th>\n",
       "      <td>1.000000</td>\n",
       "      <td>1.000000</td>\n",
       "      <td>1.000000</td>\n",
       "      <td>1.000000</td>\n",
       "      <td>0.000000</td>\n",
       "      <td>0.000000</td>\n",
       "      <td>0.000000</td>\n",
       "      <td>0.000000</td>\n",
       "      <td>0.000000</td>\n",
       "      <td>0.000000</td>\n",
       "      <td>0.000000</td>\n",
       "      <td>0.000000</td>\n",
       "      <td>0.000000</td>\n",
       "      <td>0.000000</td>\n",
       "      <td>0.000000</td>\n",
       "      <td>0.000000</td>\n",
       "      <td>0.000000</td>\n",
       "    </tr>\n",
       "    <tr>\n",
       "      <th>25%</th>\n",
       "      <td>13087.000000</td>\n",
       "      <td>4.000000</td>\n",
       "      <td>5.000000</td>\n",
       "      <td>2.000000</td>\n",
       "      <td>0.000000</td>\n",
       "      <td>0.000000</td>\n",
       "      <td>0.000000</td>\n",
       "      <td>0.000000</td>\n",
       "      <td>0.000000</td>\n",
       "      <td>0.000000</td>\n",
       "      <td>0.000000</td>\n",
       "      <td>0.000000</td>\n",
       "      <td>0.000000</td>\n",
       "      <td>0.000000</td>\n",
       "      <td>0.000000</td>\n",
       "      <td>0.000000</td>\n",
       "      <td>0.000000</td>\n",
       "    </tr>\n",
       "    <tr>\n",
       "      <th>50%</th>\n",
       "      <td>26173.000000</td>\n",
       "      <td>6.000000</td>\n",
       "      <td>7.000000</td>\n",
       "      <td>2.000000</td>\n",
       "      <td>0.000000</td>\n",
       "      <td>0.000000</td>\n",
       "      <td>0.000000</td>\n",
       "      <td>0.000000</td>\n",
       "      <td>0.000000</td>\n",
       "      <td>0.000000</td>\n",
       "      <td>0.000000</td>\n",
       "      <td>0.000000</td>\n",
       "      <td>0.000000</td>\n",
       "      <td>0.000000</td>\n",
       "      <td>0.000000</td>\n",
       "      <td>0.000000</td>\n",
       "      <td>0.000000</td>\n",
       "    </tr>\n",
       "    <tr>\n",
       "      <th>75%</th>\n",
       "      <td>39259.000000</td>\n",
       "      <td>9.000000</td>\n",
       "      <td>9.000000</td>\n",
       "      <td>3.000000</td>\n",
       "      <td>1.000000</td>\n",
       "      <td>0.000000</td>\n",
       "      <td>0.000000</td>\n",
       "      <td>0.000000</td>\n",
       "      <td>0.000000</td>\n",
       "      <td>1.000000</td>\n",
       "      <td>1.000000</td>\n",
       "      <td>0.000000</td>\n",
       "      <td>0.000000</td>\n",
       "      <td>0.000000</td>\n",
       "      <td>0.000000</td>\n",
       "      <td>0.000000</td>\n",
       "      <td>0.000000</td>\n",
       "    </tr>\n",
       "    <tr>\n",
       "      <th>max</th>\n",
       "      <td>52345.000000</td>\n",
       "      <td>16.000000</td>\n",
       "      <td>15.000000</td>\n",
       "      <td>4.000000</td>\n",
       "      <td>3.000000</td>\n",
       "      <td>1.000000</td>\n",
       "      <td>1.000000</td>\n",
       "      <td>1.000000</td>\n",
       "      <td>2.000000</td>\n",
       "      <td>3.000000</td>\n",
       "      <td>2.000000</td>\n",
       "      <td>2.000000</td>\n",
       "      <td>2.000000</td>\n",
       "      <td>1.000000</td>\n",
       "      <td>4.000000</td>\n",
       "      <td>1.000000</td>\n",
       "      <td>1.000000</td>\n",
       "    </tr>\n",
       "  </tbody>\n",
       "</table>\n",
       "</div>"
      ],
      "text/plain": [
       "                 id  campaign_var_1  campaign_var_2  products_purchased  \\\n",
       "count  52345.000000    52345.000000    52345.000000        23298.000000   \n",
       "mean   26173.000000        6.826211        6.828198            2.144347   \n",
       "std    15110.844257        3.543873        2.711333            0.780816   \n",
       "min        1.000000        1.000000        1.000000            1.000000   \n",
       "25%    13087.000000        4.000000        5.000000            2.000000   \n",
       "50%    26173.000000        6.000000        7.000000            2.000000   \n",
       "75%    39259.000000        9.000000        9.000000            3.000000   \n",
       "max    52345.000000       16.000000       15.000000            4.000000   \n",
       "\n",
       "       user_activity_var_1  user_activity_var_2  user_activity_var_3  \\\n",
       "count         52345.000000         52345.000000         52345.000000   \n",
       "mean              0.396714             0.006094             0.102952   \n",
       "std               0.508333             0.077828             0.303899   \n",
       "min               0.000000             0.000000             0.000000   \n",
       "25%               0.000000             0.000000             0.000000   \n",
       "50%               0.000000             0.000000             0.000000   \n",
       "75%               1.000000             0.000000             0.000000   \n",
       "max               3.000000             1.000000             1.000000   \n",
       "\n",
       "       user_activity_var_4  user_activity_var_5  user_activity_var_6  \\\n",
       "count         52345.000000         52345.000000         52345.000000   \n",
       "mean              0.010373             0.151896             0.506295   \n",
       "std               0.101322             0.359933             0.560053   \n",
       "min               0.000000             0.000000             0.000000   \n",
       "25%               0.000000             0.000000             0.000000   \n",
       "50%               0.000000             0.000000             0.000000   \n",
       "75%               0.000000             0.000000             1.000000   \n",
       "max               1.000000             2.000000             3.000000   \n",
       "\n",
       "       user_activity_var_7  user_activity_var_8  user_activity_var_9  \\\n",
       "count         52345.000000         52345.000000         52345.000000   \n",
       "mean              0.291107             0.166434             0.010679   \n",
       "std               0.457671             0.372679             0.102973   \n",
       "min               0.000000             0.000000             0.000000   \n",
       "25%               0.000000             0.000000             0.000000   \n",
       "50%               0.000000             0.000000             0.000000   \n",
       "75%               1.000000             0.000000             0.000000   \n",
       "max               2.000000             2.000000             2.000000   \n",
       "\n",
       "       user_activity_var_10  user_activity_var_11  user_activity_var_12  \\\n",
       "count          52345.000000          52345.000000          52345.000000   \n",
       "mean               0.000344              0.227624              0.000478   \n",
       "std                0.018541              0.439849              0.021849   \n",
       "min                0.000000              0.000000              0.000000   \n",
       "25%                0.000000              0.000000              0.000000   \n",
       "50%                0.000000              0.000000              0.000000   \n",
       "75%                0.000000              0.000000              0.000000   \n",
       "max                1.000000              4.000000              1.000000   \n",
       "\n",
       "                buy  \n",
       "count  39161.000000  \n",
       "mean       0.051020  \n",
       "std        0.220042  \n",
       "min        0.000000  \n",
       "25%        0.000000  \n",
       "50%        0.000000  \n",
       "75%        0.000000  \n",
       "max        1.000000  "
      ]
     },
     "execution_count": 20,
     "metadata": {},
     "output_type": "execute_result"
    }
   ],
   "source": [
    "d2c.describe()"
   ]
  },
  {
   "cell_type": "code",
   "execution_count": 21,
   "id": "eae8aa9b",
   "metadata": {},
   "outputs": [],
   "source": [
    "d2c1=d2c.copy()"
   ]
  },
  {
   "cell_type": "markdown",
   "id": "d5dd7771",
   "metadata": {},
   "source": [
    "# EDA"
   ]
  },
  {
   "cell_type": "code",
   "execution_count": 22,
   "id": "6100c67c",
   "metadata": {},
   "outputs": [
    {
     "data": {
      "text/html": [
       "<div>\n",
       "<style scoped>\n",
       "    .dataframe tbody tr th:only-of-type {\n",
       "        vertical-align: middle;\n",
       "    }\n",
       "\n",
       "    .dataframe tbody tr th {\n",
       "        vertical-align: top;\n",
       "    }\n",
       "\n",
       "    .dataframe thead th {\n",
       "        text-align: right;\n",
       "    }\n",
       "</style>\n",
       "<table border=\"1\" class=\"dataframe\">\n",
       "  <thead>\n",
       "    <tr style=\"text-align: right;\">\n",
       "      <th></th>\n",
       "      <th>id</th>\n",
       "      <th>created_at</th>\n",
       "      <th>campaign_var_1</th>\n",
       "      <th>campaign_var_2</th>\n",
       "      <th>products_purchased</th>\n",
       "      <th>signup_date</th>\n",
       "      <th>user_activity_var_1</th>\n",
       "      <th>user_activity_var_2</th>\n",
       "      <th>user_activity_var_3</th>\n",
       "      <th>user_activity_var_4</th>\n",
       "      <th>user_activity_var_5</th>\n",
       "      <th>user_activity_var_6</th>\n",
       "      <th>user_activity_var_7</th>\n",
       "      <th>user_activity_var_8</th>\n",
       "      <th>user_activity_var_9</th>\n",
       "      <th>user_activity_var_10</th>\n",
       "      <th>user_activity_var_11</th>\n",
       "      <th>user_activity_var_12</th>\n",
       "      <th>buy</th>\n",
       "    </tr>\n",
       "  </thead>\n",
       "  <tbody>\n",
       "    <tr>\n",
       "      <th>0</th>\n",
       "      <td>39162</td>\n",
       "      <td>2022-01-01</td>\n",
       "      <td>2</td>\n",
       "      <td>2</td>\n",
       "      <td>NaN</td>\n",
       "      <td>2021-08-17</td>\n",
       "      <td>1</td>\n",
       "      <td>1</td>\n",
       "      <td>0</td>\n",
       "      <td>0</td>\n",
       "      <td>0</td>\n",
       "      <td>1</td>\n",
       "      <td>0</td>\n",
       "      <td>0</td>\n",
       "      <td>0</td>\n",
       "      <td>0</td>\n",
       "      <td>1</td>\n",
       "      <td>0</td>\n",
       "      <td>NaN</td>\n",
       "    </tr>\n",
       "    <tr>\n",
       "      <th>1</th>\n",
       "      <td>39163</td>\n",
       "      <td>2022-01-01</td>\n",
       "      <td>4</td>\n",
       "      <td>7</td>\n",
       "      <td>3.0</td>\n",
       "      <td>2020-05-21</td>\n",
       "      <td>1</td>\n",
       "      <td>0</td>\n",
       "      <td>0</td>\n",
       "      <td>0</td>\n",
       "      <td>0</td>\n",
       "      <td>0</td>\n",
       "      <td>0</td>\n",
       "      <td>1</td>\n",
       "      <td>0</td>\n",
       "      <td>0</td>\n",
       "      <td>0</td>\n",
       "      <td>0</td>\n",
       "      <td>NaN</td>\n",
       "    </tr>\n",
       "    <tr>\n",
       "      <th>2</th>\n",
       "      <td>39164</td>\n",
       "      <td>2022-01-01</td>\n",
       "      <td>8</td>\n",
       "      <td>7</td>\n",
       "      <td>NaN</td>\n",
       "      <td>NaN</td>\n",
       "      <td>0</td>\n",
       "      <td>0</td>\n",
       "      <td>0</td>\n",
       "      <td>0</td>\n",
       "      <td>1</td>\n",
       "      <td>1</td>\n",
       "      <td>0</td>\n",
       "      <td>0</td>\n",
       "      <td>0</td>\n",
       "      <td>0</td>\n",
       "      <td>0</td>\n",
       "      <td>0</td>\n",
       "      <td>NaN</td>\n",
       "    </tr>\n",
       "    <tr>\n",
       "      <th>3</th>\n",
       "      <td>39165</td>\n",
       "      <td>2022-01-01</td>\n",
       "      <td>9</td>\n",
       "      <td>8</td>\n",
       "      <td>2.0</td>\n",
       "      <td>2020-06-22</td>\n",
       "      <td>0</td>\n",
       "      <td>0</td>\n",
       "      <td>0</td>\n",
       "      <td>0</td>\n",
       "      <td>1</td>\n",
       "      <td>1</td>\n",
       "      <td>1</td>\n",
       "      <td>0</td>\n",
       "      <td>0</td>\n",
       "      <td>0</td>\n",
       "      <td>2</td>\n",
       "      <td>0</td>\n",
       "      <td>NaN</td>\n",
       "    </tr>\n",
       "    <tr>\n",
       "      <th>4</th>\n",
       "      <td>39166</td>\n",
       "      <td>2022-01-01</td>\n",
       "      <td>4</td>\n",
       "      <td>5</td>\n",
       "      <td>2.0</td>\n",
       "      <td>2021-03-10</td>\n",
       "      <td>1</td>\n",
       "      <td>0</td>\n",
       "      <td>0</td>\n",
       "      <td>0</td>\n",
       "      <td>0</td>\n",
       "      <td>0</td>\n",
       "      <td>0</td>\n",
       "      <td>0</td>\n",
       "      <td>0</td>\n",
       "      <td>0</td>\n",
       "      <td>0</td>\n",
       "      <td>0</td>\n",
       "      <td>NaN</td>\n",
       "    </tr>\n",
       "  </tbody>\n",
       "</table>\n",
       "</div>"
      ],
      "text/plain": [
       "      id  created_at  campaign_var_1  campaign_var_2  products_purchased  \\\n",
       "0  39162  2022-01-01               2               2                 NaN   \n",
       "1  39163  2022-01-01               4               7                 3.0   \n",
       "2  39164  2022-01-01               8               7                 NaN   \n",
       "3  39165  2022-01-01               9               8                 2.0   \n",
       "4  39166  2022-01-01               4               5                 2.0   \n",
       "\n",
       "  signup_date  user_activity_var_1  user_activity_var_2  user_activity_var_3  \\\n",
       "0  2021-08-17                    1                    1                    0   \n",
       "1  2020-05-21                    1                    0                    0   \n",
       "2         NaN                    0                    0                    0   \n",
       "3  2020-06-22                    0                    0                    0   \n",
       "4  2021-03-10                    1                    0                    0   \n",
       "\n",
       "   user_activity_var_4  user_activity_var_5  user_activity_var_6  \\\n",
       "0                    0                    0                    1   \n",
       "1                    0                    0                    0   \n",
       "2                    0                    1                    1   \n",
       "3                    0                    1                    1   \n",
       "4                    0                    0                    0   \n",
       "\n",
       "   user_activity_var_7  user_activity_var_8  user_activity_var_9  \\\n",
       "0                    0                    0                    0   \n",
       "1                    0                    1                    0   \n",
       "2                    0                    0                    0   \n",
       "3                    1                    0                    0   \n",
       "4                    0                    0                    0   \n",
       "\n",
       "   user_activity_var_10  user_activity_var_11  user_activity_var_12  buy  \n",
       "0                     0                     1                     0  NaN  \n",
       "1                     0                     0                     0  NaN  \n",
       "2                     0                     0                     0  NaN  \n",
       "3                     0                     2                     0  NaN  \n",
       "4                     0                     0                     0  NaN  "
      ]
     },
     "execution_count": 22,
     "metadata": {},
     "output_type": "execute_result"
    }
   ],
   "source": [
    "d2c.head()"
   ]
  },
  {
   "cell_type": "code",
   "execution_count": 23,
   "id": "1ddb98e4",
   "metadata": {},
   "outputs": [
    {
     "data": {
      "text/plain": [
       "Index(['id', 'created_at', 'campaign_var_1', 'campaign_var_2',\n",
       "       'products_purchased', 'signup_date', 'user_activity_var_1',\n",
       "       'user_activity_var_2', 'user_activity_var_3', 'user_activity_var_4',\n",
       "       'user_activity_var_5', 'user_activity_var_6', 'user_activity_var_7',\n",
       "       'user_activity_var_8', 'user_activity_var_9', 'user_activity_var_10',\n",
       "       'user_activity_var_11', 'user_activity_var_12', 'buy'],\n",
       "      dtype='object')"
      ]
     },
     "execution_count": 23,
     "metadata": {},
     "output_type": "execute_result"
    }
   ],
   "source": [
    "d2c.columns"
   ]
  },
  {
   "cell_type": "markdown",
   "id": "9d526b0b",
   "metadata": {},
   "source": [
    "## Checking null values in \"signup_date\" and their corresponding 'created_at','products_purchased' columns"
   ]
  },
  {
   "cell_type": "code",
   "execution_count": 24,
   "id": "03dc75d1",
   "metadata": {},
   "outputs": [
    {
     "data": {
      "text/html": [
       "<div>\n",
       "<style scoped>\n",
       "    .dataframe tbody tr th:only-of-type {\n",
       "        vertical-align: middle;\n",
       "    }\n",
       "\n",
       "    .dataframe tbody tr th {\n",
       "        vertical-align: top;\n",
       "    }\n",
       "\n",
       "    .dataframe thead th {\n",
       "        text-align: right;\n",
       "    }\n",
       "</style>\n",
       "<table border=\"1\" class=\"dataframe\">\n",
       "  <thead>\n",
       "    <tr style=\"text-align: right;\">\n",
       "      <th></th>\n",
       "      <th>created_at</th>\n",
       "      <th>signup_date</th>\n",
       "      <th>products_purchased</th>\n",
       "    </tr>\n",
       "  </thead>\n",
       "  <tbody>\n",
       "    <tr>\n",
       "      <th>2</th>\n",
       "      <td>2022-01-01</td>\n",
       "      <td>NaN</td>\n",
       "      <td>NaN</td>\n",
       "    </tr>\n",
       "    <tr>\n",
       "      <th>5</th>\n",
       "      <td>2022-01-01</td>\n",
       "      <td>NaN</td>\n",
       "      <td>NaN</td>\n",
       "    </tr>\n",
       "    <tr>\n",
       "      <th>8</th>\n",
       "      <td>2022-01-01</td>\n",
       "      <td>NaN</td>\n",
       "      <td>NaN</td>\n",
       "    </tr>\n",
       "    <tr>\n",
       "      <th>11</th>\n",
       "      <td>2022-01-01</td>\n",
       "      <td>NaN</td>\n",
       "      <td>2.0</td>\n",
       "    </tr>\n",
       "    <tr>\n",
       "      <th>13</th>\n",
       "      <td>2022-01-01</td>\n",
       "      <td>NaN</td>\n",
       "      <td>NaN</td>\n",
       "    </tr>\n",
       "    <tr>\n",
       "      <th>...</th>\n",
       "      <td>...</td>\n",
       "      <td>...</td>\n",
       "      <td>...</td>\n",
       "    </tr>\n",
       "    <tr>\n",
       "      <th>39153</th>\n",
       "      <td>2021-12-31</td>\n",
       "      <td>NaN</td>\n",
       "      <td>NaN</td>\n",
       "    </tr>\n",
       "    <tr>\n",
       "      <th>39155</th>\n",
       "      <td>2021-12-31</td>\n",
       "      <td>NaN</td>\n",
       "      <td>NaN</td>\n",
       "    </tr>\n",
       "    <tr>\n",
       "      <th>39157</th>\n",
       "      <td>2021-12-31</td>\n",
       "      <td>NaN</td>\n",
       "      <td>3.0</td>\n",
       "    </tr>\n",
       "    <tr>\n",
       "      <th>39158</th>\n",
       "      <td>2021-12-31</td>\n",
       "      <td>NaN</td>\n",
       "      <td>2.0</td>\n",
       "    </tr>\n",
       "    <tr>\n",
       "      <th>39159</th>\n",
       "      <td>2021-12-31</td>\n",
       "      <td>NaN</td>\n",
       "      <td>2.0</td>\n",
       "    </tr>\n",
       "  </tbody>\n",
       "</table>\n",
       "<p>21762 rows × 3 columns</p>\n",
       "</div>"
      ],
      "text/plain": [
       "       created_at signup_date  products_purchased\n",
       "2      2022-01-01         NaN                 NaN\n",
       "5      2022-01-01         NaN                 NaN\n",
       "8      2022-01-01         NaN                 NaN\n",
       "11     2022-01-01         NaN                 2.0\n",
       "13     2022-01-01         NaN                 NaN\n",
       "...           ...         ...                 ...\n",
       "39153  2021-12-31         NaN                 NaN\n",
       "39155  2021-12-31         NaN                 NaN\n",
       "39157  2021-12-31         NaN                 3.0\n",
       "39158  2021-12-31         NaN                 2.0\n",
       "39159  2021-12-31         NaN                 2.0\n",
       "\n",
       "[21762 rows x 3 columns]"
      ]
     },
     "execution_count": 24,
     "metadata": {},
     "output_type": "execute_result"
    }
   ],
   "source": [
    "d2c[d2c[\"signup_date\"].isna()][[\"created_at\",\"signup_date\",\"products_purchased\"]]"
   ]
  },
  {
   "cell_type": "markdown",
   "id": "5ff5f7be",
   "metadata": {},
   "source": [
    "## Converted 'created_at' and 'signup_date' to a new numeric variable \"No_of_days\""
   ]
  },
  {
   "cell_type": "code",
   "execution_count": 25,
   "id": "075ca546",
   "metadata": {},
   "outputs": [],
   "source": [
    "from datetime import datetime\n",
    "d2c['created_at'] = pd.to_datetime(d2c['created_at'])\n",
    "d2c['signup_date'] = pd.to_datetime(d2c['signup_date'])"
   ]
  },
  {
   "cell_type": "code",
   "execution_count": 26,
   "id": "8a75bf5e",
   "metadata": {},
   "outputs": [],
   "source": [
    "d2c[\"No_of_days\"]=np.where(d2c[\"created_at\"]>d2c[\"signup_date\"],\n",
    "                                     ((d2c[\"created_at\"] - d2c[\"signup_date\"])/np.timedelta64(1, 'D')),0)"
   ]
  },
  {
   "cell_type": "code",
   "execution_count": 27,
   "id": "d045a3ea",
   "metadata": {},
   "outputs": [
    {
     "data": {
      "text/plain": [
       "0         137.0\n",
       "1         590.0\n",
       "2           0.0\n",
       "3         558.0\n",
       "4         297.0\n",
       "          ...  \n",
       "39156    1534.0\n",
       "39157       0.0\n",
       "39158       0.0\n",
       "39159       0.0\n",
       "39160     873.0\n",
       "Name: No_of_days, Length: 52345, dtype: float64"
      ]
     },
     "execution_count": 27,
     "metadata": {},
     "output_type": "execute_result"
    }
   ],
   "source": [
    "d2c[\"No_of_days\"]"
   ]
  },
  {
   "cell_type": "markdown",
   "id": "60d61b98",
   "metadata": {},
   "source": [
    "## Dropping the column \"created_at\",\"signup_date\""
   ]
  },
  {
   "cell_type": "code",
   "execution_count": 28,
   "id": "7af37d88",
   "metadata": {},
   "outputs": [],
   "source": [
    "d2c.drop([\"created_at\",\"signup_date\"], axis=1,inplace=True)"
   ]
  },
  {
   "cell_type": "code",
   "execution_count": 29,
   "id": "5130c953",
   "metadata": {},
   "outputs": [
    {
     "data": {
      "text/html": [
       "<div>\n",
       "<style scoped>\n",
       "    .dataframe tbody tr th:only-of-type {\n",
       "        vertical-align: middle;\n",
       "    }\n",
       "\n",
       "    .dataframe tbody tr th {\n",
       "        vertical-align: top;\n",
       "    }\n",
       "\n",
       "    .dataframe thead th {\n",
       "        text-align: right;\n",
       "    }\n",
       "</style>\n",
       "<table border=\"1\" class=\"dataframe\">\n",
       "  <thead>\n",
       "    <tr style=\"text-align: right;\">\n",
       "      <th></th>\n",
       "      <th>id</th>\n",
       "      <th>campaign_var_1</th>\n",
       "      <th>campaign_var_2</th>\n",
       "      <th>products_purchased</th>\n",
       "      <th>user_activity_var_1</th>\n",
       "      <th>user_activity_var_2</th>\n",
       "      <th>user_activity_var_3</th>\n",
       "      <th>user_activity_var_4</th>\n",
       "      <th>user_activity_var_5</th>\n",
       "      <th>user_activity_var_6</th>\n",
       "      <th>user_activity_var_7</th>\n",
       "      <th>user_activity_var_8</th>\n",
       "      <th>user_activity_var_9</th>\n",
       "      <th>user_activity_var_10</th>\n",
       "      <th>user_activity_var_11</th>\n",
       "      <th>user_activity_var_12</th>\n",
       "      <th>buy</th>\n",
       "      <th>No_of_days</th>\n",
       "    </tr>\n",
       "  </thead>\n",
       "  <tbody>\n",
       "    <tr>\n",
       "      <th>0</th>\n",
       "      <td>39162</td>\n",
       "      <td>2</td>\n",
       "      <td>2</td>\n",
       "      <td>NaN</td>\n",
       "      <td>1</td>\n",
       "      <td>1</td>\n",
       "      <td>0</td>\n",
       "      <td>0</td>\n",
       "      <td>0</td>\n",
       "      <td>1</td>\n",
       "      <td>0</td>\n",
       "      <td>0</td>\n",
       "      <td>0</td>\n",
       "      <td>0</td>\n",
       "      <td>1</td>\n",
       "      <td>0</td>\n",
       "      <td>NaN</td>\n",
       "      <td>137.0</td>\n",
       "    </tr>\n",
       "    <tr>\n",
       "      <th>1</th>\n",
       "      <td>39163</td>\n",
       "      <td>4</td>\n",
       "      <td>7</td>\n",
       "      <td>3.0</td>\n",
       "      <td>1</td>\n",
       "      <td>0</td>\n",
       "      <td>0</td>\n",
       "      <td>0</td>\n",
       "      <td>0</td>\n",
       "      <td>0</td>\n",
       "      <td>0</td>\n",
       "      <td>1</td>\n",
       "      <td>0</td>\n",
       "      <td>0</td>\n",
       "      <td>0</td>\n",
       "      <td>0</td>\n",
       "      <td>NaN</td>\n",
       "      <td>590.0</td>\n",
       "    </tr>\n",
       "    <tr>\n",
       "      <th>2</th>\n",
       "      <td>39164</td>\n",
       "      <td>8</td>\n",
       "      <td>7</td>\n",
       "      <td>NaN</td>\n",
       "      <td>0</td>\n",
       "      <td>0</td>\n",
       "      <td>0</td>\n",
       "      <td>0</td>\n",
       "      <td>1</td>\n",
       "      <td>1</td>\n",
       "      <td>0</td>\n",
       "      <td>0</td>\n",
       "      <td>0</td>\n",
       "      <td>0</td>\n",
       "      <td>0</td>\n",
       "      <td>0</td>\n",
       "      <td>NaN</td>\n",
       "      <td>0.0</td>\n",
       "    </tr>\n",
       "    <tr>\n",
       "      <th>3</th>\n",
       "      <td>39165</td>\n",
       "      <td>9</td>\n",
       "      <td>8</td>\n",
       "      <td>2.0</td>\n",
       "      <td>0</td>\n",
       "      <td>0</td>\n",
       "      <td>0</td>\n",
       "      <td>0</td>\n",
       "      <td>1</td>\n",
       "      <td>1</td>\n",
       "      <td>1</td>\n",
       "      <td>0</td>\n",
       "      <td>0</td>\n",
       "      <td>0</td>\n",
       "      <td>2</td>\n",
       "      <td>0</td>\n",
       "      <td>NaN</td>\n",
       "      <td>558.0</td>\n",
       "    </tr>\n",
       "    <tr>\n",
       "      <th>4</th>\n",
       "      <td>39166</td>\n",
       "      <td>4</td>\n",
       "      <td>5</td>\n",
       "      <td>2.0</td>\n",
       "      <td>1</td>\n",
       "      <td>0</td>\n",
       "      <td>0</td>\n",
       "      <td>0</td>\n",
       "      <td>0</td>\n",
       "      <td>0</td>\n",
       "      <td>0</td>\n",
       "      <td>0</td>\n",
       "      <td>0</td>\n",
       "      <td>0</td>\n",
       "      <td>0</td>\n",
       "      <td>0</td>\n",
       "      <td>NaN</td>\n",
       "      <td>297.0</td>\n",
       "    </tr>\n",
       "  </tbody>\n",
       "</table>\n",
       "</div>"
      ],
      "text/plain": [
       "      id  campaign_var_1  campaign_var_2  products_purchased  \\\n",
       "0  39162               2               2                 NaN   \n",
       "1  39163               4               7                 3.0   \n",
       "2  39164               8               7                 NaN   \n",
       "3  39165               9               8                 2.0   \n",
       "4  39166               4               5                 2.0   \n",
       "\n",
       "   user_activity_var_1  user_activity_var_2  user_activity_var_3  \\\n",
       "0                    1                    1                    0   \n",
       "1                    1                    0                    0   \n",
       "2                    0                    0                    0   \n",
       "3                    0                    0                    0   \n",
       "4                    1                    0                    0   \n",
       "\n",
       "   user_activity_var_4  user_activity_var_5  user_activity_var_6  \\\n",
       "0                    0                    0                    1   \n",
       "1                    0                    0                    0   \n",
       "2                    0                    1                    1   \n",
       "3                    0                    1                    1   \n",
       "4                    0                    0                    0   \n",
       "\n",
       "   user_activity_var_7  user_activity_var_8  user_activity_var_9  \\\n",
       "0                    0                    0                    0   \n",
       "1                    0                    1                    0   \n",
       "2                    0                    0                    0   \n",
       "3                    1                    0                    0   \n",
       "4                    0                    0                    0   \n",
       "\n",
       "   user_activity_var_10  user_activity_var_11  user_activity_var_12  buy  \\\n",
       "0                     0                     1                     0  NaN   \n",
       "1                     0                     0                     0  NaN   \n",
       "2                     0                     0                     0  NaN   \n",
       "3                     0                     2                     0  NaN   \n",
       "4                     0                     0                     0  NaN   \n",
       "\n",
       "   No_of_days  \n",
       "0       137.0  \n",
       "1       590.0  \n",
       "2         0.0  \n",
       "3       558.0  \n",
       "4       297.0  "
      ]
     },
     "execution_count": 29,
     "metadata": {},
     "output_type": "execute_result"
    }
   ],
   "source": [
    "d2c.head()"
   ]
  },
  {
   "cell_type": "markdown",
   "id": "9b6db1ea",
   "metadata": {},
   "source": [
    "## Treating null values"
   ]
  },
  {
   "cell_type": "code",
   "execution_count": 30,
   "id": "3121ee6a",
   "metadata": {},
   "outputs": [
    {
     "data": {
      "text/plain": [
       "id                          0\n",
       "campaign_var_1              0\n",
       "campaign_var_2              0\n",
       "products_purchased      29047\n",
       "user_activity_var_1         0\n",
       "user_activity_var_2         0\n",
       "user_activity_var_3         0\n",
       "user_activity_var_4         0\n",
       "user_activity_var_5         0\n",
       "user_activity_var_6         0\n",
       "user_activity_var_7         0\n",
       "user_activity_var_8         0\n",
       "user_activity_var_9         0\n",
       "user_activity_var_10        0\n",
       "user_activity_var_11        0\n",
       "user_activity_var_12        0\n",
       "buy                     13184\n",
       "No_of_days                  0\n",
       "dtype: int64"
      ]
     },
     "execution_count": 30,
     "metadata": {},
     "output_type": "execute_result"
    }
   ],
   "source": [
    "d2c.isna().sum()"
   ]
  },
  {
   "cell_type": "code",
   "execution_count": 31,
   "id": "5852e51e",
   "metadata": {},
   "outputs": [
    {
     "data": {
      "text/plain": [
       "array([nan,  3.,  2.,  1.,  4.])"
      ]
     },
     "execution_count": 31,
     "metadata": {},
     "output_type": "execute_result"
    }
   ],
   "source": [
    "d2c[\"products_purchased\"].unique()"
   ]
  },
  {
   "cell_type": "code",
   "execution_count": 32,
   "id": "4ab7ea3d",
   "metadata": {},
   "outputs": [
    {
     "data": {
      "text/plain": [
       "2.0    11351\n",
       "3.0     6284\n",
       "1.0     4749\n",
       "4.0      914\n",
       "Name: products_purchased, dtype: int64"
      ]
     },
     "execution_count": 32,
     "metadata": {},
     "output_type": "execute_result"
    }
   ],
   "source": [
    "d2c[\"products_purchased\"].value_counts()"
   ]
  },
  {
   "cell_type": "code",
   "execution_count": 33,
   "id": "6cb4b8e9",
   "metadata": {},
   "outputs": [
    {
     "data": {
      "text/html": [
       "<div>\n",
       "<style scoped>\n",
       "    .dataframe tbody tr th:only-of-type {\n",
       "        vertical-align: middle;\n",
       "    }\n",
       "\n",
       "    .dataframe tbody tr th {\n",
       "        vertical-align: top;\n",
       "    }\n",
       "\n",
       "    .dataframe thead th {\n",
       "        text-align: right;\n",
       "    }\n",
       "</style>\n",
       "<table border=\"1\" class=\"dataframe\">\n",
       "  <thead>\n",
       "    <tr style=\"text-align: right;\">\n",
       "      <th></th>\n",
       "      <th>id</th>\n",
       "      <th>campaign_var_1</th>\n",
       "      <th>campaign_var_2</th>\n",
       "      <th>products_purchased</th>\n",
       "      <th>user_activity_var_1</th>\n",
       "      <th>user_activity_var_2</th>\n",
       "      <th>user_activity_var_3</th>\n",
       "      <th>user_activity_var_4</th>\n",
       "      <th>user_activity_var_5</th>\n",
       "      <th>user_activity_var_6</th>\n",
       "      <th>user_activity_var_7</th>\n",
       "      <th>user_activity_var_8</th>\n",
       "      <th>user_activity_var_9</th>\n",
       "      <th>user_activity_var_10</th>\n",
       "      <th>user_activity_var_11</th>\n",
       "      <th>user_activity_var_12</th>\n",
       "      <th>buy</th>\n",
       "      <th>No_of_days</th>\n",
       "    </tr>\n",
       "  </thead>\n",
       "  <tbody>\n",
       "    <tr>\n",
       "      <th>173</th>\n",
       "      <td>174</td>\n",
       "      <td>6</td>\n",
       "      <td>3</td>\n",
       "      <td>NaN</td>\n",
       "      <td>0</td>\n",
       "      <td>1</td>\n",
       "      <td>0</td>\n",
       "      <td>0</td>\n",
       "      <td>1</td>\n",
       "      <td>0</td>\n",
       "      <td>0</td>\n",
       "      <td>0</td>\n",
       "      <td>0</td>\n",
       "      <td>0</td>\n",
       "      <td>0</td>\n",
       "      <td>0</td>\n",
       "      <td>1.0</td>\n",
       "      <td>53.0</td>\n",
       "    </tr>\n",
       "    <tr>\n",
       "      <th>178</th>\n",
       "      <td>179</td>\n",
       "      <td>8</td>\n",
       "      <td>9</td>\n",
       "      <td>NaN</td>\n",
       "      <td>1</td>\n",
       "      <td>0</td>\n",
       "      <td>0</td>\n",
       "      <td>1</td>\n",
       "      <td>1</td>\n",
       "      <td>0</td>\n",
       "      <td>0</td>\n",
       "      <td>0</td>\n",
       "      <td>1</td>\n",
       "      <td>0</td>\n",
       "      <td>0</td>\n",
       "      <td>0</td>\n",
       "      <td>1.0</td>\n",
       "      <td>898.0</td>\n",
       "    </tr>\n",
       "    <tr>\n",
       "      <th>305</th>\n",
       "      <td>306</td>\n",
       "      <td>5</td>\n",
       "      <td>7</td>\n",
       "      <td>NaN</td>\n",
       "      <td>1</td>\n",
       "      <td>0</td>\n",
       "      <td>0</td>\n",
       "      <td>0</td>\n",
       "      <td>0</td>\n",
       "      <td>0</td>\n",
       "      <td>0</td>\n",
       "      <td>0</td>\n",
       "      <td>0</td>\n",
       "      <td>0</td>\n",
       "      <td>0</td>\n",
       "      <td>0</td>\n",
       "      <td>1.0</td>\n",
       "      <td>0.0</td>\n",
       "    </tr>\n",
       "    <tr>\n",
       "      <th>326</th>\n",
       "      <td>327</td>\n",
       "      <td>3</td>\n",
       "      <td>6</td>\n",
       "      <td>NaN</td>\n",
       "      <td>0</td>\n",
       "      <td>0</td>\n",
       "      <td>0</td>\n",
       "      <td>1</td>\n",
       "      <td>0</td>\n",
       "      <td>1</td>\n",
       "      <td>0</td>\n",
       "      <td>0</td>\n",
       "      <td>0</td>\n",
       "      <td>0</td>\n",
       "      <td>0</td>\n",
       "      <td>0</td>\n",
       "      <td>1.0</td>\n",
       "      <td>1461.0</td>\n",
       "    </tr>\n",
       "    <tr>\n",
       "      <th>345</th>\n",
       "      <td>346</td>\n",
       "      <td>5</td>\n",
       "      <td>8</td>\n",
       "      <td>NaN</td>\n",
       "      <td>1</td>\n",
       "      <td>0</td>\n",
       "      <td>0</td>\n",
       "      <td>1</td>\n",
       "      <td>0</td>\n",
       "      <td>1</td>\n",
       "      <td>0</td>\n",
       "      <td>0</td>\n",
       "      <td>0</td>\n",
       "      <td>0</td>\n",
       "      <td>0</td>\n",
       "      <td>0</td>\n",
       "      <td>1.0</td>\n",
       "      <td>219.0</td>\n",
       "    </tr>\n",
       "    <tr>\n",
       "      <th>...</th>\n",
       "      <td>...</td>\n",
       "      <td>...</td>\n",
       "      <td>...</td>\n",
       "      <td>...</td>\n",
       "      <td>...</td>\n",
       "      <td>...</td>\n",
       "      <td>...</td>\n",
       "      <td>...</td>\n",
       "      <td>...</td>\n",
       "      <td>...</td>\n",
       "      <td>...</td>\n",
       "      <td>...</td>\n",
       "      <td>...</td>\n",
       "      <td>...</td>\n",
       "      <td>...</td>\n",
       "      <td>...</td>\n",
       "      <td>...</td>\n",
       "      <td>...</td>\n",
       "    </tr>\n",
       "    <tr>\n",
       "      <th>38871</th>\n",
       "      <td>38872</td>\n",
       "      <td>3</td>\n",
       "      <td>6</td>\n",
       "      <td>NaN</td>\n",
       "      <td>0</td>\n",
       "      <td>0</td>\n",
       "      <td>0</td>\n",
       "      <td>0</td>\n",
       "      <td>1</td>\n",
       "      <td>0</td>\n",
       "      <td>0</td>\n",
       "      <td>0</td>\n",
       "      <td>0</td>\n",
       "      <td>0</td>\n",
       "      <td>1</td>\n",
       "      <td>0</td>\n",
       "      <td>1.0</td>\n",
       "      <td>408.0</td>\n",
       "    </tr>\n",
       "    <tr>\n",
       "      <th>38964</th>\n",
       "      <td>38965</td>\n",
       "      <td>5</td>\n",
       "      <td>6</td>\n",
       "      <td>NaN</td>\n",
       "      <td>1</td>\n",
       "      <td>0</td>\n",
       "      <td>0</td>\n",
       "      <td>0</td>\n",
       "      <td>1</td>\n",
       "      <td>1</td>\n",
       "      <td>1</td>\n",
       "      <td>1</td>\n",
       "      <td>1</td>\n",
       "      <td>0</td>\n",
       "      <td>0</td>\n",
       "      <td>0</td>\n",
       "      <td>1.0</td>\n",
       "      <td>669.0</td>\n",
       "    </tr>\n",
       "    <tr>\n",
       "      <th>39071</th>\n",
       "      <td>39072</td>\n",
       "      <td>6</td>\n",
       "      <td>6</td>\n",
       "      <td>NaN</td>\n",
       "      <td>0</td>\n",
       "      <td>0</td>\n",
       "      <td>1</td>\n",
       "      <td>1</td>\n",
       "      <td>1</td>\n",
       "      <td>1</td>\n",
       "      <td>0</td>\n",
       "      <td>0</td>\n",
       "      <td>0</td>\n",
       "      <td>0</td>\n",
       "      <td>1</td>\n",
       "      <td>0</td>\n",
       "      <td>1.0</td>\n",
       "      <td>364.0</td>\n",
       "    </tr>\n",
       "    <tr>\n",
       "      <th>39129</th>\n",
       "      <td>39130</td>\n",
       "      <td>6</td>\n",
       "      <td>6</td>\n",
       "      <td>NaN</td>\n",
       "      <td>1</td>\n",
       "      <td>0</td>\n",
       "      <td>0</td>\n",
       "      <td>0</td>\n",
       "      <td>0</td>\n",
       "      <td>1</td>\n",
       "      <td>0</td>\n",
       "      <td>0</td>\n",
       "      <td>0</td>\n",
       "      <td>0</td>\n",
       "      <td>1</td>\n",
       "      <td>0</td>\n",
       "      <td>1.0</td>\n",
       "      <td>957.0</td>\n",
       "    </tr>\n",
       "    <tr>\n",
       "      <th>39139</th>\n",
       "      <td>39140</td>\n",
       "      <td>8</td>\n",
       "      <td>6</td>\n",
       "      <td>NaN</td>\n",
       "      <td>0</td>\n",
       "      <td>0</td>\n",
       "      <td>0</td>\n",
       "      <td>1</td>\n",
       "      <td>0</td>\n",
       "      <td>0</td>\n",
       "      <td>0</td>\n",
       "      <td>0</td>\n",
       "      <td>0</td>\n",
       "      <td>0</td>\n",
       "      <td>0</td>\n",
       "      <td>0</td>\n",
       "      <td>1.0</td>\n",
       "      <td>124.0</td>\n",
       "    </tr>\n",
       "  </tbody>\n",
       "</table>\n",
       "<p>1045 rows × 18 columns</p>\n",
       "</div>"
      ],
      "text/plain": [
       "          id  campaign_var_1  campaign_var_2  products_purchased  \\\n",
       "173      174               6               3                 NaN   \n",
       "178      179               8               9                 NaN   \n",
       "305      306               5               7                 NaN   \n",
       "326      327               3               6                 NaN   \n",
       "345      346               5               8                 NaN   \n",
       "...      ...             ...             ...                 ...   \n",
       "38871  38872               3               6                 NaN   \n",
       "38964  38965               5               6                 NaN   \n",
       "39071  39072               6               6                 NaN   \n",
       "39129  39130               6               6                 NaN   \n",
       "39139  39140               8               6                 NaN   \n",
       "\n",
       "       user_activity_var_1  user_activity_var_2  user_activity_var_3  \\\n",
       "173                      0                    1                    0   \n",
       "178                      1                    0                    0   \n",
       "305                      1                    0                    0   \n",
       "326                      0                    0                    0   \n",
       "345                      1                    0                    0   \n",
       "...                    ...                  ...                  ...   \n",
       "38871                    0                    0                    0   \n",
       "38964                    1                    0                    0   \n",
       "39071                    0                    0                    1   \n",
       "39129                    1                    0                    0   \n",
       "39139                    0                    0                    0   \n",
       "\n",
       "       user_activity_var_4  user_activity_var_5  user_activity_var_6  \\\n",
       "173                      0                    1                    0   \n",
       "178                      1                    1                    0   \n",
       "305                      0                    0                    0   \n",
       "326                      1                    0                    1   \n",
       "345                      1                    0                    1   \n",
       "...                    ...                  ...                  ...   \n",
       "38871                    0                    1                    0   \n",
       "38964                    0                    1                    1   \n",
       "39071                    1                    1                    1   \n",
       "39129                    0                    0                    1   \n",
       "39139                    1                    0                    0   \n",
       "\n",
       "       user_activity_var_7  user_activity_var_8  user_activity_var_9  \\\n",
       "173                      0                    0                    0   \n",
       "178                      0                    0                    1   \n",
       "305                      0                    0                    0   \n",
       "326                      0                    0                    0   \n",
       "345                      0                    0                    0   \n",
       "...                    ...                  ...                  ...   \n",
       "38871                    0                    0                    0   \n",
       "38964                    1                    1                    1   \n",
       "39071                    0                    0                    0   \n",
       "39129                    0                    0                    0   \n",
       "39139                    0                    0                    0   \n",
       "\n",
       "       user_activity_var_10  user_activity_var_11  user_activity_var_12  buy  \\\n",
       "173                       0                     0                     0  1.0   \n",
       "178                       0                     0                     0  1.0   \n",
       "305                       0                     0                     0  1.0   \n",
       "326                       0                     0                     0  1.0   \n",
       "345                       0                     0                     0  1.0   \n",
       "...                     ...                   ...                   ...  ...   \n",
       "38871                     0                     1                     0  1.0   \n",
       "38964                     0                     0                     0  1.0   \n",
       "39071                     0                     1                     0  1.0   \n",
       "39129                     0                     1                     0  1.0   \n",
       "39139                     0                     0                     0  1.0   \n",
       "\n",
       "       No_of_days  \n",
       "173          53.0  \n",
       "178         898.0  \n",
       "305           0.0  \n",
       "326        1461.0  \n",
       "345         219.0  \n",
       "...           ...  \n",
       "38871       408.0  \n",
       "38964       669.0  \n",
       "39071       364.0  \n",
       "39129       957.0  \n",
       "39139       124.0  \n",
       "\n",
       "[1045 rows x 18 columns]"
      ]
     },
     "execution_count": 33,
     "metadata": {},
     "output_type": "execute_result"
    }
   ],
   "source": [
    "d2c[d2c[\"products_purchased\"].isnull() & d2c[\"buy\"]==1]"
   ]
  },
  {
   "cell_type": "code",
   "execution_count": 31,
   "id": "aba6218b",
   "metadata": {},
   "outputs": [
    {
     "data": {
      "text/html": [
       "<div>\n",
       "<style scoped>\n",
       "    .dataframe tbody tr th:only-of-type {\n",
       "        vertical-align: middle;\n",
       "    }\n",
       "\n",
       "    .dataframe tbody tr th {\n",
       "        vertical-align: top;\n",
       "    }\n",
       "\n",
       "    .dataframe thead th {\n",
       "        text-align: right;\n",
       "    }\n",
       "</style>\n",
       "<table border=\"1\" class=\"dataframe\">\n",
       "  <thead>\n",
       "    <tr style=\"text-align: right;\">\n",
       "      <th></th>\n",
       "      <th>id</th>\n",
       "      <th>campaign_var_1</th>\n",
       "      <th>campaign_var_2</th>\n",
       "      <th>products_purchased</th>\n",
       "      <th>user_activity_var_1</th>\n",
       "      <th>user_activity_var_2</th>\n",
       "      <th>user_activity_var_3</th>\n",
       "      <th>user_activity_var_4</th>\n",
       "      <th>user_activity_var_5</th>\n",
       "      <th>user_activity_var_6</th>\n",
       "      <th>user_activity_var_7</th>\n",
       "      <th>user_activity_var_8</th>\n",
       "      <th>user_activity_var_9</th>\n",
       "      <th>user_activity_var_10</th>\n",
       "      <th>user_activity_var_11</th>\n",
       "      <th>user_activity_var_12</th>\n",
       "      <th>buy</th>\n",
       "      <th>No_of_days</th>\n",
       "    </tr>\n",
       "  </thead>\n",
       "  <tbody>\n",
       "    <tr>\n",
       "      <th>id</th>\n",
       "      <td>1.000000</td>\n",
       "      <td>0.196967</td>\n",
       "      <td>0.309920</td>\n",
       "      <td>-0.035847</td>\n",
       "      <td>-0.000990</td>\n",
       "      <td>-0.017868</td>\n",
       "      <td>0.000910</td>\n",
       "      <td>-0.023842</td>\n",
       "      <td>-0.002697</td>\n",
       "      <td>0.023918</td>\n",
       "      <td>0.022703</td>\n",
       "      <td>-0.049665</td>\n",
       "      <td>-0.021797</td>\n",
       "      <td>-0.002297</td>\n",
       "      <td>0.040550</td>\n",
       "      <td>-0.010812</td>\n",
       "      <td>-0.020762</td>\n",
       "      <td>-0.036558</td>\n",
       "    </tr>\n",
       "    <tr>\n",
       "      <th>campaign_var_1</th>\n",
       "      <td>0.196967</td>\n",
       "      <td>1.000000</td>\n",
       "      <td>0.575101</td>\n",
       "      <td>-0.016120</td>\n",
       "      <td>0.020371</td>\n",
       "      <td>-0.037443</td>\n",
       "      <td>-0.010616</td>\n",
       "      <td>-0.034883</td>\n",
       "      <td>-0.024671</td>\n",
       "      <td>0.030934</td>\n",
       "      <td>-0.072626</td>\n",
       "      <td>-0.018211</td>\n",
       "      <td>-0.058469</td>\n",
       "      <td>-0.008395</td>\n",
       "      <td>-0.013608</td>\n",
       "      <td>-0.007810</td>\n",
       "      <td>-0.087202</td>\n",
       "      <td>-0.037620</td>\n",
       "    </tr>\n",
       "    <tr>\n",
       "      <th>campaign_var_2</th>\n",
       "      <td>0.309920</td>\n",
       "      <td>0.575101</td>\n",
       "      <td>1.000000</td>\n",
       "      <td>0.011559</td>\n",
       "      <td>-0.039925</td>\n",
       "      <td>-0.045376</td>\n",
       "      <td>-0.007585</td>\n",
       "      <td>-0.045739</td>\n",
       "      <td>-0.033279</td>\n",
       "      <td>0.068066</td>\n",
       "      <td>-0.047743</td>\n",
       "      <td>-0.042167</td>\n",
       "      <td>-0.065208</td>\n",
       "      <td>-0.010986</td>\n",
       "      <td>-0.002274</td>\n",
       "      <td>-0.009580</td>\n",
       "      <td>-0.080064</td>\n",
       "      <td>-0.062435</td>\n",
       "    </tr>\n",
       "    <tr>\n",
       "      <th>products_purchased</th>\n",
       "      <td>-0.035847</td>\n",
       "      <td>-0.016120</td>\n",
       "      <td>0.011559</td>\n",
       "      <td>1.000000</td>\n",
       "      <td>-0.008918</td>\n",
       "      <td>0.010549</td>\n",
       "      <td>0.003865</td>\n",
       "      <td>0.015960</td>\n",
       "      <td>-0.004388</td>\n",
       "      <td>-0.000623</td>\n",
       "      <td>0.004462</td>\n",
       "      <td>-0.002350</td>\n",
       "      <td>0.005435</td>\n",
       "      <td>0.000649</td>\n",
       "      <td>0.003861</td>\n",
       "      <td>-0.006620</td>\n",
       "      <td>0.004140</td>\n",
       "      <td>0.123279</td>\n",
       "    </tr>\n",
       "    <tr>\n",
       "      <th>user_activity_var_1</th>\n",
       "      <td>-0.000990</td>\n",
       "      <td>0.020371</td>\n",
       "      <td>-0.039925</td>\n",
       "      <td>-0.008918</td>\n",
       "      <td>1.000000</td>\n",
       "      <td>0.017601</td>\n",
       "      <td>-0.023360</td>\n",
       "      <td>0.018763</td>\n",
       "      <td>-0.011201</td>\n",
       "      <td>-0.192975</td>\n",
       "      <td>-0.084755</td>\n",
       "      <td>-0.047212</td>\n",
       "      <td>0.034029</td>\n",
       "      <td>0.009850</td>\n",
       "      <td>-0.059969</td>\n",
       "      <td>0.003581</td>\n",
       "      <td>0.044811</td>\n",
       "      <td>-0.005060</td>\n",
       "    </tr>\n",
       "    <tr>\n",
       "      <th>user_activity_var_2</th>\n",
       "      <td>-0.017868</td>\n",
       "      <td>-0.037443</td>\n",
       "      <td>-0.045376</td>\n",
       "      <td>0.010549</td>\n",
       "      <td>0.017601</td>\n",
       "      <td>1.000000</td>\n",
       "      <td>-0.000680</td>\n",
       "      <td>0.127653</td>\n",
       "      <td>0.055613</td>\n",
       "      <td>-0.001538</td>\n",
       "      <td>-0.020844</td>\n",
       "      <td>-0.032335</td>\n",
       "      <td>0.137292</td>\n",
       "      <td>0.038266</td>\n",
       "      <td>0.087277</td>\n",
       "      <td>0.020758</td>\n",
       "      <td>0.354627</td>\n",
       "      <td>0.052175</td>\n",
       "    </tr>\n",
       "    <tr>\n",
       "      <th>user_activity_var_3</th>\n",
       "      <td>0.000910</td>\n",
       "      <td>-0.010616</td>\n",
       "      <td>-0.007585</td>\n",
       "      <td>0.003865</td>\n",
       "      <td>-0.023360</td>\n",
       "      <td>-0.000680</td>\n",
       "      <td>1.000000</td>\n",
       "      <td>0.004403</td>\n",
       "      <td>0.022082</td>\n",
       "      <td>-0.053253</td>\n",
       "      <td>-0.007387</td>\n",
       "      <td>-0.021408</td>\n",
       "      <td>0.000885</td>\n",
       "      <td>0.014060</td>\n",
       "      <td>-0.029252</td>\n",
       "      <td>0.009858</td>\n",
       "      <td>0.005174</td>\n",
       "      <td>0.011455</td>\n",
       "    </tr>\n",
       "    <tr>\n",
       "      <th>user_activity_var_4</th>\n",
       "      <td>-0.023842</td>\n",
       "      <td>-0.034883</td>\n",
       "      <td>-0.045739</td>\n",
       "      <td>0.015960</td>\n",
       "      <td>0.018763</td>\n",
       "      <td>0.127653</td>\n",
       "      <td>0.004403</td>\n",
       "      <td>1.000000</td>\n",
       "      <td>0.063659</td>\n",
       "      <td>-0.018826</td>\n",
       "      <td>-0.004149</td>\n",
       "      <td>-0.037123</td>\n",
       "      <td>0.199956</td>\n",
       "      <td>0.038779</td>\n",
       "      <td>0.070903</td>\n",
       "      <td>0.032281</td>\n",
       "      <td>0.394706</td>\n",
       "      <td>0.070695</td>\n",
       "    </tr>\n",
       "    <tr>\n",
       "      <th>user_activity_var_5</th>\n",
       "      <td>-0.002697</td>\n",
       "      <td>-0.024671</td>\n",
       "      <td>-0.033279</td>\n",
       "      <td>-0.004388</td>\n",
       "      <td>-0.011201</td>\n",
       "      <td>0.055613</td>\n",
       "      <td>0.022082</td>\n",
       "      <td>0.063659</td>\n",
       "      <td>1.000000</td>\n",
       "      <td>-0.079282</td>\n",
       "      <td>-0.010042</td>\n",
       "      <td>-0.032518</td>\n",
       "      <td>0.074787</td>\n",
       "      <td>0.020800</td>\n",
       "      <td>0.024516</td>\n",
       "      <td>0.022356</td>\n",
       "      <td>0.164972</td>\n",
       "      <td>0.045031</td>\n",
       "    </tr>\n",
       "    <tr>\n",
       "      <th>user_activity_var_6</th>\n",
       "      <td>0.023918</td>\n",
       "      <td>0.030934</td>\n",
       "      <td>0.068066</td>\n",
       "      <td>-0.000623</td>\n",
       "      <td>-0.192975</td>\n",
       "      <td>-0.001538</td>\n",
       "      <td>-0.053253</td>\n",
       "      <td>-0.018826</td>\n",
       "      <td>-0.079282</td>\n",
       "      <td>1.000000</td>\n",
       "      <td>-0.167992</td>\n",
       "      <td>-0.060762</td>\n",
       "      <td>-0.015576</td>\n",
       "      <td>0.001631</td>\n",
       "      <td>-0.078368</td>\n",
       "      <td>0.000535</td>\n",
       "      <td>-0.010951</td>\n",
       "      <td>0.008198</td>\n",
       "    </tr>\n",
       "    <tr>\n",
       "      <th>user_activity_var_7</th>\n",
       "      <td>0.022703</td>\n",
       "      <td>-0.072626</td>\n",
       "      <td>-0.047743</td>\n",
       "      <td>0.004462</td>\n",
       "      <td>-0.084755</td>\n",
       "      <td>-0.020844</td>\n",
       "      <td>-0.007387</td>\n",
       "      <td>-0.004149</td>\n",
       "      <td>-0.010042</td>\n",
       "      <td>-0.167992</td>\n",
       "      <td>1.000000</td>\n",
       "      <td>-0.038432</td>\n",
       "      <td>-0.010835</td>\n",
       "      <td>0.003963</td>\n",
       "      <td>-0.060978</td>\n",
       "      <td>0.005201</td>\n",
       "      <td>-0.028428</td>\n",
       "      <td>0.015328</td>\n",
       "    </tr>\n",
       "    <tr>\n",
       "      <th>user_activity_var_8</th>\n",
       "      <td>-0.049665</td>\n",
       "      <td>-0.018211</td>\n",
       "      <td>-0.042167</td>\n",
       "      <td>-0.002350</td>\n",
       "      <td>-0.047212</td>\n",
       "      <td>-0.032335</td>\n",
       "      <td>-0.021408</td>\n",
       "      <td>-0.037123</td>\n",
       "      <td>-0.032518</td>\n",
       "      <td>-0.060762</td>\n",
       "      <td>-0.038432</td>\n",
       "      <td>1.000000</td>\n",
       "      <td>-0.039844</td>\n",
       "      <td>-0.008283</td>\n",
       "      <td>-0.039283</td>\n",
       "      <td>-0.002724</td>\n",
       "      <td>-0.097355</td>\n",
       "      <td>-0.075867</td>\n",
       "    </tr>\n",
       "    <tr>\n",
       "      <th>user_activity_var_9</th>\n",
       "      <td>-0.021797</td>\n",
       "      <td>-0.058469</td>\n",
       "      <td>-0.065208</td>\n",
       "      <td>0.005435</td>\n",
       "      <td>0.034029</td>\n",
       "      <td>0.137292</td>\n",
       "      <td>0.000885</td>\n",
       "      <td>0.199956</td>\n",
       "      <td>0.074787</td>\n",
       "      <td>-0.015576</td>\n",
       "      <td>-0.010835</td>\n",
       "      <td>-0.039844</td>\n",
       "      <td>1.000000</td>\n",
       "      <td>0.038102</td>\n",
       "      <td>0.128124</td>\n",
       "      <td>0.031698</td>\n",
       "      <td>0.463947</td>\n",
       "      <td>0.084300</td>\n",
       "    </tr>\n",
       "    <tr>\n",
       "      <th>user_activity_var_10</th>\n",
       "      <td>-0.002297</td>\n",
       "      <td>-0.008395</td>\n",
       "      <td>-0.010986</td>\n",
       "      <td>0.000649</td>\n",
       "      <td>0.009850</td>\n",
       "      <td>0.038266</td>\n",
       "      <td>0.014060</td>\n",
       "      <td>0.038779</td>\n",
       "      <td>0.020800</td>\n",
       "      <td>0.001631</td>\n",
       "      <td>0.003963</td>\n",
       "      <td>-0.008283</td>\n",
       "      <td>0.038102</td>\n",
       "      <td>1.000000</td>\n",
       "      <td>0.020856</td>\n",
       "      <td>-0.000405</td>\n",
       "      <td>0.084423</td>\n",
       "      <td>0.019222</td>\n",
       "    </tr>\n",
       "    <tr>\n",
       "      <th>user_activity_var_11</th>\n",
       "      <td>0.040550</td>\n",
       "      <td>-0.013608</td>\n",
       "      <td>-0.002274</td>\n",
       "      <td>0.003861</td>\n",
       "      <td>-0.059969</td>\n",
       "      <td>0.087277</td>\n",
       "      <td>-0.029252</td>\n",
       "      <td>0.070903</td>\n",
       "      <td>0.024516</td>\n",
       "      <td>-0.078368</td>\n",
       "      <td>-0.060978</td>\n",
       "      <td>-0.039283</td>\n",
       "      <td>0.128124</td>\n",
       "      <td>0.020856</td>\n",
       "      <td>1.000000</td>\n",
       "      <td>0.018506</td>\n",
       "      <td>0.267995</td>\n",
       "      <td>0.041016</td>\n",
       "    </tr>\n",
       "    <tr>\n",
       "      <th>user_activity_var_12</th>\n",
       "      <td>-0.010812</td>\n",
       "      <td>-0.007810</td>\n",
       "      <td>-0.009580</td>\n",
       "      <td>-0.006620</td>\n",
       "      <td>0.003581</td>\n",
       "      <td>0.020758</td>\n",
       "      <td>0.009858</td>\n",
       "      <td>0.032281</td>\n",
       "      <td>0.022356</td>\n",
       "      <td>0.000535</td>\n",
       "      <td>0.005201</td>\n",
       "      <td>-0.002724</td>\n",
       "      <td>0.031698</td>\n",
       "      <td>-0.000405</td>\n",
       "      <td>0.018506</td>\n",
       "      <td>1.000000</td>\n",
       "      <td>0.067967</td>\n",
       "      <td>0.022773</td>\n",
       "    </tr>\n",
       "    <tr>\n",
       "      <th>buy</th>\n",
       "      <td>-0.020762</td>\n",
       "      <td>-0.087202</td>\n",
       "      <td>-0.080064</td>\n",
       "      <td>0.004140</td>\n",
       "      <td>0.044811</td>\n",
       "      <td>0.354627</td>\n",
       "      <td>0.005174</td>\n",
       "      <td>0.394706</td>\n",
       "      <td>0.164972</td>\n",
       "      <td>-0.010951</td>\n",
       "      <td>-0.028428</td>\n",
       "      <td>-0.097355</td>\n",
       "      <td>0.463947</td>\n",
       "      <td>0.084423</td>\n",
       "      <td>0.267995</td>\n",
       "      <td>0.067967</td>\n",
       "      <td>1.000000</td>\n",
       "      <td>0.174348</td>\n",
       "    </tr>\n",
       "    <tr>\n",
       "      <th>No_of_days</th>\n",
       "      <td>-0.036558</td>\n",
       "      <td>-0.037620</td>\n",
       "      <td>-0.062435</td>\n",
       "      <td>0.123279</td>\n",
       "      <td>-0.005060</td>\n",
       "      <td>0.052175</td>\n",
       "      <td>0.011455</td>\n",
       "      <td>0.070695</td>\n",
       "      <td>0.045031</td>\n",
       "      <td>0.008198</td>\n",
       "      <td>0.015328</td>\n",
       "      <td>-0.075867</td>\n",
       "      <td>0.084300</td>\n",
       "      <td>0.019222</td>\n",
       "      <td>0.041016</td>\n",
       "      <td>0.022773</td>\n",
       "      <td>0.174348</td>\n",
       "      <td>1.000000</td>\n",
       "    </tr>\n",
       "  </tbody>\n",
       "</table>\n",
       "</div>"
      ],
      "text/plain": [
       "                            id  campaign_var_1  campaign_var_2  \\\n",
       "id                    1.000000        0.196967        0.309920   \n",
       "campaign_var_1        0.196967        1.000000        0.575101   \n",
       "campaign_var_2        0.309920        0.575101        1.000000   \n",
       "products_purchased   -0.035847       -0.016120        0.011559   \n",
       "user_activity_var_1  -0.000990        0.020371       -0.039925   \n",
       "user_activity_var_2  -0.017868       -0.037443       -0.045376   \n",
       "user_activity_var_3   0.000910       -0.010616       -0.007585   \n",
       "user_activity_var_4  -0.023842       -0.034883       -0.045739   \n",
       "user_activity_var_5  -0.002697       -0.024671       -0.033279   \n",
       "user_activity_var_6   0.023918        0.030934        0.068066   \n",
       "user_activity_var_7   0.022703       -0.072626       -0.047743   \n",
       "user_activity_var_8  -0.049665       -0.018211       -0.042167   \n",
       "user_activity_var_9  -0.021797       -0.058469       -0.065208   \n",
       "user_activity_var_10 -0.002297       -0.008395       -0.010986   \n",
       "user_activity_var_11  0.040550       -0.013608       -0.002274   \n",
       "user_activity_var_12 -0.010812       -0.007810       -0.009580   \n",
       "buy                  -0.020762       -0.087202       -0.080064   \n",
       "No_of_days           -0.036558       -0.037620       -0.062435   \n",
       "\n",
       "                      products_purchased  user_activity_var_1  \\\n",
       "id                             -0.035847            -0.000990   \n",
       "campaign_var_1                 -0.016120             0.020371   \n",
       "campaign_var_2                  0.011559            -0.039925   \n",
       "products_purchased              1.000000            -0.008918   \n",
       "user_activity_var_1            -0.008918             1.000000   \n",
       "user_activity_var_2             0.010549             0.017601   \n",
       "user_activity_var_3             0.003865            -0.023360   \n",
       "user_activity_var_4             0.015960             0.018763   \n",
       "user_activity_var_5            -0.004388            -0.011201   \n",
       "user_activity_var_6            -0.000623            -0.192975   \n",
       "user_activity_var_7             0.004462            -0.084755   \n",
       "user_activity_var_8            -0.002350            -0.047212   \n",
       "user_activity_var_9             0.005435             0.034029   \n",
       "user_activity_var_10            0.000649             0.009850   \n",
       "user_activity_var_11            0.003861            -0.059969   \n",
       "user_activity_var_12           -0.006620             0.003581   \n",
       "buy                             0.004140             0.044811   \n",
       "No_of_days                      0.123279            -0.005060   \n",
       "\n",
       "                      user_activity_var_2  user_activity_var_3  \\\n",
       "id                              -0.017868             0.000910   \n",
       "campaign_var_1                  -0.037443            -0.010616   \n",
       "campaign_var_2                  -0.045376            -0.007585   \n",
       "products_purchased               0.010549             0.003865   \n",
       "user_activity_var_1              0.017601            -0.023360   \n",
       "user_activity_var_2              1.000000            -0.000680   \n",
       "user_activity_var_3             -0.000680             1.000000   \n",
       "user_activity_var_4              0.127653             0.004403   \n",
       "user_activity_var_5              0.055613             0.022082   \n",
       "user_activity_var_6             -0.001538            -0.053253   \n",
       "user_activity_var_7             -0.020844            -0.007387   \n",
       "user_activity_var_8             -0.032335            -0.021408   \n",
       "user_activity_var_9              0.137292             0.000885   \n",
       "user_activity_var_10             0.038266             0.014060   \n",
       "user_activity_var_11             0.087277            -0.029252   \n",
       "user_activity_var_12             0.020758             0.009858   \n",
       "buy                              0.354627             0.005174   \n",
       "No_of_days                       0.052175             0.011455   \n",
       "\n",
       "                      user_activity_var_4  user_activity_var_5  \\\n",
       "id                              -0.023842            -0.002697   \n",
       "campaign_var_1                  -0.034883            -0.024671   \n",
       "campaign_var_2                  -0.045739            -0.033279   \n",
       "products_purchased               0.015960            -0.004388   \n",
       "user_activity_var_1              0.018763            -0.011201   \n",
       "user_activity_var_2              0.127653             0.055613   \n",
       "user_activity_var_3              0.004403             0.022082   \n",
       "user_activity_var_4              1.000000             0.063659   \n",
       "user_activity_var_5              0.063659             1.000000   \n",
       "user_activity_var_6             -0.018826            -0.079282   \n",
       "user_activity_var_7             -0.004149            -0.010042   \n",
       "user_activity_var_8             -0.037123            -0.032518   \n",
       "user_activity_var_9              0.199956             0.074787   \n",
       "user_activity_var_10             0.038779             0.020800   \n",
       "user_activity_var_11             0.070903             0.024516   \n",
       "user_activity_var_12             0.032281             0.022356   \n",
       "buy                              0.394706             0.164972   \n",
       "No_of_days                       0.070695             0.045031   \n",
       "\n",
       "                      user_activity_var_6  user_activity_var_7  \\\n",
       "id                               0.023918             0.022703   \n",
       "campaign_var_1                   0.030934            -0.072626   \n",
       "campaign_var_2                   0.068066            -0.047743   \n",
       "products_purchased              -0.000623             0.004462   \n",
       "user_activity_var_1             -0.192975            -0.084755   \n",
       "user_activity_var_2             -0.001538            -0.020844   \n",
       "user_activity_var_3             -0.053253            -0.007387   \n",
       "user_activity_var_4             -0.018826            -0.004149   \n",
       "user_activity_var_5             -0.079282            -0.010042   \n",
       "user_activity_var_6              1.000000            -0.167992   \n",
       "user_activity_var_7             -0.167992             1.000000   \n",
       "user_activity_var_8             -0.060762            -0.038432   \n",
       "user_activity_var_9             -0.015576            -0.010835   \n",
       "user_activity_var_10             0.001631             0.003963   \n",
       "user_activity_var_11            -0.078368            -0.060978   \n",
       "user_activity_var_12             0.000535             0.005201   \n",
       "buy                             -0.010951            -0.028428   \n",
       "No_of_days                       0.008198             0.015328   \n",
       "\n",
       "                      user_activity_var_8  user_activity_var_9  \\\n",
       "id                              -0.049665            -0.021797   \n",
       "campaign_var_1                  -0.018211            -0.058469   \n",
       "campaign_var_2                  -0.042167            -0.065208   \n",
       "products_purchased              -0.002350             0.005435   \n",
       "user_activity_var_1             -0.047212             0.034029   \n",
       "user_activity_var_2             -0.032335             0.137292   \n",
       "user_activity_var_3             -0.021408             0.000885   \n",
       "user_activity_var_4             -0.037123             0.199956   \n",
       "user_activity_var_5             -0.032518             0.074787   \n",
       "user_activity_var_6             -0.060762            -0.015576   \n",
       "user_activity_var_7             -0.038432            -0.010835   \n",
       "user_activity_var_8              1.000000            -0.039844   \n",
       "user_activity_var_9             -0.039844             1.000000   \n",
       "user_activity_var_10            -0.008283             0.038102   \n",
       "user_activity_var_11            -0.039283             0.128124   \n",
       "user_activity_var_12            -0.002724             0.031698   \n",
       "buy                             -0.097355             0.463947   \n",
       "No_of_days                      -0.075867             0.084300   \n",
       "\n",
       "                      user_activity_var_10  user_activity_var_11  \\\n",
       "id                               -0.002297              0.040550   \n",
       "campaign_var_1                   -0.008395             -0.013608   \n",
       "campaign_var_2                   -0.010986             -0.002274   \n",
       "products_purchased                0.000649              0.003861   \n",
       "user_activity_var_1               0.009850             -0.059969   \n",
       "user_activity_var_2               0.038266              0.087277   \n",
       "user_activity_var_3               0.014060             -0.029252   \n",
       "user_activity_var_4               0.038779              0.070903   \n",
       "user_activity_var_5               0.020800              0.024516   \n",
       "user_activity_var_6               0.001631             -0.078368   \n",
       "user_activity_var_7               0.003963             -0.060978   \n",
       "user_activity_var_8              -0.008283             -0.039283   \n",
       "user_activity_var_9               0.038102              0.128124   \n",
       "user_activity_var_10              1.000000              0.020856   \n",
       "user_activity_var_11              0.020856              1.000000   \n",
       "user_activity_var_12             -0.000405              0.018506   \n",
       "buy                               0.084423              0.267995   \n",
       "No_of_days                        0.019222              0.041016   \n",
       "\n",
       "                      user_activity_var_12       buy  No_of_days  \n",
       "id                               -0.010812 -0.020762   -0.036558  \n",
       "campaign_var_1                   -0.007810 -0.087202   -0.037620  \n",
       "campaign_var_2                   -0.009580 -0.080064   -0.062435  \n",
       "products_purchased               -0.006620  0.004140    0.123279  \n",
       "user_activity_var_1               0.003581  0.044811   -0.005060  \n",
       "user_activity_var_2               0.020758  0.354627    0.052175  \n",
       "user_activity_var_3               0.009858  0.005174    0.011455  \n",
       "user_activity_var_4               0.032281  0.394706    0.070695  \n",
       "user_activity_var_5               0.022356  0.164972    0.045031  \n",
       "user_activity_var_6               0.000535 -0.010951    0.008198  \n",
       "user_activity_var_7               0.005201 -0.028428    0.015328  \n",
       "user_activity_var_8              -0.002724 -0.097355   -0.075867  \n",
       "user_activity_var_9               0.031698  0.463947    0.084300  \n",
       "user_activity_var_10             -0.000405  0.084423    0.019222  \n",
       "user_activity_var_11              0.018506  0.267995    0.041016  \n",
       "user_activity_var_12              1.000000  0.067967    0.022773  \n",
       "buy                               0.067967  1.000000    0.174348  \n",
       "No_of_days                        0.022773  0.174348    1.000000  "
      ]
     },
     "execution_count": 31,
     "metadata": {},
     "output_type": "execute_result"
    }
   ],
   "source": [
    "d2c.corr()"
   ]
  },
  {
   "cell_type": "code",
   "execution_count": 34,
   "id": "7e33bf01",
   "metadata": {},
   "outputs": [],
   "source": [
    "#\"products_purchased\" has a correlation of 12% with 'No_of_days' variable"
   ]
  },
  {
   "cell_type": "markdown",
   "id": "57a5e1d2",
   "metadata": {},
   "source": [
    "## Making a new variable 'products_purchased1' having null value replaced with mean value obtained using groupby on 'No_of _days' column."
   ]
  },
  {
   "cell_type": "code",
   "execution_count": 35,
   "id": "25393705",
   "metadata": {},
   "outputs": [],
   "source": [
    "d2c[\"products_purchased1\"]=np.round(d2c[\"products_purchased\"].fillna(d2c[\"products_purchased\"].groupby(d2c[\"No_of_days\"]).\n",
    "                                                                    transform(\"mean\")))"
   ]
  },
  {
   "cell_type": "code",
   "execution_count": 36,
   "id": "77a9d0f2",
   "metadata": {},
   "outputs": [
    {
     "data": {
      "text/plain": [
       "2.0    39601\n",
       "3.0     6964\n",
       "1.0     4780\n",
       "4.0      931\n",
       "Name: products_purchased1, dtype: int64"
      ]
     },
     "execution_count": 36,
     "metadata": {},
     "output_type": "execute_result"
    }
   ],
   "source": [
    "d2c[\"products_purchased1\"].value_counts()"
   ]
  },
  {
   "cell_type": "code",
   "execution_count": 37,
   "id": "227051d7",
   "metadata": {},
   "outputs": [
    {
     "name": "stdout",
     "output_type": "stream",
     "text": [
      "<class 'pandas.core.frame.DataFrame'>\n",
      "Int64Index: 52345 entries, 0 to 39160\n",
      "Data columns (total 19 columns):\n",
      " #   Column                Non-Null Count  Dtype  \n",
      "---  ------                --------------  -----  \n",
      " 0   id                    52345 non-null  int64  \n",
      " 1   campaign_var_1        52345 non-null  int64  \n",
      " 2   campaign_var_2        52345 non-null  int64  \n",
      " 3   products_purchased    23298 non-null  float64\n",
      " 4   user_activity_var_1   52345 non-null  int64  \n",
      " 5   user_activity_var_2   52345 non-null  int64  \n",
      " 6   user_activity_var_3   52345 non-null  int64  \n",
      " 7   user_activity_var_4   52345 non-null  int64  \n",
      " 8   user_activity_var_5   52345 non-null  int64  \n",
      " 9   user_activity_var_6   52345 non-null  int64  \n",
      " 10  user_activity_var_7   52345 non-null  int64  \n",
      " 11  user_activity_var_8   52345 non-null  int64  \n",
      " 12  user_activity_var_9   52345 non-null  int64  \n",
      " 13  user_activity_var_10  52345 non-null  int64  \n",
      " 14  user_activity_var_11  52345 non-null  int64  \n",
      " 15  user_activity_var_12  52345 non-null  int64  \n",
      " 16  buy                   39161 non-null  float64\n",
      " 17  No_of_days            52345 non-null  float64\n",
      " 18  products_purchased1   52276 non-null  float64\n",
      "dtypes: float64(4), int64(15)\n",
      "memory usage: 10.0 MB\n"
     ]
    }
   ],
   "source": [
    "d2c.info()"
   ]
  },
  {
   "cell_type": "code",
   "execution_count": 38,
   "id": "df2d13a6",
   "metadata": {},
   "outputs": [
    {
     "data": {
      "text/html": [
       "<div>\n",
       "<style scoped>\n",
       "    .dataframe tbody tr th:only-of-type {\n",
       "        vertical-align: middle;\n",
       "    }\n",
       "\n",
       "    .dataframe tbody tr th {\n",
       "        vertical-align: top;\n",
       "    }\n",
       "\n",
       "    .dataframe thead th {\n",
       "        text-align: right;\n",
       "    }\n",
       "</style>\n",
       "<table border=\"1\" class=\"dataframe\">\n",
       "  <thead>\n",
       "    <tr style=\"text-align: right;\">\n",
       "      <th></th>\n",
       "      <th>id</th>\n",
       "      <th>campaign_var_1</th>\n",
       "      <th>campaign_var_2</th>\n",
       "      <th>products_purchased</th>\n",
       "      <th>user_activity_var_1</th>\n",
       "      <th>user_activity_var_2</th>\n",
       "      <th>user_activity_var_3</th>\n",
       "      <th>user_activity_var_4</th>\n",
       "      <th>user_activity_var_5</th>\n",
       "      <th>user_activity_var_6</th>\n",
       "      <th>user_activity_var_7</th>\n",
       "      <th>user_activity_var_8</th>\n",
       "      <th>user_activity_var_9</th>\n",
       "      <th>user_activity_var_10</th>\n",
       "      <th>user_activity_var_11</th>\n",
       "      <th>user_activity_var_12</th>\n",
       "      <th>buy</th>\n",
       "      <th>No_of_days</th>\n",
       "      <th>products_purchased1</th>\n",
       "    </tr>\n",
       "  </thead>\n",
       "  <tbody>\n",
       "    <tr>\n",
       "      <th>855</th>\n",
       "      <td>40017</td>\n",
       "      <td>11</td>\n",
       "      <td>6</td>\n",
       "      <td>NaN</td>\n",
       "      <td>1</td>\n",
       "      <td>0</td>\n",
       "      <td>0</td>\n",
       "      <td>0</td>\n",
       "      <td>0</td>\n",
       "      <td>1</td>\n",
       "      <td>0</td>\n",
       "      <td>0</td>\n",
       "      <td>0</td>\n",
       "      <td>0</td>\n",
       "      <td>1</td>\n",
       "      <td>0</td>\n",
       "      <td>NaN</td>\n",
       "      <td>1653.0</td>\n",
       "      <td>NaN</td>\n",
       "    </tr>\n",
       "    <tr>\n",
       "      <th>1203</th>\n",
       "      <td>40365</td>\n",
       "      <td>7</td>\n",
       "      <td>5</td>\n",
       "      <td>NaN</td>\n",
       "      <td>0</td>\n",
       "      <td>0</td>\n",
       "      <td>0</td>\n",
       "      <td>0</td>\n",
       "      <td>0</td>\n",
       "      <td>1</td>\n",
       "      <td>0</td>\n",
       "      <td>0</td>\n",
       "      <td>0</td>\n",
       "      <td>0</td>\n",
       "      <td>0</td>\n",
       "      <td>0</td>\n",
       "      <td>NaN</td>\n",
       "      <td>1972.0</td>\n",
       "      <td>NaN</td>\n",
       "    </tr>\n",
       "    <tr>\n",
       "      <th>1754</th>\n",
       "      <td>40916</td>\n",
       "      <td>6</td>\n",
       "      <td>7</td>\n",
       "      <td>NaN</td>\n",
       "      <td>0</td>\n",
       "      <td>0</td>\n",
       "      <td>0</td>\n",
       "      <td>0</td>\n",
       "      <td>0</td>\n",
       "      <td>0</td>\n",
       "      <td>0</td>\n",
       "      <td>0</td>\n",
       "      <td>0</td>\n",
       "      <td>0</td>\n",
       "      <td>0</td>\n",
       "      <td>0</td>\n",
       "      <td>NaN</td>\n",
       "      <td>1343.0</td>\n",
       "      <td>NaN</td>\n",
       "    </tr>\n",
       "    <tr>\n",
       "      <th>2226</th>\n",
       "      <td>41388</td>\n",
       "      <td>9</td>\n",
       "      <td>6</td>\n",
       "      <td>NaN</td>\n",
       "      <td>1</td>\n",
       "      <td>0</td>\n",
       "      <td>0</td>\n",
       "      <td>0</td>\n",
       "      <td>0</td>\n",
       "      <td>0</td>\n",
       "      <td>0</td>\n",
       "      <td>0</td>\n",
       "      <td>0</td>\n",
       "      <td>0</td>\n",
       "      <td>1</td>\n",
       "      <td>0</td>\n",
       "      <td>NaN</td>\n",
       "      <td>1812.0</td>\n",
       "      <td>NaN</td>\n",
       "    </tr>\n",
       "    <tr>\n",
       "      <th>2445</th>\n",
       "      <td>41607</td>\n",
       "      <td>5</td>\n",
       "      <td>9</td>\n",
       "      <td>NaN</td>\n",
       "      <td>1</td>\n",
       "      <td>0</td>\n",
       "      <td>0</td>\n",
       "      <td>0</td>\n",
       "      <td>0</td>\n",
       "      <td>1</td>\n",
       "      <td>0</td>\n",
       "      <td>1</td>\n",
       "      <td>0</td>\n",
       "      <td>0</td>\n",
       "      <td>0</td>\n",
       "      <td>0</td>\n",
       "      <td>NaN</td>\n",
       "      <td>1189.0</td>\n",
       "      <td>NaN</td>\n",
       "    </tr>\n",
       "    <tr>\n",
       "      <th>...</th>\n",
       "      <td>...</td>\n",
       "      <td>...</td>\n",
       "      <td>...</td>\n",
       "      <td>...</td>\n",
       "      <td>...</td>\n",
       "      <td>...</td>\n",
       "      <td>...</td>\n",
       "      <td>...</td>\n",
       "      <td>...</td>\n",
       "      <td>...</td>\n",
       "      <td>...</td>\n",
       "      <td>...</td>\n",
       "      <td>...</td>\n",
       "      <td>...</td>\n",
       "      <td>...</td>\n",
       "      <td>...</td>\n",
       "      <td>...</td>\n",
       "      <td>...</td>\n",
       "      <td>...</td>\n",
       "    </tr>\n",
       "    <tr>\n",
       "      <th>35533</th>\n",
       "      <td>35534</td>\n",
       "      <td>7</td>\n",
       "      <td>7</td>\n",
       "      <td>NaN</td>\n",
       "      <td>1</td>\n",
       "      <td>0</td>\n",
       "      <td>0</td>\n",
       "      <td>1</td>\n",
       "      <td>1</td>\n",
       "      <td>0</td>\n",
       "      <td>0</td>\n",
       "      <td>0</td>\n",
       "      <td>0</td>\n",
       "      <td>0</td>\n",
       "      <td>0</td>\n",
       "      <td>0</td>\n",
       "      <td>1.0</td>\n",
       "      <td>1958.0</td>\n",
       "      <td>NaN</td>\n",
       "    </tr>\n",
       "    <tr>\n",
       "      <th>36557</th>\n",
       "      <td>36558</td>\n",
       "      <td>7</td>\n",
       "      <td>7</td>\n",
       "      <td>NaN</td>\n",
       "      <td>1</td>\n",
       "      <td>0</td>\n",
       "      <td>0</td>\n",
       "      <td>0</td>\n",
       "      <td>0</td>\n",
       "      <td>1</td>\n",
       "      <td>0</td>\n",
       "      <td>0</td>\n",
       "      <td>0</td>\n",
       "      <td>0</td>\n",
       "      <td>1</td>\n",
       "      <td>0</td>\n",
       "      <td>0.0</td>\n",
       "      <td>1182.0</td>\n",
       "      <td>NaN</td>\n",
       "    </tr>\n",
       "    <tr>\n",
       "      <th>36774</th>\n",
       "      <td>36775</td>\n",
       "      <td>2</td>\n",
       "      <td>7</td>\n",
       "      <td>NaN</td>\n",
       "      <td>1</td>\n",
       "      <td>0</td>\n",
       "      <td>0</td>\n",
       "      <td>0</td>\n",
       "      <td>0</td>\n",
       "      <td>0</td>\n",
       "      <td>1</td>\n",
       "      <td>0</td>\n",
       "      <td>0</td>\n",
       "      <td>0</td>\n",
       "      <td>0</td>\n",
       "      <td>0</td>\n",
       "      <td>0.0</td>\n",
       "      <td>1438.0</td>\n",
       "      <td>NaN</td>\n",
       "    </tr>\n",
       "    <tr>\n",
       "      <th>37407</th>\n",
       "      <td>37408</td>\n",
       "      <td>6</td>\n",
       "      <td>9</td>\n",
       "      <td>NaN</td>\n",
       "      <td>1</td>\n",
       "      <td>0</td>\n",
       "      <td>0</td>\n",
       "      <td>0</td>\n",
       "      <td>0</td>\n",
       "      <td>1</td>\n",
       "      <td>0</td>\n",
       "      <td>0</td>\n",
       "      <td>0</td>\n",
       "      <td>0</td>\n",
       "      <td>1</td>\n",
       "      <td>0</td>\n",
       "      <td>0.0</td>\n",
       "      <td>1554.0</td>\n",
       "      <td>NaN</td>\n",
       "    </tr>\n",
       "    <tr>\n",
       "      <th>38373</th>\n",
       "      <td>38374</td>\n",
       "      <td>2</td>\n",
       "      <td>8</td>\n",
       "      <td>NaN</td>\n",
       "      <td>0</td>\n",
       "      <td>0</td>\n",
       "      <td>0</td>\n",
       "      <td>0</td>\n",
       "      <td>0</td>\n",
       "      <td>0</td>\n",
       "      <td>1</td>\n",
       "      <td>0</td>\n",
       "      <td>0</td>\n",
       "      <td>0</td>\n",
       "      <td>1</td>\n",
       "      <td>0</td>\n",
       "      <td>0.0</td>\n",
       "      <td>1460.0</td>\n",
       "      <td>NaN</td>\n",
       "    </tr>\n",
       "  </tbody>\n",
       "</table>\n",
       "<p>69 rows × 19 columns</p>\n",
       "</div>"
      ],
      "text/plain": [
       "          id  campaign_var_1  campaign_var_2  products_purchased  \\\n",
       "855    40017              11               6                 NaN   \n",
       "1203   40365               7               5                 NaN   \n",
       "1754   40916               6               7                 NaN   \n",
       "2226   41388               9               6                 NaN   \n",
       "2445   41607               5               9                 NaN   \n",
       "...      ...             ...             ...                 ...   \n",
       "35533  35534               7               7                 NaN   \n",
       "36557  36558               7               7                 NaN   \n",
       "36774  36775               2               7                 NaN   \n",
       "37407  37408               6               9                 NaN   \n",
       "38373  38374               2               8                 NaN   \n",
       "\n",
       "       user_activity_var_1  user_activity_var_2  user_activity_var_3  \\\n",
       "855                      1                    0                    0   \n",
       "1203                     0                    0                    0   \n",
       "1754                     0                    0                    0   \n",
       "2226                     1                    0                    0   \n",
       "2445                     1                    0                    0   \n",
       "...                    ...                  ...                  ...   \n",
       "35533                    1                    0                    0   \n",
       "36557                    1                    0                    0   \n",
       "36774                    1                    0                    0   \n",
       "37407                    1                    0                    0   \n",
       "38373                    0                    0                    0   \n",
       "\n",
       "       user_activity_var_4  user_activity_var_5  user_activity_var_6  \\\n",
       "855                      0                    0                    1   \n",
       "1203                     0                    0                    1   \n",
       "1754                     0                    0                    0   \n",
       "2226                     0                    0                    0   \n",
       "2445                     0                    0                    1   \n",
       "...                    ...                  ...                  ...   \n",
       "35533                    1                    1                    0   \n",
       "36557                    0                    0                    1   \n",
       "36774                    0                    0                    0   \n",
       "37407                    0                    0                    1   \n",
       "38373                    0                    0                    0   \n",
       "\n",
       "       user_activity_var_7  user_activity_var_8  user_activity_var_9  \\\n",
       "855                      0                    0                    0   \n",
       "1203                     0                    0                    0   \n",
       "1754                     0                    0                    0   \n",
       "2226                     0                    0                    0   \n",
       "2445                     0                    1                    0   \n",
       "...                    ...                  ...                  ...   \n",
       "35533                    0                    0                    0   \n",
       "36557                    0                    0                    0   \n",
       "36774                    1                    0                    0   \n",
       "37407                    0                    0                    0   \n",
       "38373                    1                    0                    0   \n",
       "\n",
       "       user_activity_var_10  user_activity_var_11  user_activity_var_12  buy  \\\n",
       "855                       0                     1                     0  NaN   \n",
       "1203                      0                     0                     0  NaN   \n",
       "1754                      0                     0                     0  NaN   \n",
       "2226                      0                     1                     0  NaN   \n",
       "2445                      0                     0                     0  NaN   \n",
       "...                     ...                   ...                   ...  ...   \n",
       "35533                     0                     0                     0  1.0   \n",
       "36557                     0                     1                     0  0.0   \n",
       "36774                     0                     0                     0  0.0   \n",
       "37407                     0                     1                     0  0.0   \n",
       "38373                     0                     1                     0  0.0   \n",
       "\n",
       "       No_of_days  products_purchased1  \n",
       "855        1653.0                  NaN  \n",
       "1203       1972.0                  NaN  \n",
       "1754       1343.0                  NaN  \n",
       "2226       1812.0                  NaN  \n",
       "2445       1189.0                  NaN  \n",
       "...           ...                  ...  \n",
       "35533      1958.0                  NaN  \n",
       "36557      1182.0                  NaN  \n",
       "36774      1438.0                  NaN  \n",
       "37407      1554.0                  NaN  \n",
       "38373      1460.0                  NaN  \n",
       "\n",
       "[69 rows x 19 columns]"
      ]
     },
     "execution_count": 38,
     "metadata": {},
     "output_type": "execute_result"
    }
   ],
   "source": [
    "d2c[d2c[\"products_purchased1\"].isna()]"
   ]
  },
  {
   "cell_type": "markdown",
   "id": "3169630a",
   "metadata": {},
   "source": [
    "## Still the column has null values and hence replacing those with 0."
   ]
  },
  {
   "cell_type": "code",
   "execution_count": 39,
   "id": "6058d297",
   "metadata": {},
   "outputs": [],
   "source": [
    "d2c[\"products_purchased1\"].fillna(0, inplace=True)"
   ]
  },
  {
   "cell_type": "code",
   "execution_count": 40,
   "id": "699b22db",
   "metadata": {},
   "outputs": [
    {
     "data": {
      "text/plain": [
       "2.0    39601\n",
       "3.0     6964\n",
       "1.0     4780\n",
       "4.0      931\n",
       "0.0       69\n",
       "Name: products_purchased1, dtype: int64"
      ]
     },
     "execution_count": 40,
     "metadata": {},
     "output_type": "execute_result"
    }
   ],
   "source": [
    "d2c[\"products_purchased1\"].value_counts()"
   ]
  },
  {
   "cell_type": "markdown",
   "id": "5a5b3c34",
   "metadata": {},
   "source": [
    "## Getting Value Count of the Categorical Variables"
   ]
  },
  {
   "cell_type": "code",
   "execution_count": 44,
   "id": "3f223675",
   "metadata": {},
   "outputs": [
    {
     "data": {
      "text/plain": [
       "6     5320\n",
       "5     5239\n",
       "4     5086\n",
       "7     5060\n",
       "8     4714\n",
       "3     4644\n",
       "2     4151\n",
       "9     4026\n",
       "10    3419\n",
       "11    2794\n",
       "12    2163\n",
       "1     1820\n",
       "13    1627\n",
       "14    1154\n",
       "15     796\n",
       "16     332\n",
       "Name: campaign_var_1, dtype: int64"
      ]
     },
     "execution_count": 44,
     "metadata": {},
     "output_type": "execute_result"
    }
   ],
   "source": [
    "d2c[\"campaign_var_1\"].value_counts()"
   ]
  },
  {
   "cell_type": "code",
   "execution_count": 45,
   "id": "17e1b784",
   "metadata": {},
   "outputs": [
    {
     "data": {
      "text/plain": [
       "7     7247\n",
       "6     7221\n",
       "8     6613\n",
       "5     6360\n",
       "9     5219\n",
       "4     4996\n",
       "10    3779\n",
       "3     3293\n",
       "11    2423\n",
       "2     1973\n",
       "12    1459\n",
       "13     730\n",
       "1      622\n",
       "14     330\n",
       "15      80\n",
       "Name: campaign_var_2, dtype: int64"
      ]
     },
     "execution_count": 45,
     "metadata": {},
     "output_type": "execute_result"
    }
   ],
   "source": [
    "d2c[\"campaign_var_2\"].value_counts()"
   ]
  },
  {
   "cell_type": "code",
   "execution_count": 46,
   "id": "35a68024",
   "metadata": {},
   "outputs": [
    {
     "data": {
      "text/plain": [
       "0    32076\n",
       "1    19774\n",
       "2      493\n",
       "3        2\n",
       "Name: user_activity_var_1, dtype: int64"
      ]
     },
     "execution_count": 46,
     "metadata": {},
     "output_type": "execute_result"
    }
   ],
   "source": [
    "d2c[\"user_activity_var_1\"].value_counts()"
   ]
  },
  {
   "cell_type": "code",
   "execution_count": 47,
   "id": "2aae2423",
   "metadata": {},
   "outputs": [
    {
     "data": {
      "text/plain": [
       "0    52026\n",
       "1      319\n",
       "Name: user_activity_var_2, dtype: int64"
      ]
     },
     "execution_count": 47,
     "metadata": {},
     "output_type": "execute_result"
    }
   ],
   "source": [
    "d2c[\"user_activity_var_2\"].value_counts()"
   ]
  },
  {
   "cell_type": "code",
   "execution_count": 48,
   "id": "ea489996",
   "metadata": {},
   "outputs": [
    {
     "data": {
      "text/plain": [
       "0    46956\n",
       "1     5389\n",
       "Name: user_activity_var_3, dtype: int64"
      ]
     },
     "execution_count": 48,
     "metadata": {},
     "output_type": "execute_result"
    }
   ],
   "source": [
    "d2c[\"user_activity_var_3\"].value_counts()"
   ]
  },
  {
   "cell_type": "code",
   "execution_count": 49,
   "id": "9b0a94d7",
   "metadata": {},
   "outputs": [
    {
     "data": {
      "text/plain": [
       "0    51802\n",
       "1      543\n",
       "Name: user_activity_var_4, dtype: int64"
      ]
     },
     "execution_count": 49,
     "metadata": {},
     "output_type": "execute_result"
    }
   ],
   "source": [
    "d2c[\"user_activity_var_4\"].value_counts()"
   ]
  },
  {
   "cell_type": "code",
   "execution_count": 50,
   "id": "bf20c17d",
   "metadata": {},
   "outputs": [
    {
     "data": {
      "text/plain": [
       "0    27490\n",
       "1    23228\n",
       "2     1607\n",
       "3       20\n",
       "Name: user_activity_var_6, dtype: int64"
      ]
     },
     "execution_count": 50,
     "metadata": {},
     "output_type": "execute_result"
    }
   ],
   "source": [
    "d2c[\"user_activity_var_6\"].value_counts()"
   ]
  },
  {
   "cell_type": "code",
   "execution_count": 51,
   "id": "7246f315",
   "metadata": {},
   "outputs": [
    {
     "data": {
      "text/plain": [
       "0    37188\n",
       "1    15076\n",
       "2       81\n",
       "Name: user_activity_var_7, dtype: int64"
      ]
     },
     "execution_count": 51,
     "metadata": {},
     "output_type": "execute_result"
    }
   ],
   "source": [
    "d2c[\"user_activity_var_7\"].value_counts()"
   ]
  },
  {
   "cell_type": "code",
   "execution_count": 52,
   "id": "e65014c3",
   "metadata": {},
   "outputs": [
    {
     "data": {
      "text/plain": [
       "0    43637\n",
       "1     8704\n",
       "2        4\n",
       "Name: user_activity_var_8, dtype: int64"
      ]
     },
     "execution_count": 52,
     "metadata": {},
     "output_type": "execute_result"
    }
   ],
   "source": [
    "d2c[\"user_activity_var_8\"].value_counts()"
   ]
  },
  {
   "cell_type": "code",
   "execution_count": 53,
   "id": "2d9a59bf",
   "metadata": {},
   "outputs": [
    {
     "data": {
      "text/plain": [
       "0    51787\n",
       "1      557\n",
       "2        1\n",
       "Name: user_activity_var_9, dtype: int64"
      ]
     },
     "execution_count": 53,
     "metadata": {},
     "output_type": "execute_result"
    }
   ],
   "source": [
    "d2c[\"user_activity_var_9\"].value_counts()"
   ]
  },
  {
   "cell_type": "code",
   "execution_count": 54,
   "id": "cb95087b",
   "metadata": {},
   "outputs": [
    {
     "data": {
      "text/plain": [
       "0    52327\n",
       "1       18\n",
       "Name: user_activity_var_10, dtype: int64"
      ]
     },
     "execution_count": 54,
     "metadata": {},
     "output_type": "execute_result"
    }
   ],
   "source": [
    "d2c[\"user_activity_var_10\"].value_counts()"
   ]
  },
  {
   "cell_type": "code",
   "execution_count": 55,
   "id": "7659e6e5",
   "metadata": {},
   "outputs": [
    {
     "data": {
      "text/plain": [
       "0    40854\n",
       "1    11104\n",
       "2      351\n",
       "3       35\n",
       "4        1\n",
       "Name: user_activity_var_11, dtype: int64"
      ]
     },
     "execution_count": 55,
     "metadata": {},
     "output_type": "execute_result"
    }
   ],
   "source": [
    "d2c[\"user_activity_var_11\"].value_counts()"
   ]
  },
  {
   "cell_type": "code",
   "execution_count": 56,
   "id": "1872b60d",
   "metadata": {},
   "outputs": [
    {
     "data": {
      "text/plain": [
       "0    52320\n",
       "1       25\n",
       "Name: user_activity_var_12, dtype: int64"
      ]
     },
     "execution_count": 56,
     "metadata": {},
     "output_type": "execute_result"
    }
   ],
   "source": [
    "d2c[\"user_activity_var_12\"].value_counts()"
   ]
  },
  {
   "cell_type": "markdown",
   "id": "20dc5151",
   "metadata": {},
   "source": [
    "## Treating Outlier"
   ]
  },
  {
   "cell_type": "code",
   "execution_count": 57,
   "id": "77818821",
   "metadata": {},
   "outputs": [
    {
     "data": {
      "text/plain": [
       "<AxesSubplot:xlabel='No_of_days', ylabel='Density'>"
      ]
     },
     "execution_count": 57,
     "metadata": {},
     "output_type": "execute_result"
    },
    {
     "data": {
      "image/png": "[encoded data removed]",
      "text/plain": [
       "<Figure size 432x288 with 1 Axes>"
      ]
     },
     "metadata": {
      "needs_background": "light"
     },
     "output_type": "display_data"
    }
   ],
   "source": [
    "sns.distplot(d2c[\"No_of_days\"])"
   ]
  },
  {
   "cell_type": "code",
   "execution_count": 58,
   "id": "f2e1dab2",
   "metadata": {},
   "outputs": [
    {
     "data": {
      "text/plain": [
       "<AxesSubplot:xlabel='No_of_days'>"
      ]
     },
     "execution_count": 58,
     "metadata": {},
     "output_type": "execute_result"
    },
    {
     "data": {
      "image/png": "[encoded data removed]",
      "text/plain": [
       "<Figure size 432x288 with 1 Axes>"
      ]
     },
     "metadata": {
      "needs_background": "light"
     },
     "output_type": "display_data"
    }
   ],
   "source": [
    "sns.boxplot(d2c[\"No_of_days\"])"
   ]
  },
  {
   "cell_type": "code",
   "execution_count": 59,
   "id": "266557d4",
   "metadata": {},
   "outputs": [
    {
     "data": {
      "text/plain": [
       "(1680, 19)"
      ]
     },
     "execution_count": 59,
     "metadata": {},
     "output_type": "execute_result"
    }
   ],
   "source": [
    "d2c[d2c[\"No_of_days\"]>1000].shape"
   ]
  },
  {
   "cell_type": "code",
   "execution_count": 60,
   "id": "51ce1e95",
   "metadata": {},
   "outputs": [
    {
     "data": {
      "text/plain": [
       "2.1778584392014517"
      ]
     },
     "execution_count": 60,
     "metadata": {},
     "output_type": "execute_result"
    }
   ],
   "source": [
    "(d2c[d2c[\"No_of_days\"]>1100].shape[0]/d2c.shape[0])*100"
   ]
  },
  {
   "cell_type": "markdown",
   "id": "10345e3c",
   "metadata": {},
   "source": [
    "## Since the distribution of 'No_of_days' variable is left skewed, taking the cuberoot to treat the skewness."
   ]
  },
  {
   "cell_type": "code",
   "execution_count": 61,
   "id": "31313d06",
   "metadata": {},
   "outputs": [
    {
     "data": {
      "text/plain": [
       "<AxesSubplot:xlabel='No_of_days_cbrt'>"
      ]
     },
     "execution_count": 61,
     "metadata": {},
     "output_type": "execute_result"
    },
    {
     "data": {
      "image/png": "[encoded data removed]",
      "text/plain": [
       "<Figure size 432x288 with 1 Axes>"
      ]
     },
     "metadata": {
      "needs_background": "light"
     },
     "output_type": "display_data"
    }
   ],
   "source": [
    "d2c[\"No_of_days_cbrt\"]=np.cbrt(d2c[\"No_of_days\"])\n",
    "sns.boxplot(d2c[\"No_of_days_cbrt\"])"
   ]
  },
  {
   "cell_type": "code",
   "execution_count": 62,
   "id": "561088b3",
   "metadata": {},
   "outputs": [
    {
     "data": {
      "text/plain": [
       "<AxesSubplot:xlabel='No_of_days_cbrt', ylabel='Density'>"
      ]
     },
     "execution_count": 62,
     "metadata": {},
     "output_type": "execute_result"
    },
    {
     "data": {
      "image/png": "[encoded data removed]",
      "text/plain": [
       "<Figure size 432x288 with 1 Axes>"
      ]
     },
     "metadata": {
      "needs_background": "light"
     },
     "output_type": "display_data"
    }
   ],
   "source": [
    "sns.distplot(d2c[\"No_of_days_cbrt\"])"
   ]
  },
  {
   "cell_type": "markdown",
   "id": "41d2e1fc",
   "metadata": {},
   "source": [
    "## There has been a high density towards '0' value so treating the irregularity with replacing '0' with mean value of the cuberoot of values above '0'."
   ]
  },
  {
   "cell_type": "code",
   "execution_count": 63,
   "id": "58ecedb0",
   "metadata": {},
   "outputs": [
    {
     "name": "stdout",
     "output_type": "stream",
     "text": [
      "6.958232940483415\n"
     ]
    }
   ],
   "source": [
    "mean0=np.mean(d2c[d2c[\"No_of_days_cbrt\"]>0][\"No_of_days_cbrt\"])\n",
    "print(mean0)"
   ]
  },
  {
   "cell_type": "code",
   "execution_count": 64,
   "id": "56aa7ae4",
   "metadata": {},
   "outputs": [],
   "source": [
    "d2c[\"No_of_days_cbrt1\"]=d2c[\"No_of_days_cbrt\"].replace(0,mean0)"
   ]
  },
  {
   "cell_type": "code",
   "execution_count": 65,
   "id": "7620cdc5",
   "metadata": {},
   "outputs": [
    {
     "data": {
      "text/plain": [
       "<AxesSubplot:xlabel='No_of_days_cbrt1', ylabel='Density'>"
      ]
     },
     "execution_count": 65,
     "metadata": {},
     "output_type": "execute_result"
    },
    {
     "data": {
      "image/png": "[encoded data removed]",
      "text/plain": [
       "<Figure size 432x288 with 1 Axes>"
      ]
     },
     "metadata": {
      "needs_background": "light"
     },
     "output_type": "display_data"
    }
   ],
   "source": [
    "sns.distplot(d2c[\"No_of_days_cbrt1\"])"
   ]
  },
  {
   "cell_type": "code",
   "execution_count": 66,
   "id": "57857e19",
   "metadata": {},
   "outputs": [
    {
     "data": {
      "text/plain": [
       "Index(['id', 'campaign_var_1', 'campaign_var_2', 'products_purchased',\n",
       "       'user_activity_var_1', 'user_activity_var_2', 'user_activity_var_3',\n",
       "       'user_activity_var_4', 'user_activity_var_5', 'user_activity_var_6',\n",
       "       'user_activity_var_7', 'user_activity_var_8', 'user_activity_var_9',\n",
       "       'user_activity_var_10', 'user_activity_var_11', 'user_activity_var_12',\n",
       "       'buy', 'No_of_days', 'products_purchased1', 'No_of_days_cbrt',\n",
       "       'No_of_days_cbrt1'],\n",
       "      dtype='object')"
      ]
     },
     "execution_count": 66,
     "metadata": {},
     "output_type": "execute_result"
    }
   ],
   "source": [
    "d2c.columns"
   ]
  },
  {
   "cell_type": "markdown",
   "id": "03d26abb",
   "metadata": {},
   "source": [
    "## Dropping the columns which are not required"
   ]
  },
  {
   "cell_type": "code",
   "execution_count": 67,
   "id": "b3cce0d1",
   "metadata": {},
   "outputs": [],
   "source": [
    "d2cc=d2c.drop([\"id\",\"products_purchased\",\"No_of_days_cbrt1\",\"No_of_days\"], axis=1)"
   ]
  },
  {
   "cell_type": "code",
   "execution_count": 68,
   "id": "e8428889",
   "metadata": {},
   "outputs": [
    {
     "name": "stdout",
     "output_type": "stream",
     "text": [
      "<class 'pandas.core.frame.DataFrame'>\n",
      "Int64Index: 52345 entries, 0 to 39160\n",
      "Data columns (total 17 columns):\n",
      " #   Column                Non-Null Count  Dtype  \n",
      "---  ------                --------------  -----  \n",
      " 0   campaign_var_1        52345 non-null  int64  \n",
      " 1   campaign_var_2        52345 non-null  int64  \n",
      " 2   user_activity_var_1   52345 non-null  int64  \n",
      " 3   user_activity_var_2   52345 non-null  int64  \n",
      " 4   user_activity_var_3   52345 non-null  int64  \n",
      " 5   user_activity_var_4   52345 non-null  int64  \n",
      " 6   user_activity_var_5   52345 non-null  int64  \n",
      " 7   user_activity_var_6   52345 non-null  int64  \n",
      " 8   user_activity_var_7   52345 non-null  int64  \n",
      " 9   user_activity_var_8   52345 non-null  int64  \n",
      " 10  user_activity_var_9   52345 non-null  int64  \n",
      " 11  user_activity_var_10  52345 non-null  int64  \n",
      " 12  user_activity_var_11  52345 non-null  int64  \n",
      " 13  user_activity_var_12  52345 non-null  int64  \n",
      " 14  buy                   39161 non-null  float64\n",
      " 15  products_purchased1   52345 non-null  float64\n",
      " 16  No_of_days_cbrt       52345 non-null  float64\n",
      "dtypes: float64(3), int64(14)\n",
      "memory usage: 9.2 MB\n"
     ]
    }
   ],
   "source": [
    "d2cc.info()"
   ]
  },
  {
   "cell_type": "markdown",
   "id": "a130e7d3",
   "metadata": {},
   "source": [
    "## Defining Dummy variables"
   ]
  },
  {
   "cell_type": "code",
   "execution_count": 69,
   "id": "fbceb2d6",
   "metadata": {},
   "outputs": [],
   "source": [
    "d2cc=pd.get_dummies(d2cc,drop_first=True)"
   ]
  },
  {
   "cell_type": "code",
   "execution_count": 70,
   "id": "14641028",
   "metadata": {},
   "outputs": [
    {
     "data": {
      "text/html": [
       "<div>\n",
       "<style scoped>\n",
       "    .dataframe tbody tr th:only-of-type {\n",
       "        vertical-align: middle;\n",
       "    }\n",
       "\n",
       "    .dataframe tbody tr th {\n",
       "        vertical-align: top;\n",
       "    }\n",
       "\n",
       "    .dataframe thead th {\n",
       "        text-align: right;\n",
       "    }\n",
       "</style>\n",
       "<table border=\"1\" class=\"dataframe\">\n",
       "  <thead>\n",
       "    <tr style=\"text-align: right;\">\n",
       "      <th></th>\n",
       "      <th>campaign_var_1</th>\n",
       "      <th>campaign_var_2</th>\n",
       "      <th>user_activity_var_1</th>\n",
       "      <th>user_activity_var_2</th>\n",
       "      <th>user_activity_var_3</th>\n",
       "      <th>user_activity_var_4</th>\n",
       "      <th>user_activity_var_5</th>\n",
       "      <th>user_activity_var_6</th>\n",
       "      <th>user_activity_var_7</th>\n",
       "      <th>user_activity_var_8</th>\n",
       "      <th>user_activity_var_9</th>\n",
       "      <th>user_activity_var_10</th>\n",
       "      <th>user_activity_var_11</th>\n",
       "      <th>user_activity_var_12</th>\n",
       "      <th>buy</th>\n",
       "      <th>products_purchased1</th>\n",
       "      <th>No_of_days_cbrt</th>\n",
       "    </tr>\n",
       "  </thead>\n",
       "  <tbody>\n",
       "    <tr>\n",
       "      <th>0</th>\n",
       "      <td>2</td>\n",
       "      <td>2</td>\n",
       "      <td>1</td>\n",
       "      <td>1</td>\n",
       "      <td>0</td>\n",
       "      <td>0</td>\n",
       "      <td>0</td>\n",
       "      <td>1</td>\n",
       "      <td>0</td>\n",
       "      <td>0</td>\n",
       "      <td>0</td>\n",
       "      <td>0</td>\n",
       "      <td>1</td>\n",
       "      <td>0</td>\n",
       "      <td>NaN</td>\n",
       "      <td>2.0</td>\n",
       "      <td>5.155137</td>\n",
       "    </tr>\n",
       "    <tr>\n",
       "      <th>1</th>\n",
       "      <td>4</td>\n",
       "      <td>7</td>\n",
       "      <td>1</td>\n",
       "      <td>0</td>\n",
       "      <td>0</td>\n",
       "      <td>0</td>\n",
       "      <td>0</td>\n",
       "      <td>0</td>\n",
       "      <td>0</td>\n",
       "      <td>1</td>\n",
       "      <td>0</td>\n",
       "      <td>0</td>\n",
       "      <td>0</td>\n",
       "      <td>0</td>\n",
       "      <td>NaN</td>\n",
       "      <td>3.0</td>\n",
       "      <td>8.387207</td>\n",
       "    </tr>\n",
       "    <tr>\n",
       "      <th>2</th>\n",
       "      <td>8</td>\n",
       "      <td>7</td>\n",
       "      <td>0</td>\n",
       "      <td>0</td>\n",
       "      <td>0</td>\n",
       "      <td>0</td>\n",
       "      <td>1</td>\n",
       "      <td>1</td>\n",
       "      <td>0</td>\n",
       "      <td>0</td>\n",
       "      <td>0</td>\n",
       "      <td>0</td>\n",
       "      <td>0</td>\n",
       "      <td>0</td>\n",
       "      <td>NaN</td>\n",
       "      <td>2.0</td>\n",
       "      <td>0.000000</td>\n",
       "    </tr>\n",
       "    <tr>\n",
       "      <th>3</th>\n",
       "      <td>9</td>\n",
       "      <td>8</td>\n",
       "      <td>0</td>\n",
       "      <td>0</td>\n",
       "      <td>0</td>\n",
       "      <td>0</td>\n",
       "      <td>1</td>\n",
       "      <td>1</td>\n",
       "      <td>1</td>\n",
       "      <td>0</td>\n",
       "      <td>0</td>\n",
       "      <td>0</td>\n",
       "      <td>2</td>\n",
       "      <td>0</td>\n",
       "      <td>NaN</td>\n",
       "      <td>2.0</td>\n",
       "      <td>8.232746</td>\n",
       "    </tr>\n",
       "    <tr>\n",
       "      <th>4</th>\n",
       "      <td>4</td>\n",
       "      <td>5</td>\n",
       "      <td>1</td>\n",
       "      <td>0</td>\n",
       "      <td>0</td>\n",
       "      <td>0</td>\n",
       "      <td>0</td>\n",
       "      <td>0</td>\n",
       "      <td>0</td>\n",
       "      <td>0</td>\n",
       "      <td>0</td>\n",
       "      <td>0</td>\n",
       "      <td>0</td>\n",
       "      <td>0</td>\n",
       "      <td>NaN</td>\n",
       "      <td>2.0</td>\n",
       "      <td>6.671940</td>\n",
       "    </tr>\n",
       "  </tbody>\n",
       "</table>\n",
       "</div>"
      ],
      "text/plain": [
       "   campaign_var_1  campaign_var_2  user_activity_var_1  user_activity_var_2  \\\n",
       "0               2               2                    1                    1   \n",
       "1               4               7                    1                    0   \n",
       "2               8               7                    0                    0   \n",
       "3               9               8                    0                    0   \n",
       "4               4               5                    1                    0   \n",
       "\n",
       "   user_activity_var_3  user_activity_var_4  user_activity_var_5  \\\n",
       "0                    0                    0                    0   \n",
       "1                    0                    0                    0   \n",
       "2                    0                    0                    1   \n",
       "3                    0                    0                    1   \n",
       "4                    0                    0                    0   \n",
       "\n",
       "   user_activity_var_6  user_activity_var_7  user_activity_var_8  \\\n",
       "0                    1                    0                    0   \n",
       "1                    0                    0                    1   \n",
       "2                    1                    0                    0   \n",
       "3                    1                    1                    0   \n",
       "4                    0                    0                    0   \n",
       "\n",
       "   user_activity_var_9  user_activity_var_10  user_activity_var_11  \\\n",
       "0                    0                     0                     1   \n",
       "1                    0                     0                     0   \n",
       "2                    0                     0                     0   \n",
       "3                    0                     0                     2   \n",
       "4                    0                     0                     0   \n",
       "\n",
       "   user_activity_var_12  buy  products_purchased1  No_of_days_cbrt  \n",
       "0                     0  NaN                  2.0         5.155137  \n",
       "1                     0  NaN                  3.0         8.387207  \n",
       "2                     0  NaN                  2.0         0.000000  \n",
       "3                     0  NaN                  2.0         8.232746  \n",
       "4                     0  NaN                  2.0         6.671940  "
      ]
     },
     "execution_count": 70,
     "metadata": {},
     "output_type": "execute_result"
    }
   ],
   "source": [
    "d2cc.head()"
   ]
  },
  {
   "cell_type": "markdown",
   "id": "3c58064a",
   "metadata": {},
   "source": [
    "## Train and Test Split"
   ]
  },
  {
   "cell_type": "code",
   "execution_count": 71,
   "id": "50d8cee5",
   "metadata": {},
   "outputs": [],
   "source": [
    "train=d2cc[d2cc[\"buy\"].notnull()]\n",
    "test=d2cc[d2cc[\"buy\"].isnull()]"
   ]
  },
  {
   "cell_type": "code",
   "execution_count": 72,
   "id": "3608eb08",
   "metadata": {},
   "outputs": [
    {
     "name": "stdout",
     "output_type": "stream",
     "text": [
      "(39161, 17)\n",
      "(13184, 17)\n"
     ]
    }
   ],
   "source": [
    "print(train.shape)\n",
    "print(test.shape)"
   ]
  },
  {
   "cell_type": "markdown",
   "id": "afdc8588",
   "metadata": {},
   "source": [
    "## Assigning X and Y"
   ]
  },
  {
   "cell_type": "code",
   "execution_count": 73,
   "id": "eabebe51",
   "metadata": {},
   "outputs": [],
   "source": [
    "train_y=train[\"buy\"]\n",
    "train_x=train.drop(\"buy\",axis=1)\n",
    "test_x=test.drop(\"buy\",axis=1)"
   ]
  },
  {
   "cell_type": "code",
   "execution_count": 74,
   "id": "a041850f",
   "metadata": {},
   "outputs": [
    {
     "name": "stdout",
     "output_type": "stream",
     "text": [
      "(39161,)\n",
      "(39161, 16)\n",
      "(13184, 16)\n"
     ]
    }
   ],
   "source": [
    "print(train_y.shape)\n",
    "print(train_x.shape)\n",
    "print(test_x.shape)"
   ]
  },
  {
   "cell_type": "markdown",
   "id": "e9433126",
   "metadata": {},
   "source": [
    "# --------------------------------------------------------------------------------------------------------"
   ]
  },
  {
   "cell_type": "markdown",
   "id": "a7804240",
   "metadata": {},
   "source": [
    "# ****Using Logistic Regression Model"
   ]
  },
  {
   "cell_type": "code",
   "execution_count": 75,
   "id": "2c23123a",
   "metadata": {},
   "outputs": [
    {
     "data": {
      "text/plain": [
       "LogisticRegression()"
      ]
     },
     "execution_count": 75,
     "metadata": {},
     "output_type": "execute_result"
    }
   ],
   "source": [
    "from sklearn.linear_model import LogisticRegression\n",
    "lr=LogisticRegression()\n",
    "lr.fit(train_x,train_y)"
   ]
  },
  {
   "cell_type": "markdown",
   "id": "43f40df3",
   "metadata": {},
   "source": [
    "## Predicting the output using test data"
   ]
  },
  {
   "cell_type": "code",
   "execution_count": 76,
   "id": "9e7b3e15",
   "metadata": {},
   "outputs": [
    {
     "data": {
      "text/plain": [
       "array([1., 0., 0., ..., 0., 0., 0.])"
      ]
     },
     "execution_count": 76,
     "metadata": {},
     "output_type": "execute_result"
    }
   ],
   "source": [
    "y_pred_lr=lr.predict(test_x)\n",
    "y_pred_lr"
   ]
  },
  {
   "cell_type": "code",
   "execution_count": 77,
   "id": "c19fac80",
   "metadata": {},
   "outputs": [],
   "source": [
    "test_id=d2c_test[\"id\"]\n",
    "test_pred=pd.DataFrame(y_pred_lr,columns=[\"buy\"])"
   ]
  },
  {
   "cell_type": "code",
   "execution_count": 78,
   "id": "f61f3ebb",
   "metadata": {},
   "outputs": [],
   "source": [
    "test_pred[\"buy\"]=test_pred[\"buy\"].apply(lambda x:int(x))"
   ]
  },
  {
   "cell_type": "markdown",
   "id": "bf07b175",
   "metadata": {},
   "source": [
    "##  Arranging the output in a proper dataframe"
   ]
  },
  {
   "cell_type": "code",
   "execution_count": 79,
   "id": "34673eac",
   "metadata": {},
   "outputs": [
    {
     "data": {
      "text/html": [
       "<div>\n",
       "<style scoped>\n",
       "    .dataframe tbody tr th:only-of-type {\n",
       "        vertical-align: middle;\n",
       "    }\n",
       "\n",
       "    .dataframe tbody tr th {\n",
       "        vertical-align: top;\n",
       "    }\n",
       "\n",
       "    .dataframe thead th {\n",
       "        text-align: right;\n",
       "    }\n",
       "</style>\n",
       "<table border=\"1\" class=\"dataframe\">\n",
       "  <thead>\n",
       "    <tr style=\"text-align: right;\">\n",
       "      <th></th>\n",
       "      <th>id</th>\n",
       "      <th>buy</th>\n",
       "    </tr>\n",
       "  </thead>\n",
       "  <tbody>\n",
       "    <tr>\n",
       "      <th>0</th>\n",
       "      <td>39162</td>\n",
       "      <td>1</td>\n",
       "    </tr>\n",
       "    <tr>\n",
       "      <th>1</th>\n",
       "      <td>39163</td>\n",
       "      <td>0</td>\n",
       "    </tr>\n",
       "    <tr>\n",
       "      <th>2</th>\n",
       "      <td>39164</td>\n",
       "      <td>0</td>\n",
       "    </tr>\n",
       "    <tr>\n",
       "      <th>3</th>\n",
       "      <td>39165</td>\n",
       "      <td>1</td>\n",
       "    </tr>\n",
       "    <tr>\n",
       "      <th>4</th>\n",
       "      <td>39166</td>\n",
       "      <td>0</td>\n",
       "    </tr>\n",
       "    <tr>\n",
       "      <th>...</th>\n",
       "      <td>...</td>\n",
       "      <td>...</td>\n",
       "    </tr>\n",
       "    <tr>\n",
       "      <th>13179</th>\n",
       "      <td>52341</td>\n",
       "      <td>0</td>\n",
       "    </tr>\n",
       "    <tr>\n",
       "      <th>13180</th>\n",
       "      <td>52342</td>\n",
       "      <td>0</td>\n",
       "    </tr>\n",
       "    <tr>\n",
       "      <th>13181</th>\n",
       "      <td>52343</td>\n",
       "      <td>0</td>\n",
       "    </tr>\n",
       "    <tr>\n",
       "      <th>13182</th>\n",
       "      <td>52344</td>\n",
       "      <td>0</td>\n",
       "    </tr>\n",
       "    <tr>\n",
       "      <th>13183</th>\n",
       "      <td>52345</td>\n",
       "      <td>0</td>\n",
       "    </tr>\n",
       "  </tbody>\n",
       "</table>\n",
       "<p>13184 rows × 2 columns</p>\n",
       "</div>"
      ],
      "text/plain": [
       "          id  buy\n",
       "0      39162    1\n",
       "1      39163    0\n",
       "2      39164    0\n",
       "3      39165    1\n",
       "4      39166    0\n",
       "...      ...  ...\n",
       "13179  52341    0\n",
       "13180  52342    0\n",
       "13181  52343    0\n",
       "13182  52344    0\n",
       "13183  52345    0\n",
       "\n",
       "[13184 rows x 2 columns]"
      ]
     },
     "execution_count": 79,
     "metadata": {},
     "output_type": "execute_result"
    }
   ],
   "source": [
    "prediction_lr=pd.concat([test_id,test_pred],axis=1)\n",
    "prediction_lr"
   ]
  },
  {
   "cell_type": "markdown",
   "id": "63361fbd",
   "metadata": {},
   "source": [
    "## Getting Value count of the predicted potential lead"
   ]
  },
  {
   "cell_type": "code",
   "execution_count": 80,
   "id": "3facdddf",
   "metadata": {},
   "outputs": [
    {
     "data": {
      "text/plain": [
       "0    12882\n",
       "1      302\n",
       "Name: buy, dtype: int64"
      ]
     },
     "execution_count": 80,
     "metadata": {},
     "output_type": "execute_result"
    }
   ],
   "source": [
    "prediction_lr[\"buy\"].value_counts()"
   ]
  },
  {
   "cell_type": "markdown",
   "id": "a89fd3df",
   "metadata": {},
   "source": [
    "## Exporting the predicted potential lead output into a .csv file"
   ]
  },
  {
   "cell_type": "code",
   "execution_count": 82,
   "id": "4a521c8a",
   "metadata": {},
   "outputs": [],
   "source": [
    "prediction_lr.to_csv(\"Predicted D2C 'buy_cust' using LogisticOG.csv\", index=False)"
   ]
  },
  {
   "cell_type": "markdown",
   "id": "c7cc8d02",
   "metadata": {},
   "source": [
    "#### Uploaded the output file on the website and recieved a score=0.691131498470948 "
   ]
  },
  {
   "cell_type": "markdown",
   "id": "9fd21b85",
   "metadata": {},
   "source": [
    "# ---------------------------------------------------------------------------------------------------------"
   ]
  },
  {
   "cell_type": "markdown",
   "id": "2a737794",
   "metadata": {},
   "source": [
    "# *** Random Forest Algorithm"
   ]
  },
  {
   "cell_type": "markdown",
   "id": "eaaae7e1",
   "metadata": {},
   "source": [
    "#### Using Random Forest to improve the score and rank on the Website"
   ]
  },
  {
   "cell_type": "code",
   "execution_count": 83,
   "id": "2fc1df6f",
   "metadata": {},
   "outputs": [
    {
     "data": {
      "text/plain": [
       "RandomForestClassifier(n_estimators=60, random_state=0)"
      ]
     },
     "execution_count": 83,
     "metadata": {},
     "output_type": "execute_result"
    }
   ],
   "source": [
    "from sklearn.ensemble import RandomForestClassifier\n",
    "rfc=RandomForestClassifier(n_estimators=60, random_state=0)\n",
    "rfc.fit(train_x, train_y)"
   ]
  },
  {
   "cell_type": "markdown",
   "id": "86d81715",
   "metadata": {},
   "source": [
    "## Predicting the output using test data"
   ]
  },
  {
   "cell_type": "code",
   "execution_count": 84,
   "id": "e922b600",
   "metadata": {},
   "outputs": [],
   "source": [
    "y_pred_rfc=rfc.predict(test_x)"
   ]
  },
  {
   "cell_type": "code",
   "execution_count": 85,
   "id": "53a7684a",
   "metadata": {},
   "outputs": [],
   "source": [
    "test_pred_rfc=pd.DataFrame(y_pred_rfc,columns=[\"buy\"])"
   ]
  },
  {
   "cell_type": "code",
   "execution_count": 86,
   "id": "bac86228",
   "metadata": {},
   "outputs": [],
   "source": [
    "test_pred_rfc[\"buy\"]=test_pred_rfc[\"buy\"].apply(lambda x:int(x))"
   ]
  },
  {
   "cell_type": "markdown",
   "id": "5e6a4ac0",
   "metadata": {},
   "source": [
    "## Arranging the output in a proper dataframe"
   ]
  },
  {
   "cell_type": "code",
   "execution_count": 87,
   "id": "79620f9e",
   "metadata": {},
   "outputs": [
    {
     "data": {
      "text/html": [
       "<div>\n",
       "<style scoped>\n",
       "    .dataframe tbody tr th:only-of-type {\n",
       "        vertical-align: middle;\n",
       "    }\n",
       "\n",
       "    .dataframe tbody tr th {\n",
       "        vertical-align: top;\n",
       "    }\n",
       "\n",
       "    .dataframe thead th {\n",
       "        text-align: right;\n",
       "    }\n",
       "</style>\n",
       "<table border=\"1\" class=\"dataframe\">\n",
       "  <thead>\n",
       "    <tr style=\"text-align: right;\">\n",
       "      <th></th>\n",
       "      <th>id</th>\n",
       "      <th>buy</th>\n",
       "    </tr>\n",
       "  </thead>\n",
       "  <tbody>\n",
       "    <tr>\n",
       "      <th>0</th>\n",
       "      <td>39162</td>\n",
       "      <td>1</td>\n",
       "    </tr>\n",
       "    <tr>\n",
       "      <th>1</th>\n",
       "      <td>39163</td>\n",
       "      <td>0</td>\n",
       "    </tr>\n",
       "    <tr>\n",
       "      <th>2</th>\n",
       "      <td>39164</td>\n",
       "      <td>0</td>\n",
       "    </tr>\n",
       "    <tr>\n",
       "      <th>3</th>\n",
       "      <td>39165</td>\n",
       "      <td>1</td>\n",
       "    </tr>\n",
       "    <tr>\n",
       "      <th>4</th>\n",
       "      <td>39166</td>\n",
       "      <td>0</td>\n",
       "    </tr>\n",
       "    <tr>\n",
       "      <th>...</th>\n",
       "      <td>...</td>\n",
       "      <td>...</td>\n",
       "    </tr>\n",
       "    <tr>\n",
       "      <th>13179</th>\n",
       "      <td>52341</td>\n",
       "      <td>0</td>\n",
       "    </tr>\n",
       "    <tr>\n",
       "      <th>13180</th>\n",
       "      <td>52342</td>\n",
       "      <td>0</td>\n",
       "    </tr>\n",
       "    <tr>\n",
       "      <th>13181</th>\n",
       "      <td>52343</td>\n",
       "      <td>0</td>\n",
       "    </tr>\n",
       "    <tr>\n",
       "      <th>13182</th>\n",
       "      <td>52344</td>\n",
       "      <td>0</td>\n",
       "    </tr>\n",
       "    <tr>\n",
       "      <th>13183</th>\n",
       "      <td>52345</td>\n",
       "      <td>0</td>\n",
       "    </tr>\n",
       "  </tbody>\n",
       "</table>\n",
       "<p>13184 rows × 2 columns</p>\n",
       "</div>"
      ],
      "text/plain": [
       "          id  buy\n",
       "0      39162    1\n",
       "1      39163    0\n",
       "2      39164    0\n",
       "3      39165    1\n",
       "4      39166    0\n",
       "...      ...  ...\n",
       "13179  52341    0\n",
       "13180  52342    0\n",
       "13181  52343    0\n",
       "13182  52344    0\n",
       "13183  52345    0\n",
       "\n",
       "[13184 rows x 2 columns]"
      ]
     },
     "execution_count": 87,
     "metadata": {},
     "output_type": "execute_result"
    }
   ],
   "source": [
    "prediction_rfc=pd.concat([test_id,test_pred_rfc],axis=1)\n",
    "prediction_rfc"
   ]
  },
  {
   "cell_type": "markdown",
   "id": "5398f74a",
   "metadata": {},
   "source": [
    "## Getting Value count of the predicted potential lead"
   ]
  },
  {
   "cell_type": "code",
   "execution_count": 88,
   "id": "d17f7946",
   "metadata": {},
   "outputs": [
    {
     "data": {
      "text/plain": [
       "0    12807\n",
       "1      377\n",
       "Name: buy, dtype: int64"
      ]
     },
     "execution_count": 88,
     "metadata": {},
     "output_type": "execute_result"
    }
   ],
   "source": [
    "prediction_rfc[\"buy\"].value_counts()"
   ]
  },
  {
   "cell_type": "markdown",
   "id": "57a53d80",
   "metadata": {},
   "source": [
    "## Exporting the predicted potential lead output into a .csv file"
   ]
  },
  {
   "cell_type": "code",
   "execution_count": 89,
   "id": "17c429f0",
   "metadata": {},
   "outputs": [],
   "source": [
    "prediction_rfc.to_csv(\"Predicted D2C 'buy_cust'OG using RandomForest(60).csv\", index=False)"
   ]
  },
  {
   "cell_type": "markdown",
   "id": "40411ed6",
   "metadata": {},
   "source": [
    "#### Uploaded the output on the website and recieved score=0.711484593837535"
   ]
  },
  {
   "cell_type": "markdown",
   "id": "61d7d487",
   "metadata": {},
   "source": [
    "# ----*Validating No of Estimators for Random Forest Algorithm---"
   ]
  },
  {
   "cell_type": "markdown",
   "id": "bf4ee968",
   "metadata": {},
   "source": [
    "### Importing train_test_split and f1_score from the packages"
   ]
  },
  {
   "cell_type": "code",
   "execution_count": 81,
   "id": "6681c9f6",
   "metadata": {},
   "outputs": [],
   "source": [
    "from sklearn.model_selection import train_test_split\n",
    "from sklearn.metrics import f1_score"
   ]
  },
  {
   "cell_type": "markdown",
   "id": "34b930bb",
   "metadata": {},
   "source": [
    "### Splitting original train data into 80%-train and 20%-test data for analysing the estimator"
   ]
  },
  {
   "cell_type": "code",
   "execution_count": 113,
   "id": "543f357d",
   "metadata": {},
   "outputs": [],
   "source": [
    "tr_x, tst_x, tr_y, tst_y = train_test_split(train_x,train_y, train_size=0.8)"
   ]
  },
  {
   "cell_type": "markdown",
   "id": "132ed5bf",
   "metadata": {},
   "source": [
    "### Using for loop assign the estimators and f1-score obtained to 'est' and 'f1' to fetch the series of values"
   ]
  },
  {
   "cell_type": "code",
   "execution_count": 114,
   "id": "3b62384c",
   "metadata": {},
   "outputs": [],
   "source": [
    "est=[]\n",
    "f1=[]\n",
    "for i in range(1,101):\n",
    "    rfc=RandomForestClassifier(n_estimators=i, random_state=0)\n",
    "    rfc.fit(tr_x,tr_y)\n",
    "    \n",
    "    pr=rfc.predict(tst_x)\n",
    "    f1s= f1_score(tst_y, pr)\n",
    "    est.append(i)\n",
    "    f1.append(f1s)"
   ]
  },
  {
   "cell_type": "code",
   "execution_count": 115,
   "id": "58fa5c4c",
   "metadata": {},
   "outputs": [],
   "source": [
    "dt={\"Estimator\":est, \"F1 Score\":f1}"
   ]
  },
  {
   "cell_type": "code",
   "execution_count": 116,
   "id": "4f7284ba",
   "metadata": {},
   "outputs": [
    {
     "data": {
      "text/html": [
       "<div>\n",
       "<style scoped>\n",
       "    .dataframe tbody tr th:only-of-type {\n",
       "        vertical-align: middle;\n",
       "    }\n",
       "\n",
       "    .dataframe tbody tr th {\n",
       "        vertical-align: top;\n",
       "    }\n",
       "\n",
       "    .dataframe thead th {\n",
       "        text-align: right;\n",
       "    }\n",
       "</style>\n",
       "<table border=\"1\" class=\"dataframe\">\n",
       "  <thead>\n",
       "    <tr style=\"text-align: right;\">\n",
       "      <th></th>\n",
       "      <th>Estimator</th>\n",
       "      <th>F1 Score</th>\n",
       "    </tr>\n",
       "  </thead>\n",
       "  <tbody>\n",
       "    <tr>\n",
       "      <th>0</th>\n",
       "      <td>1</td>\n",
       "      <td>0.555256</td>\n",
       "    </tr>\n",
       "    <tr>\n",
       "      <th>1</th>\n",
       "      <td>2</td>\n",
       "      <td>0.614876</td>\n",
       "    </tr>\n",
       "    <tr>\n",
       "      <th>2</th>\n",
       "      <td>3</td>\n",
       "      <td>0.613534</td>\n",
       "    </tr>\n",
       "    <tr>\n",
       "      <th>3</th>\n",
       "      <td>4</td>\n",
       "      <td>0.632091</td>\n",
       "    </tr>\n",
       "    <tr>\n",
       "      <th>4</th>\n",
       "      <td>5</td>\n",
       "      <td>0.631741</td>\n",
       "    </tr>\n",
       "    <tr>\n",
       "      <th>...</th>\n",
       "      <td>...</td>\n",
       "      <td>...</td>\n",
       "    </tr>\n",
       "    <tr>\n",
       "      <th>95</th>\n",
       "      <td>96</td>\n",
       "      <td>0.651540</td>\n",
       "    </tr>\n",
       "    <tr>\n",
       "      <th>96</th>\n",
       "      <td>97</td>\n",
       "      <td>0.651540</td>\n",
       "    </tr>\n",
       "    <tr>\n",
       "      <th>97</th>\n",
       "      <td>98</td>\n",
       "      <td>0.651540</td>\n",
       "    </tr>\n",
       "    <tr>\n",
       "      <th>98</th>\n",
       "      <td>99</td>\n",
       "      <td>0.651540</td>\n",
       "    </tr>\n",
       "    <tr>\n",
       "      <th>99</th>\n",
       "      <td>100</td>\n",
       "      <td>0.651540</td>\n",
       "    </tr>\n",
       "  </tbody>\n",
       "</table>\n",
       "<p>100 rows × 2 columns</p>\n",
       "</div>"
      ],
      "text/plain": [
       "    Estimator  F1 Score\n",
       "0           1  0.555256\n",
       "1           2  0.614876\n",
       "2           3  0.613534\n",
       "3           4  0.632091\n",
       "4           5  0.631741\n",
       "..        ...       ...\n",
       "95         96  0.651540\n",
       "96         97  0.651540\n",
       "97         98  0.651540\n",
       "98         99  0.651540\n",
       "99        100  0.651540\n",
       "\n",
       "[100 rows x 2 columns]"
      ]
     },
     "execution_count": 116,
     "metadata": {},
     "output_type": "execute_result"
    }
   ],
   "source": [
    "dt1=pd.DataFrame(dt)\n",
    "dt1"
   ]
  },
  {
   "cell_type": "markdown",
   "id": "d3fb4bc0",
   "metadata": {},
   "source": [
    "### Plotting the obtained f1-score to Estimator values and finding the best fit estimator"
   ]
  },
  {
   "cell_type": "code",
   "execution_count": 117,
   "id": "9b37eb23",
   "metadata": {},
   "outputs": [
    {
     "data": {
      "text/plain": [
       "[<matplotlib.lines.Line2D at 0x2c0c44eef70>]"
      ]
     },
     "execution_count": 117,
     "metadata": {},
     "output_type": "execute_result"
    },
    {
     "data": {
      "image/png": "[encoded data removed]",
      "text/plain": [
       "<Figure size 1080x720 with 1 Axes>"
      ]
     },
     "metadata": {
      "needs_background": "light"
     },
     "output_type": "display_data"
    }
   ],
   "source": [
    "plt.figure(figsize=(15,10))\n",
    "plt.plot(dt1[\"Estimator\"],dt1[\"F1 Score\"])"
   ]
  },
  {
   "cell_type": "markdown",
   "id": "e9a440dd",
   "metadata": {},
   "source": [
    "### As per the graph the best fit for estimator =60 and hence updated the same in the original Random Forest Algorithm"
   ]
  },
  {
   "cell_type": "markdown",
   "id": "b36b8ac6",
   "metadata": {},
   "source": [
    "# --------------------------------------------------------------------------------------------------------"
   ]
  },
  {
   "cell_type": "markdown",
   "id": "16169d2d",
   "metadata": {},
   "source": [
    "# ***Decision Tree Model"
   ]
  },
  {
   "cell_type": "markdown",
   "id": "49a3cbb7",
   "metadata": {},
   "source": [
    "## In order to improve the rank further trying to use Decision Tree Algorithm"
   ]
  },
  {
   "cell_type": "code",
   "execution_count": 214,
   "id": "28c720d8",
   "metadata": {},
   "outputs": [
    {
     "data": {
      "text/plain": [
       "DecisionTreeClassifier()"
      ]
     },
     "execution_count": 214,
     "metadata": {},
     "output_type": "execute_result"
    }
   ],
   "source": [
    "from sklearn.tree import DecisionTreeClassifier\n",
    "dtc=DecisionTreeClassifier()\n",
    "dtc.fit(train_x,train_y)"
   ]
  },
  {
   "cell_type": "markdown",
   "id": "8dd2b8cf",
   "metadata": {},
   "source": [
    "## Predicting the output using test data"
   ]
  },
  {
   "cell_type": "code",
   "execution_count": 215,
   "id": "33020f55",
   "metadata": {},
   "outputs": [],
   "source": [
    "y_pred_dt=dtc.predict(test_x)"
   ]
  },
  {
   "cell_type": "code",
   "execution_count": 216,
   "id": "7b45bc85",
   "metadata": {},
   "outputs": [],
   "source": [
    "test_pred_dt=pd.DataFrame(y_pred_dt,columns=[\"buy\"])"
   ]
  },
  {
   "cell_type": "code",
   "execution_count": 217,
   "id": "03b59544",
   "metadata": {},
   "outputs": [],
   "source": [
    "test_pred_dt[\"buy\"]=test_pred_dt[\"buy\"].apply(lambda x:int(x))"
   ]
  },
  {
   "cell_type": "markdown",
   "id": "4ebde794",
   "metadata": {},
   "source": [
    "## Arranging the output in a proper dataframe"
   ]
  },
  {
   "cell_type": "code",
   "execution_count": 218,
   "id": "8105ac5b",
   "metadata": {},
   "outputs": [
    {
     "data": {
      "text/html": [
       "<div>\n",
       "<style scoped>\n",
       "    .dataframe tbody tr th:only-of-type {\n",
       "        vertical-align: middle;\n",
       "    }\n",
       "\n",
       "    .dataframe tbody tr th {\n",
       "        vertical-align: top;\n",
       "    }\n",
       "\n",
       "    .dataframe thead th {\n",
       "        text-align: right;\n",
       "    }\n",
       "</style>\n",
       "<table border=\"1\" class=\"dataframe\">\n",
       "  <thead>\n",
       "    <tr style=\"text-align: right;\">\n",
       "      <th></th>\n",
       "      <th>id</th>\n",
       "      <th>buy</th>\n",
       "    </tr>\n",
       "  </thead>\n",
       "  <tbody>\n",
       "    <tr>\n",
       "      <th>0</th>\n",
       "      <td>39162</td>\n",
       "      <td>1</td>\n",
       "    </tr>\n",
       "    <tr>\n",
       "      <th>1</th>\n",
       "      <td>39163</td>\n",
       "      <td>0</td>\n",
       "    </tr>\n",
       "    <tr>\n",
       "      <th>2</th>\n",
       "      <td>39164</td>\n",
       "      <td>0</td>\n",
       "    </tr>\n",
       "    <tr>\n",
       "      <th>3</th>\n",
       "      <td>39165</td>\n",
       "      <td>1</td>\n",
       "    </tr>\n",
       "    <tr>\n",
       "      <th>4</th>\n",
       "      <td>39166</td>\n",
       "      <td>0</td>\n",
       "    </tr>\n",
       "    <tr>\n",
       "      <th>...</th>\n",
       "      <td>...</td>\n",
       "      <td>...</td>\n",
       "    </tr>\n",
       "    <tr>\n",
       "      <th>13179</th>\n",
       "      <td>52341</td>\n",
       "      <td>0</td>\n",
       "    </tr>\n",
       "    <tr>\n",
       "      <th>13180</th>\n",
       "      <td>52342</td>\n",
       "      <td>0</td>\n",
       "    </tr>\n",
       "    <tr>\n",
       "      <th>13181</th>\n",
       "      <td>52343</td>\n",
       "      <td>0</td>\n",
       "    </tr>\n",
       "    <tr>\n",
       "      <th>13182</th>\n",
       "      <td>52344</td>\n",
       "      <td>0</td>\n",
       "    </tr>\n",
       "    <tr>\n",
       "      <th>13183</th>\n",
       "      <td>52345</td>\n",
       "      <td>0</td>\n",
       "    </tr>\n",
       "  </tbody>\n",
       "</table>\n",
       "<p>13184 rows × 2 columns</p>\n",
       "</div>"
      ],
      "text/plain": [
       "          id  buy\n",
       "0      39162    1\n",
       "1      39163    0\n",
       "2      39164    0\n",
       "3      39165    1\n",
       "4      39166    0\n",
       "...      ...  ...\n",
       "13179  52341    0\n",
       "13180  52342    0\n",
       "13181  52343    0\n",
       "13182  52344    0\n",
       "13183  52345    0\n",
       "\n",
       "[13184 rows x 2 columns]"
      ]
     },
     "execution_count": 218,
     "metadata": {},
     "output_type": "execute_result"
    }
   ],
   "source": [
    "prediction_dt=pd.concat([test_id,test_pred_dt],axis=1)\n",
    "prediction_dt"
   ]
  },
  {
   "cell_type": "markdown",
   "id": "78a13081",
   "metadata": {},
   "source": [
    "## Getting Value count of the predicted potential lead"
   ]
  },
  {
   "cell_type": "code",
   "execution_count": 219,
   "id": "4f37575a",
   "metadata": {},
   "outputs": [
    {
     "data": {
      "text/plain": [
       "0    12549\n",
       "1      635\n",
       "Name: buy, dtype: int64"
      ]
     },
     "execution_count": 219,
     "metadata": {},
     "output_type": "execute_result"
    }
   ],
   "source": [
    "prediction_dt[\"buy\"].value_counts()"
   ]
  },
  {
   "cell_type": "markdown",
   "id": "ac4c0b8f",
   "metadata": {},
   "source": [
    "## Exporting the predicted potential lead output into a .csv file"
   ]
  },
  {
   "cell_type": "code",
   "execution_count": 242,
   "id": "bbb40fd0",
   "metadata": {},
   "outputs": [],
   "source": [
    "prediction_dt.to_csv(\"Predicted D2C 'buy_cust'OG using DecisionTree.csv\", index=False)"
   ]
  },
  {
   "cell_type": "markdown",
   "id": "e8f1859d",
   "metadata": {},
   "source": [
    "#### Uploaded the output on the website and recieved score=0.565217391304348\n",
    "#### As the score decreased dractically, I can conclude that Decision Tree Algorithm is not useful for this data."
   ]
  },
  {
   "cell_type": "markdown",
   "id": "9ebe32a6",
   "metadata": {},
   "source": [
    "# --------------------------------------------------------------------------------------------------------"
   ]
  },
  {
   "cell_type": "markdown",
   "id": "90333aac",
   "metadata": {},
   "source": [
    "# ***Adaboost Classifier"
   ]
  },
  {
   "cell_type": "markdown",
   "id": "ae85a7d9",
   "metadata": {},
   "source": [
    "## In order to improve the rank further trying to use 'Adaboost' Boosting Algorithm"
   ]
  },
  {
   "cell_type": "code",
   "execution_count": 373,
   "id": "5740a7f1",
   "metadata": {},
   "outputs": [
    {
     "data": {
      "text/plain": [
       "AdaBoostClassifier(n_estimators=45, random_state=1)"
      ]
     },
     "execution_count": 373,
     "metadata": {},
     "output_type": "execute_result"
    }
   ],
   "source": [
    "from sklearn.ensemble import AdaBoostClassifier\n",
    "abc=AdaBoostClassifier(random_state=1,n_estimators=45)\n",
    "abc.fit(train_x,train_y)"
   ]
  },
  {
   "cell_type": "markdown",
   "id": "868d3a9d",
   "metadata": {},
   "source": [
    "## Predicting the output using test data"
   ]
  },
  {
   "cell_type": "code",
   "execution_count": 374,
   "id": "f6c20b23",
   "metadata": {},
   "outputs": [],
   "source": [
    "abc_pred=abc.predict(test_x)"
   ]
  },
  {
   "cell_type": "code",
   "execution_count": 375,
   "id": "d798185c",
   "metadata": {},
   "outputs": [],
   "source": [
    "test_pred_abc=pd.DataFrame(abc_pred,columns=[\"buy\"])"
   ]
  },
  {
   "cell_type": "code",
   "execution_count": 376,
   "id": "a499bc34",
   "metadata": {},
   "outputs": [],
   "source": [
    "test_pred_abc[\"buy\"]=test_pred_abc[\"buy\"].apply(lambda x:int(x))"
   ]
  },
  {
   "cell_type": "markdown",
   "id": "1422a1d1",
   "metadata": {},
   "source": [
    "##  Arranging the output in a proper dataframe"
   ]
  },
  {
   "cell_type": "code",
   "execution_count": 377,
   "id": "b5042110",
   "metadata": {},
   "outputs": [
    {
     "data": {
      "text/html": [
       "<div>\n",
       "<style scoped>\n",
       "    .dataframe tbody tr th:only-of-type {\n",
       "        vertical-align: middle;\n",
       "    }\n",
       "\n",
       "    .dataframe tbody tr th {\n",
       "        vertical-align: top;\n",
       "    }\n",
       "\n",
       "    .dataframe thead th {\n",
       "        text-align: right;\n",
       "    }\n",
       "</style>\n",
       "<table border=\"1\" class=\"dataframe\">\n",
       "  <thead>\n",
       "    <tr style=\"text-align: right;\">\n",
       "      <th></th>\n",
       "      <th>id</th>\n",
       "      <th>buy</th>\n",
       "    </tr>\n",
       "  </thead>\n",
       "  <tbody>\n",
       "    <tr>\n",
       "      <th>0</th>\n",
       "      <td>39162</td>\n",
       "      <td>1</td>\n",
       "    </tr>\n",
       "    <tr>\n",
       "      <th>1</th>\n",
       "      <td>39163</td>\n",
       "      <td>0</td>\n",
       "    </tr>\n",
       "    <tr>\n",
       "      <th>2</th>\n",
       "      <td>39164</td>\n",
       "      <td>0</td>\n",
       "    </tr>\n",
       "    <tr>\n",
       "      <th>3</th>\n",
       "      <td>39165</td>\n",
       "      <td>1</td>\n",
       "    </tr>\n",
       "    <tr>\n",
       "      <th>4</th>\n",
       "      <td>39166</td>\n",
       "      <td>0</td>\n",
       "    </tr>\n",
       "    <tr>\n",
       "      <th>...</th>\n",
       "      <td>...</td>\n",
       "      <td>...</td>\n",
       "    </tr>\n",
       "    <tr>\n",
       "      <th>13179</th>\n",
       "      <td>52341</td>\n",
       "      <td>0</td>\n",
       "    </tr>\n",
       "    <tr>\n",
       "      <th>13180</th>\n",
       "      <td>52342</td>\n",
       "      <td>0</td>\n",
       "    </tr>\n",
       "    <tr>\n",
       "      <th>13181</th>\n",
       "      <td>52343</td>\n",
       "      <td>0</td>\n",
       "    </tr>\n",
       "    <tr>\n",
       "      <th>13182</th>\n",
       "      <td>52344</td>\n",
       "      <td>0</td>\n",
       "    </tr>\n",
       "    <tr>\n",
       "      <th>13183</th>\n",
       "      <td>52345</td>\n",
       "      <td>0</td>\n",
       "    </tr>\n",
       "  </tbody>\n",
       "</table>\n",
       "<p>13184 rows × 2 columns</p>\n",
       "</div>"
      ],
      "text/plain": [
       "          id  buy\n",
       "0      39162    1\n",
       "1      39163    0\n",
       "2      39164    0\n",
       "3      39165    1\n",
       "4      39166    0\n",
       "...      ...  ...\n",
       "13179  52341    0\n",
       "13180  52342    0\n",
       "13181  52343    0\n",
       "13182  52344    0\n",
       "13183  52345    0\n",
       "\n",
       "[13184 rows x 2 columns]"
      ]
     },
     "execution_count": 377,
     "metadata": {},
     "output_type": "execute_result"
    }
   ],
   "source": [
    "prediction_abc=pd.concat([test_id,test_pred_abc],axis=1)\n",
    "prediction_abc"
   ]
  },
  {
   "cell_type": "markdown",
   "id": "ddc1ca20",
   "metadata": {},
   "source": [
    "## Getting Value count of the predicted potential lead"
   ]
  },
  {
   "cell_type": "code",
   "execution_count": 378,
   "id": "0f9d354a",
   "metadata": {},
   "outputs": [
    {
     "data": {
      "text/plain": [
       "0    12857\n",
       "1      327\n",
       "Name: buy, dtype: int64"
      ]
     },
     "execution_count": 378,
     "metadata": {},
     "output_type": "execute_result"
    }
   ],
   "source": [
    "prediction_abc[\"buy\"].value_counts()"
   ]
  },
  {
   "cell_type": "markdown",
   "id": "74d2d245",
   "metadata": {},
   "source": [
    "## Exporting the predicted potential lead output into a .csv file"
   ]
  },
  {
   "cell_type": "code",
   "execution_count": 379,
   "id": "6a15e3c3",
   "metadata": {},
   "outputs": [],
   "source": [
    "prediction_abc.to_csv(\"Predicted D2C 'buy_cust'OG using Adaboost(45).csv\", index=False)"
   ]
  },
  {
   "cell_type": "markdown",
   "id": "8579f63f",
   "metadata": {},
   "source": [
    "# Uploaded the output on the website and recieved score=0.750733137829912."
   ]
  },
  {
   "cell_type": "markdown",
   "id": "acdd2dfd",
   "metadata": {},
   "source": [
    "# ---* Validating Estimator for Adaboost-----"
   ]
  },
  {
   "cell_type": "code",
   "execution_count": 329,
   "id": "87673c95",
   "metadata": {},
   "outputs": [],
   "source": [
    "est=[]\n",
    "f1=[]\n",
    "for i in range(1,101):\n",
    "    abc=AdaBoostClassifier(n_estimators=i, random_state=0)\n",
    "    abc.fit(tr_x,tr_y)\n",
    "    \n",
    "    pr=abc.predict(tst_x)\n",
    "    f1s= f1_score(tst_y, pr)\n",
    "    est.append(i)\n",
    "    f1.append(f1s)"
   ]
  },
  {
   "cell_type": "code",
   "execution_count": 330,
   "id": "287e64be",
   "metadata": {},
   "outputs": [],
   "source": [
    "df={\"Estimator\":est, \"F1 Score\":f1}"
   ]
  },
  {
   "cell_type": "code",
   "execution_count": 331,
   "id": "034ad1e5",
   "metadata": {},
   "outputs": [
    {
     "data": {
      "text/html": [
       "<div>\n",
       "<style scoped>\n",
       "    .dataframe tbody tr th:only-of-type {\n",
       "        vertical-align: middle;\n",
       "    }\n",
       "\n",
       "    .dataframe tbody tr th {\n",
       "        vertical-align: top;\n",
       "    }\n",
       "\n",
       "    .dataframe thead th {\n",
       "        text-align: right;\n",
       "    }\n",
       "</style>\n",
       "<table border=\"1\" class=\"dataframe\">\n",
       "  <thead>\n",
       "    <tr style=\"text-align: right;\">\n",
       "      <th></th>\n",
       "      <th>Estimator</th>\n",
       "      <th>F1 Score</th>\n",
       "    </tr>\n",
       "  </thead>\n",
       "  <tbody>\n",
       "    <tr>\n",
       "      <th>0</th>\n",
       "      <td>1</td>\n",
       "      <td>0.341880</td>\n",
       "    </tr>\n",
       "    <tr>\n",
       "      <th>1</th>\n",
       "      <td>2</td>\n",
       "      <td>0.341880</td>\n",
       "    </tr>\n",
       "    <tr>\n",
       "      <th>2</th>\n",
       "      <td>3</td>\n",
       "      <td>0.341880</td>\n",
       "    </tr>\n",
       "    <tr>\n",
       "      <th>3</th>\n",
       "      <td>4</td>\n",
       "      <td>0.506616</td>\n",
       "    </tr>\n",
       "    <tr>\n",
       "      <th>4</th>\n",
       "      <td>5</td>\n",
       "      <td>0.509434</td>\n",
       "    </tr>\n",
       "    <tr>\n",
       "      <th>...</th>\n",
       "      <td>...</td>\n",
       "      <td>...</td>\n",
       "    </tr>\n",
       "    <tr>\n",
       "      <th>95</th>\n",
       "      <td>96</td>\n",
       "      <td>0.662207</td>\n",
       "    </tr>\n",
       "    <tr>\n",
       "      <th>96</th>\n",
       "      <td>97</td>\n",
       "      <td>0.659966</td>\n",
       "    </tr>\n",
       "    <tr>\n",
       "      <th>97</th>\n",
       "      <td>98</td>\n",
       "      <td>0.662207</td>\n",
       "    </tr>\n",
       "    <tr>\n",
       "      <th>98</th>\n",
       "      <td>99</td>\n",
       "      <td>0.659966</td>\n",
       "    </tr>\n",
       "    <tr>\n",
       "      <th>99</th>\n",
       "      <td>100</td>\n",
       "      <td>0.662207</td>\n",
       "    </tr>\n",
       "  </tbody>\n",
       "</table>\n",
       "<p>100 rows × 2 columns</p>\n",
       "</div>"
      ],
      "text/plain": [
       "    Estimator  F1 Score\n",
       "0           1  0.341880\n",
       "1           2  0.341880\n",
       "2           3  0.341880\n",
       "3           4  0.506616\n",
       "4           5  0.509434\n",
       "..        ...       ...\n",
       "95         96  0.662207\n",
       "96         97  0.659966\n",
       "97         98  0.662207\n",
       "98         99  0.659966\n",
       "99        100  0.662207\n",
       "\n",
       "[100 rows x 2 columns]"
      ]
     },
     "execution_count": 331,
     "metadata": {},
     "output_type": "execute_result"
    }
   ],
   "source": [
    "df1=pd.DataFrame(df)\n",
    "df1"
   ]
  },
  {
   "cell_type": "code",
   "execution_count": 332,
   "id": "2734bc5f",
   "metadata": {},
   "outputs": [
    {
     "data": {
      "text/plain": [
       "[<matplotlib.lines.Line2D at 0x2c0ddf12190>]"
      ]
     },
     "execution_count": 332,
     "metadata": {},
     "output_type": "execute_result"
    },
    {
     "data": {
      "image/png": "[encoded data removed]",
      "text/plain": [
       "<Figure size 1080x720 with 1 Axes>"
      ]
     },
     "metadata": {
      "needs_background": "light"
     },
     "output_type": "display_data"
    }
   ],
   "source": [
    "plt.figure(figsize=(15,10))\n",
    "plt.plot(df1[\"Estimator\"],df1[\"F1 Score\"])"
   ]
  },
  {
   "cell_type": "markdown",
   "id": "e75a38d1",
   "metadata": {},
   "source": [
    "# --------------------------------------------------------------------------------------------------------"
   ]
  },
  {
   "cell_type": "markdown",
   "id": "2a640ff3",
   "metadata": {},
   "source": [
    "# Gradient Boosting Classifier"
   ]
  },
  {
   "cell_type": "markdown",
   "id": "ad1f2691",
   "metadata": {},
   "source": [
    "## Using Gradient Boosting for improving score and rank"
   ]
  },
  {
   "cell_type": "code",
   "execution_count": 300,
   "id": "e433ae7b",
   "metadata": {},
   "outputs": [
    {
     "data": {
      "text/plain": [
       "GradientBoostingClassifier(n_estimators=150, random_state=0)"
      ]
     },
     "execution_count": 300,
     "metadata": {},
     "output_type": "execute_result"
    }
   ],
   "source": [
    "from sklearn.ensemble import GradientBoostingClassifier\n",
    "gbc=GradientBoostingClassifier(learning_rate=0.1, random_state=0, n_estimators=150)\n",
    "gbc.fit(train_x,train_y)"
   ]
  },
  {
   "cell_type": "code",
   "execution_count": 301,
   "id": "d1e48e2e",
   "metadata": {},
   "outputs": [],
   "source": [
    "gbc_pred=gbc.predict(test_x)"
   ]
  },
  {
   "cell_type": "code",
   "execution_count": 302,
   "id": "7eb80c6c",
   "metadata": {},
   "outputs": [],
   "source": [
    "test_pred_gbc=pd.DataFrame(gbc_pred,columns=[\"buy\"])"
   ]
  },
  {
   "cell_type": "code",
   "execution_count": 303,
   "id": "5f51afb8",
   "metadata": {},
   "outputs": [],
   "source": [
    "test_pred_gbc[\"buy\"]=test_pred_gbc[\"buy\"].apply(lambda x:int(x))"
   ]
  },
  {
   "cell_type": "code",
   "execution_count": 304,
   "id": "68f342b2",
   "metadata": {},
   "outputs": [
    {
     "data": {
      "text/html": [
       "<div>\n",
       "<style scoped>\n",
       "    .dataframe tbody tr th:only-of-type {\n",
       "        vertical-align: middle;\n",
       "    }\n",
       "\n",
       "    .dataframe tbody tr th {\n",
       "        vertical-align: top;\n",
       "    }\n",
       "\n",
       "    .dataframe thead th {\n",
       "        text-align: right;\n",
       "    }\n",
       "</style>\n",
       "<table border=\"1\" class=\"dataframe\">\n",
       "  <thead>\n",
       "    <tr style=\"text-align: right;\">\n",
       "      <th></th>\n",
       "      <th>id</th>\n",
       "      <th>buy</th>\n",
       "    </tr>\n",
       "  </thead>\n",
       "  <tbody>\n",
       "    <tr>\n",
       "      <th>0</th>\n",
       "      <td>39162</td>\n",
       "      <td>1</td>\n",
       "    </tr>\n",
       "    <tr>\n",
       "      <th>1</th>\n",
       "      <td>39163</td>\n",
       "      <td>0</td>\n",
       "    </tr>\n",
       "    <tr>\n",
       "      <th>2</th>\n",
       "      <td>39164</td>\n",
       "      <td>0</td>\n",
       "    </tr>\n",
       "    <tr>\n",
       "      <th>3</th>\n",
       "      <td>39165</td>\n",
       "      <td>1</td>\n",
       "    </tr>\n",
       "    <tr>\n",
       "      <th>4</th>\n",
       "      <td>39166</td>\n",
       "      <td>0</td>\n",
       "    </tr>\n",
       "    <tr>\n",
       "      <th>...</th>\n",
       "      <td>...</td>\n",
       "      <td>...</td>\n",
       "    </tr>\n",
       "    <tr>\n",
       "      <th>13179</th>\n",
       "      <td>52341</td>\n",
       "      <td>0</td>\n",
       "    </tr>\n",
       "    <tr>\n",
       "      <th>13180</th>\n",
       "      <td>52342</td>\n",
       "      <td>0</td>\n",
       "    </tr>\n",
       "    <tr>\n",
       "      <th>13181</th>\n",
       "      <td>52343</td>\n",
       "      <td>0</td>\n",
       "    </tr>\n",
       "    <tr>\n",
       "      <th>13182</th>\n",
       "      <td>52344</td>\n",
       "      <td>0</td>\n",
       "    </tr>\n",
       "    <tr>\n",
       "      <th>13183</th>\n",
       "      <td>52345</td>\n",
       "      <td>0</td>\n",
       "    </tr>\n",
       "  </tbody>\n",
       "</table>\n",
       "<p>13184 rows × 2 columns</p>\n",
       "</div>"
      ],
      "text/plain": [
       "          id  buy\n",
       "0      39162    1\n",
       "1      39163    0\n",
       "2      39164    0\n",
       "3      39165    1\n",
       "4      39166    0\n",
       "...      ...  ...\n",
       "13179  52341    0\n",
       "13180  52342    0\n",
       "13181  52343    0\n",
       "13182  52344    0\n",
       "13183  52345    0\n",
       "\n",
       "[13184 rows x 2 columns]"
      ]
     },
     "execution_count": 304,
     "metadata": {},
     "output_type": "execute_result"
    }
   ],
   "source": [
    "prediction_gbc=pd.concat([test_id,test_pred_gbc],axis=1)\n",
    "prediction_gbc"
   ]
  },
  {
   "cell_type": "code",
   "execution_count": 305,
   "id": "bf528c93",
   "metadata": {},
   "outputs": [
    {
     "data": {
      "text/plain": [
       "0    12835\n",
       "1      349\n",
       "Name: buy, dtype: int64"
      ]
     },
     "execution_count": 305,
     "metadata": {},
     "output_type": "execute_result"
    }
   ],
   "source": [
    "prediction_gbc[\"buy\"].value_counts()"
   ]
  },
  {
   "cell_type": "markdown",
   "id": "50fcfd03",
   "metadata": {},
   "source": [
    "## Exporting the predicted potential lead output into a .csv file"
   ]
  },
  {
   "cell_type": "code",
   "execution_count": 306,
   "id": "1d40a05e",
   "metadata": {},
   "outputs": [],
   "source": [
    "prediction_gbc.to_csv(\"Predicted D2C 'buy_cust'OG using GradientBoost(0.1,150).csv\", index=False)"
   ]
  },
  {
   "cell_type": "markdown",
   "id": "41ad1854",
   "metadata": {},
   "source": [
    "### Uploaded the output on the website and recieved score=0.742028985507246."
   ]
  },
  {
   "cell_type": "markdown",
   "id": "fb0513e1",
   "metadata": {},
   "source": [
    "# --------------------------------------------------------------------------------------------------------"
   ]
  },
  {
   "cell_type": "markdown",
   "id": "30c77fd6",
   "metadata": {},
   "source": [
    "# XGBoost"
   ]
  },
  {
   "cell_type": "markdown",
   "id": "e979600e",
   "metadata": {},
   "source": [
    "## Trying to use XGBoost Algorithm for improving the score further"
   ]
  },
  {
   "cell_type": "code",
   "execution_count": 307,
   "id": "f904640e",
   "metadata": {},
   "outputs": [],
   "source": [
    "import xgboost as xgb"
   ]
  },
  {
   "cell_type": "code",
   "execution_count": 322,
   "id": "fdf4a1e2",
   "metadata": {},
   "outputs": [
    {
     "name": "stdout",
     "output_type": "stream",
     "text": [
      "[21:20:32] WARNING: ..\\src\\learner.cc:1115: Starting in XGBoost 1.3.0, the default evaluation metric used with the objective 'binary:logistic' was changed from 'error' to 'logloss'. Explicitly set eval_metric if you'd like to restore the old behavior.\n"
     ]
    },
    {
     "data": {
      "text/plain": [
       "XGBClassifier(base_score=0.5, booster='gbtree', colsample_bylevel=1,\n",
       "              colsample_bynode=1, colsample_bytree=1, enable_categorical=False,\n",
       "              gamma=0, gpu_id=-1, importance_type=None,\n",
       "              interaction_constraints='', learning_rate=0.1, max_delta_step=0,\n",
       "              max_depth=6, min_child_weight=1, missing=nan,\n",
       "              monotone_constraints='()', n_estimators=100, n_jobs=4,\n",
       "              num_parallel_tree=1, predictor='auto', random_state=1,\n",
       "              reg_alpha=0, reg_lambda=1, scale_pos_weight=1, subsample=1,\n",
       "              tree_method='exact', validate_parameters=1, verbosity=None)"
      ]
     },
     "execution_count": 322,
     "metadata": {},
     "output_type": "execute_result"
    }
   ],
   "source": [
    "xb=xgb.XGBClassifier(random_state=1,learning_rate=0.01, )\n",
    "xb.fit(train_x,train_y)"
   ]
  },
  {
   "cell_type": "code",
   "execution_count": 323,
   "id": "7a724b1e",
   "metadata": {},
   "outputs": [],
   "source": [
    "xgb_pred=xb.predict(test_x)"
   ]
  },
  {
   "cell_type": "code",
   "execution_count": 324,
   "id": "19e20420",
   "metadata": {},
   "outputs": [],
   "source": [
    "test_pred_xgb=pd.DataFrame(xgb_pred,columns=[\"buy\"])"
   ]
  },
  {
   "cell_type": "code",
   "execution_count": 325,
   "id": "18590c44",
   "metadata": {},
   "outputs": [],
   "source": [
    "test_pred_xgb[\"buy\"]=test_pred_xgb[\"buy\"].apply(lambda x:int(x))"
   ]
  },
  {
   "cell_type": "code",
   "execution_count": 326,
   "id": "1f5ca8dc",
   "metadata": {},
   "outputs": [
    {
     "data": {
      "text/html": [
       "<div>\n",
       "<style scoped>\n",
       "    .dataframe tbody tr th:only-of-type {\n",
       "        vertical-align: middle;\n",
       "    }\n",
       "\n",
       "    .dataframe tbody tr th {\n",
       "        vertical-align: top;\n",
       "    }\n",
       "\n",
       "    .dataframe thead th {\n",
       "        text-align: right;\n",
       "    }\n",
       "</style>\n",
       "<table border=\"1\" class=\"dataframe\">\n",
       "  <thead>\n",
       "    <tr style=\"text-align: right;\">\n",
       "      <th></th>\n",
       "      <th>id</th>\n",
       "      <th>buy</th>\n",
       "    </tr>\n",
       "  </thead>\n",
       "  <tbody>\n",
       "    <tr>\n",
       "      <th>0</th>\n",
       "      <td>39162</td>\n",
       "      <td>1</td>\n",
       "    </tr>\n",
       "    <tr>\n",
       "      <th>1</th>\n",
       "      <td>39163</td>\n",
       "      <td>0</td>\n",
       "    </tr>\n",
       "    <tr>\n",
       "      <th>2</th>\n",
       "      <td>39164</td>\n",
       "      <td>0</td>\n",
       "    </tr>\n",
       "    <tr>\n",
       "      <th>3</th>\n",
       "      <td>39165</td>\n",
       "      <td>1</td>\n",
       "    </tr>\n",
       "    <tr>\n",
       "      <th>4</th>\n",
       "      <td>39166</td>\n",
       "      <td>0</td>\n",
       "    </tr>\n",
       "    <tr>\n",
       "      <th>...</th>\n",
       "      <td>...</td>\n",
       "      <td>...</td>\n",
       "    </tr>\n",
       "    <tr>\n",
       "      <th>13179</th>\n",
       "      <td>52341</td>\n",
       "      <td>0</td>\n",
       "    </tr>\n",
       "    <tr>\n",
       "      <th>13180</th>\n",
       "      <td>52342</td>\n",
       "      <td>0</td>\n",
       "    </tr>\n",
       "    <tr>\n",
       "      <th>13181</th>\n",
       "      <td>52343</td>\n",
       "      <td>0</td>\n",
       "    </tr>\n",
       "    <tr>\n",
       "      <th>13182</th>\n",
       "      <td>52344</td>\n",
       "      <td>0</td>\n",
       "    </tr>\n",
       "    <tr>\n",
       "      <th>13183</th>\n",
       "      <td>52345</td>\n",
       "      <td>0</td>\n",
       "    </tr>\n",
       "  </tbody>\n",
       "</table>\n",
       "<p>13184 rows × 2 columns</p>\n",
       "</div>"
      ],
      "text/plain": [
       "          id  buy\n",
       "0      39162    1\n",
       "1      39163    0\n",
       "2      39164    0\n",
       "3      39165    1\n",
       "4      39166    0\n",
       "...      ...  ...\n",
       "13179  52341    0\n",
       "13180  52342    0\n",
       "13181  52343    0\n",
       "13182  52344    0\n",
       "13183  52345    0\n",
       "\n",
       "[13184 rows x 2 columns]"
      ]
     },
     "execution_count": 326,
     "metadata": {},
     "output_type": "execute_result"
    }
   ],
   "source": [
    "prediction_xgb=pd.concat([test_id,test_pred_xgb],axis=1)\n",
    "prediction_xgb"
   ]
  },
  {
   "cell_type": "code",
   "execution_count": 327,
   "id": "7ab5ff45",
   "metadata": {},
   "outputs": [
    {
     "data": {
      "text/plain": [
       "0    12855\n",
       "1      329\n",
       "Name: buy, dtype: int64"
      ]
     },
     "execution_count": 327,
     "metadata": {},
     "output_type": "execute_result"
    }
   ],
   "source": [
    "prediction_xgb[\"buy\"].value_counts()"
   ]
  },
  {
   "cell_type": "markdown",
   "id": "c6b9fb71",
   "metadata": {},
   "source": [
    "## Exporting the predicted potential lead output into a .csv file"
   ]
  },
  {
   "cell_type": "code",
   "execution_count": 328,
   "id": "25da547e",
   "metadata": {},
   "outputs": [],
   "source": [
    "prediction_xgb.to_csv(\"Predicted D2C 'buy_cust'OG using XGB(0.1).csv\", index=False)"
   ]
  },
  {
   "cell_type": "markdown",
   "id": "53127547",
   "metadata": {},
   "source": [
    "### Uploaded the output on the website and recieved score=0.732142857142857."
   ]
  },
  {
   "cell_type": "markdown",
   "id": "38225dec",
   "metadata": {},
   "source": [
    "# AFTER USING ALL THE KNOWN ALGORTIHMS, THE BEST FIT ALGORITHM FOR THE GIVEN DATASET IS \"ADABOOST BOOSTING ALGORITHM\""
   ]
  },
  {
   "cell_type": "markdown",
   "id": "9be3e306",
   "metadata": {},
   "source": [
    "# THE FINAL SCORE USING THE BEST FIT ALGORITHM IS 0.750733137829912"
   ]
  },
  {
   "cell_type": "code",
   "execution_count": null,
   "id": "e5d52f9b",
   "metadata": {},
   "outputs": [],
   "source": []
  }
 ],
 "metadata": {
  "kernelspec": {
   "display_name": "Python 3 (ipykernel)",
   "language": "python",
   "name": "python3"
  },
  "language_info": {
   "codemirror_mode": {
    "name": "ipython",
    "version": 3
   },
   "file_extension": ".py",
   "mimetype": "text/x-python",
   "name": "python",
   "nbconvert_exporter": "python",
   "pygments_lexer": "ipython3",
   "version": "3.9.7"
  }
 },
 "nbformat": 4,
 "nbformat_minor": 5
}
